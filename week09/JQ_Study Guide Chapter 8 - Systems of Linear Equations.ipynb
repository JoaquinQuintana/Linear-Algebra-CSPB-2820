{
 "cells": [
  {
   "cell_type": "markdown",
   "id": "b42f3d18-ef46-4c48-aa83-3909a4ce0e2b",
   "metadata": {},
   "source": [
    "# 8.9 Required nutrients"
   ]
  },
  {
   "cell_type": "markdown",
   "id": "d748c0d4-5501-40a2-bb9f-99a1f9e1be96",
   "metadata": {},
   "source": [
    "First off this problem has a lot of information but can be distilled down to a few terms and a simple goal. \n",
    "\n",
    "The goal is to use the information about the matrix and the n-vector $d$ to output a m-vector which containes the total nutrients for a diet along with the budget for such a diet. We are provided the following informtaion... \n",
    "\n",
    "* $N_{i,j} = $ food $j$ has nutrients $i$ per **gram**. \n",
    "\n",
    "* $c_j = $ the cost of food $j$ (in some unit like **dollars/gram**)\n",
    "\n",
    "* $d$ is an $n$-vector which represents a daily diet and each $d_i$ the daily nutritional intake in grams of foods in row $i$. __something feels off here they say food i but above they talk about food j? Do they mean row i?__\n",
    "\n",
    "__Dimensional analysis__\n",
    "\n",
    "Just from what we are given we know that for row 1 the nutritional value is $d_1^{des} = N_{1,n}@d$. This is, the inner product of a matrix and a n-vector can be computed by simply taking the inner product of each row of the matrix with the n-vector.  See second cell below this one to see example which shows this. "
   ]
  },
  {
   "cell_type": "code",
   "execution_count": 1,
   "id": "9a1da057-d525-4419-8675-60764d4261c0",
   "metadata": {},
   "outputs": [
    {
     "name": "stdout",
     "output_type": "stream",
     "text": [
      "[[ 61.   35.  167.   39.    1. ]\n",
      " [105.   38.   69.   94.   86. ]\n",
      " [ 81.  159.   82.  169.  138. ]\n",
      " [ 69.   46.   59.  100.   69. ]\n",
      " [  5.   35.  425.    0.5  12. ]] [ 1 20  1 30  3]\n"
     ]
    }
   ],
   "source": [
    "import pandas as pd \n",
    "import numpy as np\n",
    "\n",
    "N = np.random.randint(200, size=(4, 5)) #create a matrix A of size m * n.\n",
    "#append the n-vector c to N as the last row. \n",
    "c = np.array([5,35,425,.50,12])\n",
    "A = np.vstack([N,c])\n",
    "#create the n-vector d which is the gram of nutrients\n",
    "d = np.array([1,20,1,30,3]) #set grams of nutrients to range between 1 and 30. \n",
    "print(A,d)"
   ]
  },
  {
   "cell_type": "code",
   "execution_count": 2,
   "id": "588f4abc-1648-48c2-bb69-e88b3c149a3a",
   "metadata": {},
   "outputs": [
    {
     "name": "stdout",
     "output_type": "stream",
     "text": [
      "[ True  True  True  True  True]\n"
     ]
    }
   ],
   "source": [
    "# compute inner product of matrix A and n-vector c\n",
    "y = A@d\n",
    "\n",
    "#compute the inner product for each row of the matix with the n-vector d\n",
    "byRow = []\n",
    "for i in range(5):\n",
    "    byRow.append(A[i][:]@d)\n",
    "#show the results are the same \n",
    "print(byRow==y)"
   ]
  },
  {
   "cell_type": "markdown",
   "id": "040619cf-a9f9-4d33-aa29-d8d8683a1dd0",
   "metadata": {},
   "source": [
    "Next we see the n-vector $d$ has units for the daily intake in grams while the $n$-vector $c$ and the matirx $N$ both have grams in the denominator for their units. With a little dimensional analysis we see that $N_{i,j}*d_i = \\frac{nutrients}{grams} * grams = nutrients$ for food $j$. By taking the inner product row wise we see we compute the nutritents for each food $j$ in row $i$ and this is the daily intake in grams for the foods in row $i$. By appending $c$ to matrix N, call this new matrix A, and taking the inner product of A and x we also compute the budget B. This is, B is computes as the last entry in the output n-vector $n^{des}$ as each $c_i$ has units $\\frac {currency}{gram}$. So by dimensional analysis we see that if we place $c$ as the last row of the matrix A with N stacked above C, we get $B = A[n][:]@d$ and each $n_i^{des} = A[i][:]@d$ with $i$ going up to $n-1$. \n",
    "\n",
    "Here is a little python codes trying to show this. "
   ]
  },
  {
   "cell_type": "code",
   "execution_count": 3,
   "id": "cc827ca5-561c-447e-a6d2-246cabaaf00e",
   "metadata": {},
   "outputs": [
    {
     "data": {
      "text/html": [
       "<div>\n",
       "<style scoped>\n",
       "    .dataframe tbody tr th:only-of-type {\n",
       "        vertical-align: middle;\n",
       "    }\n",
       "\n",
       "    .dataframe tbody tr th {\n",
       "        vertical-align: top;\n",
       "    }\n",
       "\n",
       "    .dataframe thead th {\n",
       "        text-align: right;\n",
       "    }\n",
       "</style>\n",
       "<table border=\"1\" class=\"dataframe\">\n",
       "  <thead>\n",
       "    <tr style=\"text-align: right;\">\n",
       "      <th></th>\n",
       "      <th>Chicken</th>\n",
       "      <th>NY Strip Steak</th>\n",
       "      <th>Baby Formula</th>\n",
       "      <th>Bananas</th>\n",
       "      <th>Beer</th>\n",
       "      <th>n-vector d</th>\n",
       "      <th>nDes = A@d</th>\n",
       "    </tr>\n",
       "  </thead>\n",
       "  <tbody>\n",
       "    <tr>\n",
       "      <th>Nutrients Row 1</th>\n",
       "      <td>61.0</td>\n",
       "      <td>35.0</td>\n",
       "      <td>167.0</td>\n",
       "      <td>39.0</td>\n",
       "      <td>1.0</td>\n",
       "      <td>1.0</td>\n",
       "      <td>2101.0</td>\n",
       "    </tr>\n",
       "    <tr>\n",
       "      <th>Nutrients Row 2</th>\n",
       "      <td>105.0</td>\n",
       "      <td>38.0</td>\n",
       "      <td>69.0</td>\n",
       "      <td>94.0</td>\n",
       "      <td>86.0</td>\n",
       "      <td>20.0</td>\n",
       "      <td>4012.0</td>\n",
       "    </tr>\n",
       "    <tr>\n",
       "      <th>Nutrients Row 3</th>\n",
       "      <td>81.0</td>\n",
       "      <td>159.0</td>\n",
       "      <td>82.0</td>\n",
       "      <td>169.0</td>\n",
       "      <td>138.0</td>\n",
       "      <td>1.0</td>\n",
       "      <td>8827.0</td>\n",
       "    </tr>\n",
       "    <tr>\n",
       "      <th>Nutrients Row 4</th>\n",
       "      <td>69.0</td>\n",
       "      <td>46.0</td>\n",
       "      <td>59.0</td>\n",
       "      <td>100.0</td>\n",
       "      <td>69.0</td>\n",
       "      <td>30.0</td>\n",
       "      <td>4255.0</td>\n",
       "    </tr>\n",
       "    <tr>\n",
       "      <th>Cost for foods in columns j</th>\n",
       "      <td>5.0</td>\n",
       "      <td>35.0</td>\n",
       "      <td>425.0</td>\n",
       "      <td>0.5</td>\n",
       "      <td>12.0</td>\n",
       "      <td>3.0</td>\n",
       "      <td>1181.0</td>\n",
       "    </tr>\n",
       "  </tbody>\n",
       "</table>\n",
       "</div>"
      ],
      "text/plain": [
       "                             Chicken  NY Strip Steak  Baby Formula  Bananas  \\\n",
       "Nutrients Row 1                 61.0            35.0         167.0     39.0   \n",
       "Nutrients Row 2                105.0            38.0          69.0     94.0   \n",
       "Nutrients Row 3                 81.0           159.0          82.0    169.0   \n",
       "Nutrients Row 4                 69.0            46.0          59.0    100.0   \n",
       "Cost for foods in columns j      5.0            35.0         425.0      0.5   \n",
       "\n",
       "                              Beer  n-vector d  nDes = A@d  \n",
       "Nutrients Row 1                1.0         1.0      2101.0  \n",
       "Nutrients Row 2               86.0        20.0      4012.0  \n",
       "Nutrients Row 3              138.0         1.0      8827.0  \n",
       "Nutrients Row 4               69.0        30.0      4255.0  \n",
       "Cost for foods in columns j   12.0         3.0      1181.0  "
      ]
     },
     "metadata": {},
     "output_type": "display_data"
    },
    {
     "data": {
      "text/html": [
       "<div>\n",
       "<style scoped>\n",
       "    .dataframe tbody tr th:only-of-type {\n",
       "        vertical-align: middle;\n",
       "    }\n",
       "\n",
       "    .dataframe tbody tr th {\n",
       "        vertical-align: top;\n",
       "    }\n",
       "\n",
       "    .dataframe thead th {\n",
       "        text-align: right;\n",
       "    }\n",
       "</style>\n",
       "<table border=\"1\" class=\"dataframe\">\n",
       "  <thead>\n",
       "    <tr style=\"text-align: right;\">\n",
       "      <th></th>\n",
       "      <th>nDes = A@d</th>\n",
       "    </tr>\n",
       "  </thead>\n",
       "  <tbody>\n",
       "    <tr>\n",
       "      <th>des_d1</th>\n",
       "      <td>2101.0</td>\n",
       "    </tr>\n",
       "    <tr>\n",
       "      <th>des_d2</th>\n",
       "      <td>4012.0</td>\n",
       "    </tr>\n",
       "    <tr>\n",
       "      <th>des_d3</th>\n",
       "      <td>8827.0</td>\n",
       "    </tr>\n",
       "    <tr>\n",
       "      <th>des_d4</th>\n",
       "      <td>4255.0</td>\n",
       "    </tr>\n",
       "    <tr>\n",
       "      <th>B</th>\n",
       "      <td>1181.0</td>\n",
       "    </tr>\n",
       "  </tbody>\n",
       "</table>\n",
       "</div>"
      ],
      "text/plain": [
       "        nDes = A@d\n",
       "des_d1      2101.0\n",
       "des_d2      4012.0\n",
       "des_d3      8827.0\n",
       "des_d4      4255.0\n",
       "B           1181.0"
      ]
     },
     "metadata": {},
     "output_type": "display_data"
    }
   ],
   "source": [
    "#compute the inner prodcut of the matrix \n",
    "nDes = A@d\n",
    "#consolidate all data in pandas dataframe with labels\n",
    "data = np.column_stack([A,d,nDes]) #append as columns at end of A\n",
    "\n",
    "df = pd.DataFrame(data,index=['Nutrients Row 1', 'Nutrients Row 2', 'Nutrients Row 3',\"Nutrients Row 4\",\"Cost for foods in columns j\"])\n",
    "df.columns =['Chicken', 'NY Strip Steak', 'Baby Formula', 'Bananas','Beer','n-vector d', 'nDes = A@d']\n",
    "display(df)\n",
    "newdf = pd.DataFrame(nDes,index=['des_d1', 'des_d2', 'des_d3',\"des_d4\",\"B\"],columns=[\"nDes = A@d\"])\n",
    "display(newdf)"
   ]
  }
 ],
 "metadata": {
  "kernelspec": {
   "display_name": "Python 3",
   "language": "python",
   "name": "python3"
  },
  "language_info": {
   "codemirror_mode": {
    "name": "ipython",
    "version": 3
   },
   "file_extension": ".py",
   "mimetype": "text/x-python",
   "name": "python",
   "nbconvert_exporter": "python",
   "pygments_lexer": "ipython3",
   "version": "3.8.8"
  }
 },
 "nbformat": 4,
 "nbformat_minor": 5
}

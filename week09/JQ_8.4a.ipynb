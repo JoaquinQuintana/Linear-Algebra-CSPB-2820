{
 "cells": [
  {
   "cell_type": "code",
   "execution_count": 1,
   "id": "13e318f6-94eb-4947-b6a4-e701bf6a2714",
   "metadata": {},
   "outputs": [],
   "source": [
    "# 8.4a\n",
    "import numpy as np\n",
    "\n",
    "def flipImage(x):\n",
    "    #get img dimension and reshape img into a n-vector\n",
    "    siz = x.shape\n",
    "    x = x.flatten('F')\n",
    "    #create matrix A which is shown in latex below\n",
    "    I = np.identity(3)\n",
    "    rm = np.fliplr(I) #reverserMatrix\n",
    "    z = np.zeros([3,3])\n",
    "    A = np.block([[rm,z,z],[z,rm,z],[z,z,rm]]) \n",
    "    print(\"Matrix A: \\n\",A)\n",
    "    #compute y= Ax\n",
    "    y = A@x \n",
    "    print(y)\n",
    "    #why do must I reverse the list here? To get it back into the correct shape\n",
    "    #y= y[::-1]\n",
    "    #print(y)\n",
    "    return np.reshape(y, siz, order='F') "
   ]
  },
  {
   "cell_type": "code",
   "execution_count": 2,
   "id": "266daef9-cff4-4b31-8475-4933463e2fff",
   "metadata": {},
   "outputs": [
    {
     "data": {
      "text/plain": [
       "array([[1, 4, 7],\n",
       "       [2, 5, 8],\n",
       "       [3, 6, 9]])"
      ]
     },
     "execution_count": 2,
     "metadata": {},
     "output_type": "execute_result"
    }
   ],
   "source": [
    "x = np.array([[1,4,7],[2,5,8],[3,6,9]])\n",
    "x"
   ]
  },
  {
   "cell_type": "code",
   "execution_count": 3,
   "id": "12be6ee3-bcbe-4e0e-9876-4ac8078f0395",
   "metadata": {},
   "outputs": [
    {
     "name": "stdout",
     "output_type": "stream",
     "text": [
      "Matrix A: \n",
      " [[0. 0. 1. 0. 0. 0. 0. 0. 0.]\n",
      " [0. 1. 0. 0. 0. 0. 0. 0. 0.]\n",
      " [1. 0. 0. 0. 0. 0. 0. 0. 0.]\n",
      " [0. 0. 0. 0. 0. 1. 0. 0. 0.]\n",
      " [0. 0. 0. 0. 1. 0. 0. 0. 0.]\n",
      " [0. 0. 0. 1. 0. 0. 0. 0. 0.]\n",
      " [0. 0. 0. 0. 0. 0. 0. 0. 1.]\n",
      " [0. 0. 0. 0. 0. 0. 0. 1. 0.]\n",
      " [0. 0. 0. 0. 0. 0. 1. 0. 0.]]\n",
      "[3. 2. 1. 6. 5. 4. 9. 8. 7.]\n"
     ]
    },
    {
     "data": {
      "text/plain": [
       "array([[3., 6., 9.],\n",
       "       [2., 5., 8.],\n",
       "       [1., 4., 7.]])"
      ]
     },
     "execution_count": 3,
     "metadata": {},
     "output_type": "execute_result"
    }
   ],
   "source": [
    "flipImage(x)"
   ]
  }
 ],
 "metadata": {
  "kernelspec": {
   "display_name": "Python 3",
   "language": "python",
   "name": "python3"
  },
  "language_info": {
   "codemirror_mode": {
    "name": "ipython",
    "version": 3
   },
   "file_extension": ".py",
   "mimetype": "text/x-python",
   "name": "python",
   "nbconvert_exporter": "python",
   "pygments_lexer": "ipython3",
   "version": "3.8.8"
  }
 },
 "nbformat": 4,
 "nbformat_minor": 5
}

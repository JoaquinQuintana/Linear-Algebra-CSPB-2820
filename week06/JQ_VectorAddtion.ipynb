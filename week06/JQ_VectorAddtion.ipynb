{
 "cells": [
  {
   "cell_type": "code",
   "execution_count": null,
   "id": "167156b1-7b2b-4fe5-8961-8cf9e8780f1a",
   "metadata": {},
   "outputs": [],
   "source": [
    "# Joaquin Quintana"
   ]
  },
  {
   "cell_type": "code",
   "execution_count": 1,
   "id": "2936d21b-961a-4d80-b6c0-51f32b980ce5",
   "metadata": {},
   "outputs": [],
   "source": [
    "import numpy as np \n",
    "import matplotlib.pyplot as plt"
   ]
  },
  {
   "cell_type": "code",
   "execution_count": 4,
   "id": "c87a62e4-1e5e-4bdf-8b5a-90e7c15349aa",
   "metadata": {},
   "outputs": [],
   "source": [
    "a = np.array([0,1]); b = np.array([-1,1]);"
   ]
  },
  {
   "cell_type": "code",
   "execution_count": 42,
   "id": "3dd666ba-9522-4aaf-9b2a-31e503434af9",
   "metadata": {},
   "outputs": [
    {
     "data": {
      "image/png": "[encoded data removed]",
      "text/plain": [
       "<Figure size 432x288 with 1 Axes>"
      ]
     },
     "metadata": {
      "needs_background": "light"
     },
     "output_type": "display_data"
    }
   ],
   "source": [
    "a@b\n",
    "v = np.array([[3,0], [-3,3], [0,3]])\n",
    "origin = np.array([[0, 0, 0],[0, 0, 0]]) # origin point\n",
    "\n",
    "plt.quiver(*origin, v[:,0], v[:,1], color=['r','b','k'], scale=21)\n",
    "plt.show()"
   ]
  },
  {
   "cell_type": "code",
   "execution_count": 38,
   "id": "7ece7420-f8a5-4731-8126-1b64e7c47ad2",
   "metadata": {},
   "outputs": [
    {
     "data": {
      "text/plain": [
       "9"
      ]
     },
     "execution_count": 38,
     "metadata": {},
     "output_type": "execute_result"
    }
   ],
   "source": [
    "v[0]@v[1]"
   ]
  },
  {
   "cell_type": "code",
   "execution_count": 39,
   "id": "8e5c99a7-6189-4a3c-a0e8-780f0c42b844",
   "metadata": {},
   "outputs": [
    {
     "data": {
      "text/plain": [
       "array([6, 1])"
      ]
     },
     "execution_count": 39,
     "metadata": {},
     "output_type": "execute_result"
    }
   ],
   "source": [
    "v[0] + v[1]\n"
   ]
  },
  {
   "cell_type": "code",
   "execution_count": 35,
   "id": "64dd364a-6711-43d9-9ace-152940b9f533",
   "metadata": {},
   "outputs": [
    {
     "data": {
      "text/plain": [
       "0"
      ]
     },
     "execution_count": 35,
     "metadata": {},
     "output_type": "execute_result"
    }
   ],
   "source": [
    "v[0]@v[2]"
   ]
  },
  {
   "cell_type": "code",
   "execution_count": 17,
   "id": "d498c835-ca24-46a3-81b3-3d5077f59256",
   "metadata": {},
   "outputs": [
    {
     "name": "stdout",
     "output_type": "stream",
     "text": [
      "[2 2 2 2 2 2 2 2 2 2 2 2 2 2 2 2 2 2 2 2 2 2 2 2 2 2 2 2 2 2]\n"
     ]
    }
   ],
   "source": [
    "a = np.array([3 for i in range(30)])#raw score Max imum \n",
    "# = np.array([3 for i in range(15)])#raw score\n",
    "\n",
    "#max recoded score\n",
    "print((a-1))"
   ]
  },
  {
   "cell_type": "code",
   "execution_count": 18,
   "id": "d9401d76-6452-4fbd-92a8-55d0736fcce1",
   "metadata": {},
   "outputs": [],
   "source": [
    "#ones = np.concatenate(np.ones(15),np.ones(15))\n",
    "x = np.concatenate((np.ones(15), np.ones(15)+1), axis=None)"
   ]
  },
  {
   "cell_type": "code",
   "execution_count": 21,
   "id": "aa9d80f0-4e47-4277-8a83-a7bd1fb0d204",
   "metadata": {},
   "outputs": [
    {
     "data": {
      "text/plain": [
       "90.0"
      ]
     },
     "execution_count": 21,
     "metadata": {},
     "output_type": "execute_result"
    }
   ],
   "source": [
    "x@(a-1)"
   ]
  },
  {
   "cell_type": "code",
   "execution_count": 22,
   "id": "63a051f6-ee32-4461-9218-a57ab0d45a6a",
   "metadata": {},
   "outputs": [
    {
     "data": {
      "text/plain": [
       "array([3, 3, 3, 3, 3, 3, 3, 3, 3, 3, 3, 3, 3, 3, 3, 3, 3, 3, 3, 3, 3, 3,\n",
       "       3, 3, 3, 3, 3, 3, 3, 3])"
      ]
     },
     "execution_count": 22,
     "metadata": {},
     "output_type": "execute_result"
    }
   ],
   "source": [
    "a"
   ]
  },
  {
   "cell_type": "code",
   "execution_count": 23,
   "id": "d2c56ac0-867b-4fcc-a936-323c026f2c59",
   "metadata": {},
   "outputs": [
    {
     "data": {
      "text/plain": [
       "array([1., 1., 1., 1., 1., 1., 1., 1., 1., 1., 1., 1., 1., 1., 1., 2., 2.,\n",
       "       2., 2., 2., 2., 2., 2., 2., 2., 2., 2., 2., 2., 2.])"
      ]
     },
     "execution_count": 23,
     "metadata": {},
     "output_type": "execute_result"
    }
   ],
   "source": [
    "#maximum score is \n",
    "x"
   ]
  },
  {
   "cell_type": "code",
   "execution_count": 24,
   "id": "356c77fd-69c5-4187-80c6-1f0e00f1da49",
   "metadata": {},
   "outputs": [
    {
     "data": {
      "text/plain": [
       "45.0"
      ]
     },
     "execution_count": 24,
     "metadata": {},
     "output_type": "execute_result"
    }
   ],
   "source": [
    "sum(x)"
   ]
  },
  {
   "cell_type": "code",
   "execution_count": null,
   "id": "4359405e-ce87-4f15-9ff6-d9d708935bd8",
   "metadata": {},
   "outputs": [],
   "source": []
  }
 ],
 "metadata": {
  "kernelspec": {
   "display_name": "Python 3",
   "language": "python",
   "name": "python3"
  },
  "language_info": {
   "codemirror_mode": {
    "name": "ipython",
    "version": 3
   },
   "file_extension": ".py",
   "mimetype": "text/x-python",
   "name": "python",
   "nbconvert_exporter": "python",
   "pygments_lexer": "ipython3",
   "version": "3.8.8"
  }
 },
 "nbformat": 4,
 "nbformat_minor": 5
}

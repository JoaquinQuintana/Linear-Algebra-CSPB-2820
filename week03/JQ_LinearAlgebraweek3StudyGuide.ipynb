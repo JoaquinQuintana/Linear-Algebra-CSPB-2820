{
 "cells": [
  {
   "cell_type": "markdown",
   "id": "88d7bd3c-23bf-48c7-8b13-e0e58a07c4db",
   "metadata": {},
   "source": [
    "Name: Joaquin Quintana"
   ]
  },
  {
   "cell_type": "markdown",
   "id": "e1838966-ccac-4811-97c3-3c0b19ad7231",
   "metadata": {},
   "source": [
    "\n",
    "**2.(10 pts) Solve the Chapter 3 Random exercise from the video and Piazza in your own\n",
    "words here. This is, 3.19**\n",
    "\n",
    "**a)** We know the inner product of two vectors which are orthogonal is $a^Tb = 0$. \n",
    "\n",
    "Given formula 3.1 $$||a+b|| = \\sqrt{||a||^2 + 2a^Tb + ||b||^2}$$ we get \n",
    "\n",
    "$ ||a+b||  = \\sqrt{||a||^2 + 0 + ||b||^2} = \\sqrt{||a||^2 + ||b||^2} $ for two such vectors. \n",
    "\n",
    "Or going the other way lets show $cos(\\theta) = 0$ (as they say iff). \n",
    "\n",
    "$||a+b|| = \\sqrt{||a||^2 + ||b||^2} $\n",
    "\n",
    "Square function \n",
    "\n",
    "$||a+b||^2 = ||a||^2 + ||b||^2 $\n",
    "\n",
    "Both vectors are nonzero so we can write the formula as ... \n",
    "\n",
    "$||a+b||^2 = ||a||^2 + 2||a||||b||cos(\\theta) + ||b||^2 $ and substitute this in for the left side of the function above ...\n",
    "\n",
    "$||a||^2 + 2||a||||b||cos(\\theta) + ||b||^2 =  ||a||^2 + ||b||^2 $ cancel like terms\n",
    "\n",
    "$2||a||||b||cos(\\theta)= 0 $\n",
    "\n",
    "Since a and b are non negative and $2||a||||b||cos(\\theta) = 2a^Tb = 0$ we can say $a\\perp b$. From part a we see that if $a\\perp b$ then $cos(\\theta) = 0$. If we increase or decrease $\\theta$ we will end up making the output of $cos(\\theta) <0$ or $>0$, respectively (range $0\\leq\\theta\\leq\\pi$)."
   ]
  },
  {
   "cell_type": "markdown",
   "id": "be9104a4-41cd-4bca-b238-a7550f7dc60b",
   "metadata": {},
   "source": [
    "**2b)** For a and b to make an acute angle $\\theta<\\frac{\\pi}{2}$. We can now write the formula as an inequality...\n",
    "\n",
    "$  ||a+b||^2  = ||a||^2 + 2||a||||b||cos(\\theta) + ||b||^2 $\n",
    "\n",
    "$  ||a+b|| > \\sqrt{||a||^2  + ||b||^2 }$\n",
    "\n",
    "Now going the other way. Let $  ||a+b|| = \\sqrt{||a||^2  + ||b||^2 }$\n",
    "\n",
    "Sqaure both sides \n",
    "\n",
    "$  ||a+b||^2 = ||a||^2  + ||b||^2$\n",
    "\n",
    "substitute $||a+b||^2 $ for formula 3.6 ...\n",
    "\n",
    "$||a||^2 + 2||a||||b||cos(\\theta) + ||b||^2 = ||a||^2  + ||b||^2$\n",
    "\n",
    "cancel like terms and we see $2||a||||b||cos(\\theta) = 0$ but we know $\\theta<\\frac{\\pi}{2}$ results in $  ||a+b|| > \\sqrt{||a||^2  + ||b||^2 }$\n"
   ]
  },
  {
   "cell_type": "markdown",
   "id": "98d72ffa-68a7-4a1f-bc11-6c090fad7738",
   "metadata": {},
   "source": [
    "**c)** Similar to b. If a and b make an obtuse angle $\\theta>\\frac{\\pi}{2}$.\n",
    "\n",
    "$  ||a+b||^2  = ||a||^2 + 2||a||||b||cos(\\theta) + ||b||^2 $\n",
    "\n",
    "$  ||a+b|| < \\sqrt{||a||^2  + ||b||^2 }$\n",
    "\n",
    "Now going the other way. Let $  ||a+b|| = \\sqrt{||a||^2  + ||b||^2 }$\n",
    "\n",
    "Sqaure both sides \n",
    "\n",
    "$  ||a+b||^2 = ||a||^2  + ||b||^2$\n",
    "\n",
    "substitute $||a+b||^2 $ for formula 3.6 ...\n",
    "\n",
    "$||a||^2 + 2||a||||b||cos(\\theta) + ||b||^2 = ||a||^2  + ||b||^2$\n",
    "\n",
    "cancel like terms and we see $2||a||||b||cos(\\theta) = 0$ but we know $\\theta>\\frac{\\pi}{2}$ results in $  ||a+b|| < \\sqrt{||a||^2  + ||b||^2 }$"
   ]
  },
  {
   "cell_type": "markdown",
   "id": "e97014e7-4100-4601-a1dc-6604a3f10a9c",
   "metadata": {},
   "source": [
    "**3.(10 pts) Explain the solution to 3.1 here in your own words. (Since you are given a solution, you will be graded on your ability to explain).**"
   ]
  },
  {
   "cell_type": "markdown",
   "id": "ba331888-0c32-448e-bdc8-ead6f9b41b4d",
   "metadata": {},
   "source": [
    "We are provided two vectors a and b which are composed of boolean values and asked to compute their Euclidean distance.\n",
    "\n",
    "Euclidean distance between two vectors a and b is $dist(a,b) = ||a-b||$\n",
    "\n",
    "a - b results can result in three outputs {-1,0,1} and are shown in this example...\n",
    "\n",
    "$ a = \\begin{bmatrix} 0  \\\\ 1 \\\\ 1 \\\\0 \\end{bmatrix}$, $ b = \\begin{bmatrix} 1  \\\\ 1 \\\\ 0 \\\\ 0 \\end{bmatrix}$\n",
    "\n",
    "$a-b = \\begin{bmatrix} -1  \\\\ 0 \\\\ 1 \\\\ 0 \\end{bmatrix}$ \n",
    "\n",
    "Now take the norm of a-b\n",
    "\n",
    "$||a-b|| = \\begin{vmatrix} \\begin{vmatrix} \\begin{bmatrix} -1  \\\\ 0 \\\\ 1 \\\\0 \\end{bmatrix} \\end{vmatrix}\\end{vmatrix}$\n",
    "\n",
    "$ = \\sqrt{(-1)^2 + (0)^2 + (1)^2 + (0)^2} = 2^{1/2}$\n",
    "\n",
    "since the output terms in a-b are squared while computing the norm we only get 1 or 0 for elements in the final summation. We get zero when $a_i == b_i$ and one whenever $a_i != b_i$. Therefore the distance is simply the sqaureroot of the number of entries in a and b where $a_i != b_i$. "
   ]
  },
  {
   "cell_type": "markdown",
   "id": "b7a7dfe6-ce90-4480-ad35-ba3d0ecfd54e",
   "metadata": {},
   "source": [
    "**4a**\n",
    "\n",
    "3.2 RMS value and average of block vectors. Let x be a block vector with two vector elements,\n",
    "x = (a, b), where a and b are vectors of size n and m, respectively.\n",
    "\n",
    "(a) Express rms(x) in terms of rms(a), rms(b), m, and n.\n",
    "\n",
    "(b) Express avg(x) in terms of avg(a), avg(b), m, and n.\n"
   ]
  },
  {
   "cell_type": "markdown",
   "id": "8ef4269d-926a-4271-9b0b-6f186d6cbe14",
   "metadata": {},
   "source": [
    "a) $rms(x) = \\sqrt{\\frac{x_1^2 + ... + x_n^2}{n}} = \\frac{||x||}{\\sqrt{n}}$ "
   ]
  },
  {
   "cell_type": "markdown",
   "id": "e36ac48b-5015-44c6-9123-8e4fba6173b6",
   "metadata": {},
   "source": [
    "Provided the stacked vector x = (a,b) we can express the rms(x) as rms(a) and rms(b) as follows. Let $s = n + m$ and this is the size of x. \n",
    "\n",
    "$rms(x) = \\sqrt{\\frac{x_1^2 + ... + x_n^2}{s}} = \\frac{||x||}{\\sqrt{s}} $\n",
    "\n",
    "Lets start with ||x||\n",
    "\n",
    "The norm of a and b is $||a|| = \\sqrt{a_1^2 + ... + a_n^2} $ and $||b|| = \\sqrt{b_1^2 + ... + b_n^2} $\n",
    "\n",
    "Now square both ||a|| and ||b|| and we get $||a||^2 = a_1^2 + ... + a_n^2 $ and $||b||^2 = b_1^2 + ... + b_n^2 $\n",
    "\n",
    "Substitute $||a||^2$ and $||b||^2$ for ||x||\n",
    "\n",
    "$||x|| = \\sqrt{a_1^2 + ... + a_n^2 + b_1^2 + ... + b_m^2} $\n",
    "$ = \\sqrt{||a||^2 + ||b||^2}$\n",
    "\n",
    "$rms(a) = \\frac{||a||}{\\sqrt{n}}$ and $rms(b) = \\frac{||a||}{\\sqrt{m}}$ and with rearrangment we get \n",
    "\n",
    "$||a|| = rms(a)\\sqrt{n}$ and $||b|| = rms(b)\\sqrt{m}$\n",
    "\n",
    "Finally by substitution we get \n",
    "\n",
    "$rms(x) = \\frac{||x||}{\\sqrt{s}}  = \\sqrt{\\frac{||a||^2 + ||b||^2}{s}}$\n",
    "\n",
    "$= \\sqrt{\\frac{(rms(a)\\sqrt{n})^2 + (rms(b)\\sqrt{n})^2}{s}} = \\sqrt{\\frac{n(rms(a))^2 + (m(rms(b))^2}{n+m}}$\n",
    "\n"
   ]
  },
  {
   "cell_type": "markdown",
   "id": "fc9530ae-740e-442f-8fd1-2fb51875f3d1",
   "metadata": {},
   "source": [
    "**4b** Similar to part a we will show this by substitution. "
   ]
  },
  {
   "cell_type": "markdown",
   "id": "e64f48d7-ffc1-45c4-abe3-8b55003ba734",
   "metadata": {},
   "source": [
    "$avg(x) = \\frac{x_1^2 + ... + x_n^2}{s} = \\frac{a_1^2 + ... + a_n^2+ b_1^2 + ... + b_m^2}{n+m} $\n",
    "\n",
    "We know $avg(a) = \\frac{a_1^2 + ... + a_n^2}{n}$ and $avg(b) = \\frac{b_1^2 + ... + b_m^2}{m}$. \n",
    "\n",
    "By rearrangment we get $n*avg(a) = a_1^2 + ... + a_n^2$ and $m*avg(b) = b_1^2 + ... + b_m^2$\n",
    "\n",
    "By subtituion we get \n",
    "\n",
    "$avg(x) = \\frac{n*avg(a) + m*avg(b)}{n+m} $"
   ]
  },
  {
   "cell_type": "markdown",
   "id": "05e67c62-4a70-4882-a938-801e6bb3ff20",
   "metadata": {},
   "source": [
    "**5**"
   ]
  },
  {
   "cell_type": "markdown",
   "id": "3a4b5719-153c-4c60-8546-587a74ebdc09",
   "metadata": {},
   "source": [
    "**5a**\n",
    "\n",
    "We are looking at all real numbers for a and b or $a,b$ $\\epsilon$ $\\mathbb{R^n} $ \n",
    "\n",
    "Now an example to show that $(a+b)^T(a-b) = ||a||^2 - ||b||^2$\n",
    "\n",
    "$ a = \\begin{bmatrix} a_1 \\\\ a_2\\\\ ... \\\\ a_n \\end{bmatrix}$, $ b = \\begin{bmatrix} b_1 \\\\ b_2\\\\ ... \\\\ b_n \\end{bmatrix}$\n",
    "\n",
    "$(a+b)^T(a-b) = (a_1+b_1)(a_1-b_1)+...+ (a_n+b_n)(a_n-b_n)$\n",
    "\n",
    "$= (a_1^2-b^2)+...+ (a_n^2+b_n^2)$\n",
    "\n",
    "Given this pattern we see $(a-b)(a+b) = a^2 - b^2$ and we get...\n",
    "\n",
    "$ = a_1^2 + ... + a_n^2 - b_1^2 + ... + b_m^2$\n",
    "\n",
    "Finally we see\n",
    "\n",
    "$||a||^2 - ||b||^2 =  a_1^2 + ... + a_n^2 - b_1^2 + ... + b_m^2 = (a+b)^T(a-b) $"
   ]
  },
  {
   "cell_type": "markdown",
   "id": "a64b499c-cdb6-41d2-9442-238715bf882a",
   "metadata": {},
   "source": [
    "**5b**"
   ]
  },
  {
   "cell_type": "markdown",
   "id": "0750074c-9dc2-40da-b626-414b0082eeaa",
   "metadata": {},
   "source": [
    "$||a+b||^2 + ||a-b||^2 = 2(||a||^2 + ||b||^2)$\n",
    "\n",
    "starting with the norm of a sum $||a+b||^2$\n",
    "\n",
    "$||a+b||^2 = ||a||^2+ 2a^Tb + ||b||^2$\n",
    "\n",
    "$||a-b||^2 = ||a||^2- 2a^Tb + ||b||^2$\n",
    "\n",
    "$||a+b||^2 + ||a-b||^2 = ||a||^2+ 2a^Tb + ||b||^2 + ||a||^2- 2a^Tb + ||b||^2$\n",
    "\n",
    "Cancel like terms and we are done\n",
    "$= 2(||a||^2 + ||b||^2)$"
   ]
  },
  {
   "cell_type": "markdown",
   "id": "64c1f364-1ebf-44f6-bdbe-f5bd349f18ca",
   "metadata": {},
   "source": [
    "**6** 6. (10pts) Explain the solution to 3.10 here in your own words.\n"
   ]
  },
  {
   "cell_type": "markdown",
   "id": "722f7a32-0f7a-4d7e-a236-e1d04a4c42f9",
   "metadata": {},
   "source": [
    "This is simply computing the word counts for documents and using the differnce in their word counts to compute a distance or a measure of how different or similiar the documents are. It does make sense that documents which share similar words and have a smaller distance or differnce between the two would be closer in distance. For exmaple, in table 3.1 we can see Veterans Day and Memorial Day are nearest neighbors as they have a small distance between them in comparison to the other doscument types. This makes sense as both  are military holidays and the documents are sure to have overlapping language. "
   ]
  },
  {
   "cell_type": "markdown",
   "id": "391afefe-0b3c-439c-99b3-d4c97d65e882",
   "metadata": {},
   "source": [
    "**7**  3.20 Regression model sensitivity. Consider the regression model ŷ = xT β + v, where ŷ is the\n",
    "prediction, x is a feature vector, β is a coefficient vector, and v is the offset term. If x and x̃\n",
    "are feature vectors with corresponding predictions ŷ and ỹ, show that |ŷ − ỹ| ≤ kβkkx− x̃k.\n",
    "This means that when kβk is small, the prediction is not very sensitive to a change in the\n",
    "feature vector.\n"
   ]
  },
  {
   "cell_type": "markdown",
   "id": "643a6b3f-be62-466e-8744-ed5da1a2f23b",
   "metadata": {},
   "source": [
    "Here we need to do some simple algebra to get things into a form that we can use. \n",
    "\n",
    "Let $y = B^Tx + v$ and $\\hat y = B^T\\hat x + v$ \n",
    "\n",
    "Now substitute y and $\\hat y$\n",
    "\n",
    "$|y-\\hat y| =  |B^Tx + v - (B^T\\hat x + v)|$ \n",
    "\n",
    "By factoring B and canceling like terms\n",
    "\n",
    "$= |B^T(x-\\hat x)|$\n",
    "\n",
    "Now we are in a form to use Cachy-Schwarz Inequality which is $|a^Tb| \\leq ||a||||b||$ but here we will let $a = B$ and $b = x-\\hat x$.\n",
    "\n",
    "Finally by substitution we can show ...\n",
    "\n",
    "$ |y-\\hat y| = |B^Tx + v - (B^T\\hat x + v)|= |B^T(x-\\hat x)| \\leq ||B|| ||x-\\hat x||$\n"
   ]
  },
  {
   "cell_type": "markdown",
   "id": "4f468414-a677-4c2a-95ac-fe4b5a7a20fc",
   "metadata": {},
   "source": [
    "**8**\n",
    "\n",
    "3.23 Angle between two nonnegative vectors. Let x and y be two nonzero n-vectors with\n",
    "nonnegative entries, i.e., each xi ≥ 0 and each yi ≥ 0. Show that the angle between x\n",
    "and y lies between 0 and 90◦. Draw a picture for the case when n = 2, and give a short\n",
    "geometric explanation. When are x and y orthogonal?\n"
   ]
  },
  {
   "cell_type": "markdown",
   "id": "f521d555-cd27-4964-97e8-c2a94eda733d",
   "metadata": {},
   "source": [
    "Given two non negative vectors x and y we know that the inner product of such vectors will always be positive and land use in what is know as quadrant 1 of a plot (see image). The quadrants of a plot are represented in radians with each quadrant totaling $\\frac{pi}{2}$ and a full iteration being 2$pi$. Since we know we are in grandaunt 1 we know $\\theta$ must have a range of $0<\\theta\\leq\\frac{pi}{2}$ or $0<\\theta\\leq90$.\n",
    "\n",
    "The angle $\\theta = 90$ when x and y are orthogonal. This can be checked by simply checking if the dot product equals zero. If the dot products equals zero they are orthogonal and if not they are not. \n"
   ]
  },
  {
   "cell_type": "code",
   "execution_count": null,
   "id": "b02f3fb2-06a6-4f20-8a57-7d4b45c091f5",
   "metadata": {},
   "outputs": [],
   "source": []
  }
 ],
 "metadata": {
  "kernelspec": {
   "display_name": "Python 3",
   "language": "python",
   "name": "python3"
  },
  "language_info": {
   "codemirror_mode": {
    "name": "ipython",
    "version": 3
   },
   "file_extension": ".py",
   "mimetype": "text/x-python",
   "name": "python",
   "nbconvert_exporter": "python",
   "pygments_lexer": "ipython3",
   "version": "3.8.8"
  }
 },
 "nbformat": 4,
 "nbformat_minor": 5
}

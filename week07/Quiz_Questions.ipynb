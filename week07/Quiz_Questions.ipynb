{
 "cells": [
  {
   "cell_type": "code",
   "execution_count": 3,
   "id": "644e38fa-1412-4353-bfa5-86dada2dd4cf",
   "metadata": {},
   "outputs": [],
   "source": [
    "import numpy as np"
   ]
  },
  {
   "cell_type": "code",
   "execution_count": 4,
   "id": "6f4a84e0-9a2e-4b48-8a4f-3c13d4462ebe",
   "metadata": {},
   "outputs": [],
   "source": [
    "#create matrix\n",
    "a = np.array([[9,7,2],[9,3,4],[3,9,9]])\n",
    "b = np.array([[4,5,3],[4,7,4],[2,2,9]])"
   ]
  },
  {
   "cell_type": "code",
   "execution_count": 31,
   "id": "8ed42644-e2b8-4f85-ab0d-a04d5aacb1ad",
   "metadata": {},
   "outputs": [
    {
     "name": "stdout",
     "output_type": "stream",
     "text": [
      "[[4 5 3]\n",
      " [4 7 4]\n",
      " [2 2 9]]\n"
     ]
    }
   ],
   "source": [
    "print(b)"
   ]
  },
  {
   "cell_type": "code",
   "execution_count": 30,
   "id": "d1e815a8-328c-4b2d-9b32-1938ed291360",
   "metadata": {},
   "outputs": [
    {
     "name": "stdout",
     "output_type": "stream",
     "text": [
      "[9 7 2]\n",
      "[4 4 2]\n"
     ]
    },
    {
     "data": {
      "text/plain": [
       "68"
      ]
     },
     "execution_count": 30,
     "metadata": {},
     "output_type": "execute_result"
    }
   ],
   "source": [
    "#ith row of a\n",
    "print(a[0,:])\n",
    "#jth column of b\n",
    "print(b[:,0])\n",
    "#inner product of the ith row of a and the jth column of b\n",
    "a[0,:]@ b[:,0]"
   ]
  },
  {
   "cell_type": "code",
   "execution_count": 29,
   "id": "5a9879a5-0228-4dd6-9ca4-c22d4f09bb1c",
   "metadata": {},
   "outputs": [
    {
     "name": "stdout",
     "output_type": "stream",
     "text": [
      "[[ 68.  98.  73.]\n",
      " [ 56.  74.  75.]\n",
      " [ 66.  96. 126.]]\n"
     ]
    }
   ],
   "source": [
    "#compute the product of matricies a and b \n",
    "ab = np.zeros([3,3])\n",
    "for i in range(3):\n",
    "    for j in range(3):\n",
    "#inner product of the ith row of a and the jth column of b\n",
    "        ab[i][j] = a[i,:]@ b[:,j]\n",
    "print(ab)"
   ]
  },
  {
   "cell_type": "code",
   "execution_count": 34,
   "id": "551a4f37-0a64-46df-a4fd-36818ae6864e",
   "metadata": {},
   "outputs": [
    {
     "data": {
      "text/plain": [
       "array([ 3, -4])"
      ]
     },
     "execution_count": 34,
     "metadata": {},
     "output_type": "execute_result"
    }
   ],
   "source": [
    "#create matrix\n",
    "c = np.array([[0,2,-1],[-2,1,1]])\n",
    "d = np.array([2,1,-1])\n",
    "\n",
    "c@d"
   ]
  },
  {
   "cell_type": "code",
   "execution_count": 36,
   "id": "8e100704-e792-41b3-83d0-c65838b0da08",
   "metadata": {},
   "outputs": [],
   "source": [
    "# 3 "
   ]
  },
  {
   "cell_type": "code",
   "execution_count": 40,
   "id": "b448a2fd-5e9a-40d5-847d-fdb47a42bf6e",
   "metadata": {},
   "outputs": [
    {
     "name": "stdout",
     "output_type": "stream",
     "text": [
      "[[35. 11. 35.]\n",
      " [42. 11. 29.]\n",
      " [22.  7. 25.]]\n"
     ]
    }
   ],
   "source": [
    "#create matrix\n",
    "A = np.array([[2,5,2],[5,4,1],[1,4,1]])\n",
    "B = np.array([[5,1,1],[3,1,5],[5,2,4]])\n",
    "\n",
    "#compute the product of matricies a and b \n",
    "AB = np.zeros([3,3])\n",
    "for i in range(3):\n",
    "    for j in range(3):\n",
    "#inner product of the ith row of a and the jth column of b\n",
    "        AB[i][j] = A[i,:]@ B[:,j]\n",
    "print(AB)\n"
   ]
  },
  {
   "cell_type": "code",
   "execution_count": 41,
   "id": "5d9a8a37-f01e-4c85-827f-8207abdc7503",
   "metadata": {},
   "outputs": [
    {
     "name": "stdout",
     "output_type": "stream",
     "text": [
      "[[16. 33. 12.]\n",
      " [16. 39. 12.]\n",
      " [24. 49. 16.]]\n"
     ]
    }
   ],
   "source": [
    "#create matrix\n",
    "A = np.array([[2,5,2],[5,4,1],[1,4,1]])\n",
    "B = np.array([[5,1,1],[3,1,5],[5,2,4]])\n",
    "\n",
    "#compute the product of matricies a and b \n",
    "BA = np.zeros([3,3])\n",
    "for i in range(3):\n",
    "    for j in range(3):\n",
    "#inner product of the ith row of a and the jth column of b\n",
    "        BA[i][j] = B[i,:]@ A[:,j]\n",
    "print(BA)"
   ]
  },
  {
   "cell_type": "code",
   "execution_count": 48,
   "id": "376faa84-ff47-4ad5-8c9b-4597424ac156",
   "metadata": {},
   "outputs": [
    {
     "name": "stdout",
     "output_type": "stream",
     "text": [
      "AB: \n",
      " [[22. 18. 20.]\n",
      " [10.  9.  9.]\n",
      " [14. 13. 15.]] \n",
      "\n",
      "BA: \n",
      " [[19. 15. 21.]\n",
      " [18. 14. 12.]\n",
      " [11.  9. 13.]] \n",
      "\n",
      "AB - BA: \n",
      " [[ 3.  3. -1.]\n",
      " [-8. -5. -3.]\n",
      " [ 3.  4.  2.]]\n"
     ]
    }
   ],
   "source": [
    "#create matrix\n",
    "A = np.array([[3,2,1],[1,1,1],[1,1,3]])\n",
    "B = np.array([[4,2,5],[4,5,1],[2,2,3]])\n",
    "\n",
    "#compute the product of matricies a and b \n",
    "AB = np.zeros([3,3])\n",
    "for i in range(3):\n",
    "    for j in range(3):\n",
    "#inner product of the ith row of a and the jth column of b\n",
    "        AB[i][j] = A[i,:]@ B[:,j]\n",
    "print(\"AB: \\n\",AB,\"\\n\")   \n",
    "#compute the product of matricies b and a \n",
    "BA = np.zeros([3,3])\n",
    "for i in range(3):\n",
    "    for j in range(3):\n",
    "#inner product of the ith row of a and the jth column of b\n",
    "        BA[i][j] = B[i,:]@ A[:,j]\n",
    "print(\"BA: \\n\",BA,\"\\n\")\n",
    "\n",
    "print(\"AB - BA: \\n\",AB - BA)"
   ]
  },
  {
   "cell_type": "code",
   "execution_count": 49,
   "id": "43abee93-0afc-43ea-aecb-03dd2ffc1839",
   "metadata": {},
   "outputs": [],
   "source": [
    "# 5 "
   ]
  },
  {
   "cell_type": "code",
   "execution_count": 58,
   "id": "bc74ef0c-0176-4616-be8f-a979472f3130",
   "metadata": {},
   "outputs": [
    {
     "data": {
      "text/plain": [
       "array([1, 2, 3, 4])"
      ]
     },
     "execution_count": 58,
     "metadata": {},
     "output_type": "execute_result"
    }
   ],
   "source": [
    "#create matrix\n",
    "A = np.array([1,2,3,4])\n",
    "B = np.array([6,8,7,4])\n"
   ]
  },
  {
   "cell_type": "code",
   "execution_count": 54,
   "id": "c1c9d9a6-9956-4936-84c1-84a29ab95bd9",
   "metadata": {},
   "outputs": [
    {
     "data": {
      "text/plain": [
       "array([[0, 4, 6, 3],\n",
       "       [2, 1, 7, 6],\n",
       "       [1, 0, 0, 1],\n",
       "       [8, 5, 4, 4]])"
      ]
     },
     "execution_count": 54,
     "metadata": {},
     "output_type": "execute_result"
    }
   ],
   "source": [
    "# 9 \n",
    "A = np.array([[0,2,1,8],[4,1,0,5],[6,7,0,4],[3,6,1,4]])\n",
    "A.T"
   ]
  },
  {
   "cell_type": "code",
   "execution_count": 59,
   "id": "401287b9-a39a-4cc3-9fac-54dd2a03e338",
   "metadata": {},
   "outputs": [],
   "source": [
    "#6 "
   ]
  },
  {
   "cell_type": "code",
   "execution_count": 64,
   "id": "cb0a7117-1c3f-47fb-9403-2fc2f15c03f8",
   "metadata": {},
   "outputs": [
    {
     "data": {
      "text/plain": [
       "array([[-3, 12],\n",
       "       [ 0,  9]])"
      ]
     },
     "execution_count": 64,
     "metadata": {},
     "output_type": "execute_result"
    }
   ],
   "source": [
    "#create matrix\n",
    "A = np.array([[3,1],[2,1]])\n",
    "B = np.array([[-3,3],[6,3]])\n",
    "A@B"
   ]
  },
  {
   "cell_type": "code",
   "execution_count": 69,
   "id": "3a9e8120-d0e6-4f6d-90dc-bf72701dafee",
   "metadata": {},
   "outputs": [
    {
     "data": {
      "text/plain": [
       "array([-16,  -3, -28])"
      ]
     },
     "execution_count": 69,
     "metadata": {},
     "output_type": "execute_result"
    }
   ],
   "source": [
    "#create matrix\n",
    "A = np.array([[2,-3,4],[4,1,3],[-5,-4,5]])\n",
    "B = np.array([1,2,-3])\n",
    "bt = B.T\n",
    "A@bt"
   ]
  },
  {
   "cell_type": "code",
   "execution_count": 70,
   "id": "b7f828cd-db2e-484b-9f9b-b97489de2c6d",
   "metadata": {},
   "outputs": [
    {
     "data": {
      "text/plain": [
       "array([-18,  -1,  -1])"
      ]
     },
     "execution_count": 70,
     "metadata": {},
     "output_type": "execute_result"
    }
   ],
   "source": [
    "#8\n",
    "#create matrix\n",
    "A = np.array([[0,-3,4],[2,1,3],[1,1,2]])\n",
    "B = np.array([3,2,-3])\n",
    "bt = B.T\n",
    "A@bt"
   ]
  },
  {
   "cell_type": "code",
   "execution_count": null,
   "id": "76443bc6-34ee-4dc3-a4a9-6f50ecae46df",
   "metadata": {},
   "outputs": [],
   "source": []
  }
 ],
 "metadata": {
  "kernelspec": {
   "display_name": "Python 3",
   "language": "python",
   "name": "python3"
  },
  "language_info": {
   "codemirror_mode": {
    "name": "ipython",
    "version": 3
   },
   "file_extension": ".py",
   "mimetype": "text/x-python",
   "name": "python",
   "nbconvert_exporter": "python",
   "pygments_lexer": "ipython3",
   "version": "3.8.8"
  }
 },
 "nbformat": 4,
 "nbformat_minor": 5
}

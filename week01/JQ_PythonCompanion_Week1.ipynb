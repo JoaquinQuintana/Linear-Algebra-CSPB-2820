{
 "cells": [
  {
   "cell_type": "code",
   "execution_count": null,
   "id": "e14023b0-1f5f-4348-b4eb-8b4622bc73ba",
   "metadata": {},
   "outputs": [],
   "source": [
    "#Name: Joaquin Quintana"
   ]
  },
  {
   "cell_type": "markdown",
   "id": "6e439f3c-c542-43b2-b746-c19eb75c0bb5",
   "metadata": {},
   "source": [
    "# 5. (50 points) Create a Jupyter Notebook of the following:\n",
    "Based on the Python Companion to give you a basis for the fundamentals of vector operations we will use\n",
    "throughout the course.\n",
    "\n",
    "1. From the Python Companion, for each code element in the sections 1.1 - 1.4, rewrite (best) or copy and\n",
    "paste each code cell into your own Jupyter Notebook.\n",
    "2. Comment the code.\n",
    "3. Add notes in your own words in a text block above about the code using the notes given AND\n",
    "incorporate ideas from the book (cite the book page).\n",
    "4. For each section of code include at least one additional example if appropriate.\n",
    "5. Attach a PDF of the your Notebook her"
   ]
  },
  {
   "cell_type": "markdown",
   "id": "ae4d1e63-38c9-40ed-9185-c99ef5e508f9",
   "metadata": {},
   "source": [
    "# Python Companion sections 1.1 - 1.4\n",
    "# Section 1.1"
   ]
  },
  {
   "cell_type": "markdown",
   "id": "738708fc-27ce-4094-bb45-4516ef95c5ad",
   "metadata": {},
   "source": [
    "A simple way of making a vector in python is to use the list data strucuture. Common mistake is to for get the commas between elements or the brackets (VMLS-python-companion pg 2). (VMLS page 2)"
   ]
  },
  {
   "cell_type": "code",
   "execution_count": 1,
   "id": "1a0d2b43-1231-4268-89a6-f11b3a53104c",
   "metadata": {},
   "outputs": [
    {
     "name": "stdout",
     "output_type": "stream",
     "text": [
      "[100, 0.2, 0, 55, 6, 2] 6\n"
     ]
    }
   ],
   "source": [
    "x = [100,.2,0,55,6,2] #create a vector using list\n",
    "print(x,len(x))"
   ]
  },
  {
   "cell_type": "markdown",
   "id": "a941ca64-0425-4294-a635-a365a2fb8306",
   "metadata": {},
   "source": [
    "You can also use numpy to use the array data structure to represent a vector. All elements can be accessed using the index of the array. "
   ]
  },
  {
   "cell_type": "code",
   "execution_count": 2,
   "id": "eeada14a-daf4-47f1-9c97-c299bf16975d",
   "metadata": {},
   "outputs": [
    {
     "name": "stdout",
     "output_type": "stream",
     "text": [
      "Print vector:  [   1    2 5023]  Print length:  3  Access on second element:  2  Show last element in array 5023\n"
     ]
    }
   ],
   "source": [
    "import numpy as np # import numpy\n",
    "x = np.array([1,2,5023])\n",
    "print('Print vector: ',x,' Print length: ',len(x), ' Access on second element: ',x[1], ' Show last element in array', x[-1])"
   ]
  },
  {
   "cell_type": "markdown",
   "id": "631a90a6-65ca-4310-82c2-ce5700a097b0",
   "metadata": {},
   "source": [
    "Overwrite the second element in  to be 5"
   ]
  },
  {
   "cell_type": "code",
   "execution_count": 3,
   "id": "c3a2d5b3-bf07-456e-9a82-5732f6ce202e",
   "metadata": {},
   "outputs": [
    {
     "name": "stdout",
     "output_type": "stream",
     "text": [
      "Before overwriting second element 2\n",
      "After overwriting second element 5\n"
     ]
    }
   ],
   "source": [
    "print('Before overwriting second element',x[1])\n",
    "x[1] = 5# indexing starts at zero and in math it usually starts at n\n",
    "print('After overwriting second element',x[1])"
   ]
  },
  {
   "cell_type": "markdown",
   "id": "7fb44afd-d057-47d3-8a5b-7a9f7ab50d9f",
   "metadata": {},
   "source": [
    "In python a copy of the array must be made to avoid maipulating to orginal array. This is, you cannot simply assign the array to a new varaible as the oringal and the newly assigned array are assigned to the same array and no new copy was made. A copy of the array must be made to create an array which is independent of the oringal to avoid altering the oringal array when changing the copy (VMLS page 3). "
   ]
  },
  {
   "cell_type": "code",
   "execution_count": 4,
   "id": "8ea6a4f8-0d1f-4b88-92f1-41dd975e2d72",
   "metadata": {},
   "outputs": [
    {
     "name": "stdout",
     "output_type": "stream",
     "text": [
      "Array a before assigning to b and altering b [ 100 3132    6]\n",
      "Array a after assigning to varaible b and altering the last element in array b [ 100 3132    0]\n"
     ]
    }
   ],
   "source": [
    "#Incorrect way of copying an array \n",
    "a = np.array([100,3132,6])\n",
    "print('Array a before assigning to b and altering b',a)\n",
    "b = a \n",
    "b[-1] = 0\n",
    "print('Array a after assigning to varaible b and altering the last element in array b',a)"
   ]
  },
  {
   "cell_type": "markdown",
   "id": "9868063a-cf9c-43f0-8407-0b295f92281d",
   "metadata": {},
   "source": [
    "Make copy to avoid this issue"
   ]
  },
  {
   "cell_type": "code",
   "execution_count": 5,
   "id": "8b3b54fe-701e-449e-8383-4101f230560a",
   "metadata": {},
   "outputs": [
    {
     "name": "stdout",
     "output_type": "stream",
     "text": [
      "Array a before assigning to b and altering b [ 100 3132    6]\n",
      "Array a after copying, assinging to b and altering the last element in array b [ 100 3132    6]\n",
      "Array b after copying, assinging to b and altering the last element in array b [ 100 3132    0]\n"
     ]
    }
   ],
   "source": [
    "#correct way to copy vector\n",
    "a = np.array([100,3132,6])\n",
    "print('Array a before assigning to b and altering b',a)\n",
    "b = a.copy() #deep copy array so we don't alter the oringal array the new array is copied from \n",
    "b[-1] = 0 # change last element in array to zero\n",
    "print('Array a after copying, assinging to b and altering the last element in array b',a)\n",
    "print('Array b after copying, assinging to b and altering the last element in array b',b)"
   ]
  },
  {
   "cell_type": "markdown",
   "id": "16c20cd3-f0e9-41a3-8407-e0369d060a71",
   "metadata": {},
   "source": [
    "Vector equality makes relational comparisons element-wise comparisons in vectors of the same size (VMLS page 4). "
   ]
  },
  {
   "cell_type": "code",
   "execution_count": 6,
   "id": "e1f55b4d-4c8d-46c4-b8e8-541baaf22977",
   "metadata": {},
   "outputs": [
    {
     "name": "stdout",
     "output_type": "stream",
     "text": [
      "[ 100 3132    6]\n",
      "All elements are equilvalent in the two vectors:  [ True  True  True]\n",
      "All elements are not equilvalent in the two vectors:  [False  True  True]\n"
     ]
    }
   ],
   "source": [
    "print(a)\n",
    "#copy a \n",
    "b = a.copy()\n",
    "print('All elements are equilvalent in the two vectors: ',a == b)# make comparisons to confirm equivalance\n",
    "#change one element in a and compare again \n",
    "b[0] = 5\n",
    "print('All elements are not equilvalent in the two vectors: ',a == b)"
   ]
  },
  {
   "cell_type": "markdown",
   "id": "8d069420-6d97-4d35-b203-57310691f8d7",
   "metadata": {},
   "source": [
    "This is slightly different for lists. The list compares the length and each entry and returns true if the two lists are equivalent. "
   ]
  },
  {
   "cell_type": "code",
   "execution_count": 7,
   "id": "3cb4be44-ab71-41de-8112-d52a408812e2",
   "metadata": {},
   "outputs": [
    {
     "data": {
      "text/plain": [
       "True"
      ]
     },
     "execution_count": 7,
     "metadata": {},
     "output_type": "execute_result"
    }
   ],
   "source": [
    "x = [1,2,3]\n",
    "y = x.copy()\n",
    "x == y #"
   ]
  },
  {
   "cell_type": "code",
   "execution_count": 8,
   "id": "90b04b87-7927-49e5-9841-9ab728c342cb",
   "metadata": {},
   "outputs": [
    {
     "data": {
      "text/plain": [
       "False"
      ]
     },
     "execution_count": 8,
     "metadata": {},
     "output_type": "execute_result"
    }
   ],
   "source": [
    "x = [1,2,3]\n",
    "y = x.copy()\n",
    "y[-1] = 3000\n",
    "x == y"
   ]
  },
  {
   "cell_type": "markdown",
   "id": "d3425a3c-e4bb-45e6-a87d-3ea7c6a53739",
   "metadata": {},
   "source": [
    "The single vector in pyhton is treated differently than it ususally is in mathmatical notation. Below we see y and x are != due to y being a list with one element and x being a int (VMLS page 5). \n"
   ]
  },
  {
   "cell_type": "code",
   "execution_count": 9,
   "id": "7c4dc447-2022-4051-8893-a1e0a03d5388",
   "metadata": {},
   "outputs": [
    {
     "name": "stdout",
     "output_type": "stream",
     "text": [
      "Here this is correct because we access the int from the list and the types are == True\n"
     ]
    }
   ],
   "source": [
    "x = 2.4\n",
    "y = [2.4]\n",
    "x == y\n",
    "print('Here this is correct because we access the int from the list and the types are ==',y[0] == 2.4)"
   ]
  },
  {
   "cell_type": "markdown",
   "id": "475b8b18-62bb-47af-aa38-d4f0ae9a07bc",
   "metadata": {},
   "source": [
    "However, Numpy 1-vectors behave like scalars."
   ]
  },
  {
   "cell_type": "code",
   "execution_count": 10,
   "id": "17428633-587e-4418-92e1-d062145f2e2b",
   "metadata": {},
   "outputs": [
    {
     "data": {
      "text/plain": [
       "array([ True])"
      ]
     },
     "execution_count": 10,
     "metadata": {},
     "output_type": "execute_result"
    }
   ],
   "source": [
    "x = 2.4\n",
    "y = np.array([2.4])\n",
    "x == y"
   ]
  },
  {
   "cell_type": "markdown",
   "id": "aa977a38-4e21-4721-801c-d9f902371cc1",
   "metadata": {},
   "source": [
    "### Block and stacked vectors\n",
    "\n",
    "Can create block and stacked vectors using the concetenate() function in python."
   ]
  },
  {
   "cell_type": "code",
   "execution_count": 11,
   "id": "e084db11-e05a-4f5c-a00a-e2a3c979f085",
   "metadata": {},
   "outputs": [
    {
     "name": "stdout",
     "output_type": "stream",
     "text": [
      "[ 1 -2  1  1  0]\n"
     ]
    }
   ],
   "source": [
    "#stacked vectors are represented in the text as (x,y) and need not be of the same size. \n",
    "x = np.array([1, -2])\n",
    "y = np.array([1,1,0])\n",
    "z = np.concatenate((x,y))\n",
    "print(z)"
   ]
  },
  {
   "cell_type": "markdown",
   "id": "b8f13654-d5ea-45c9-a9a0-6cf51ace4366",
   "metadata": {},
   "source": [
    "### Subvectors and slicing\n",
    "\n",
    "In VMLS, the mathematical notation r : s denotes the index range we are looking at for the subvector. We can achieve this in python by doing splicing using the indexes for the desired range. Must account for python indexing starting at 0 and ending at n-1 while VMLS starts at 1 and ends at n (VMLS page 6). "
   ]
  },
  {
   "cell_type": "code",
   "execution_count": 12,
   "id": "2d8f8b74-318c-41ca-97fa-d1c0b401e3b2",
   "metadata": {},
   "outputs": [
    {
     "name": "stdout",
     "output_type": "stream",
     "text": [
      "[8 3 2]\n"
     ]
    }
   ],
   "source": [
    "x = np.array([1,8,3,2,1,9,7])\n",
    "y = x[1:4]\n",
    "print(y)"
   ]
  },
  {
   "cell_type": "code",
   "execution_count": 13,
   "id": "418564c8-be0e-4aaf-b444-396aa99eb761",
   "metadata": {},
   "outputs": [
    {
     "name": "stdout",
     "output_type": "stream",
     "text": [
      "[  1 200   3   2   1   9   7]\n"
     ]
    }
   ],
   "source": [
    "#reassign a set of elements in vector using slicing \n",
    "x[1:3] = [200,3]\n",
    "print(x)"
   ]
  },
  {
   "cell_type": "code",
   "execution_count": 14,
   "id": "cc6d0f56-d08a-4823-946a-0b18422ea609",
   "metadata": {},
   "outputs": [
    {
     "name": "stdout",
     "output_type": "stream",
     "text": [
      "[2 1 9 7]\n"
     ]
    }
   ],
   "source": [
    "#get all elements starting an index to the end of vector\n",
    "print(x[3:])"
   ]
  },
  {
   "cell_type": "code",
   "execution_count": 15,
   "id": "4ca4f711-5be6-4c4e-8b62-f9da4e2bb077",
   "metadata": {},
   "outputs": [
    {
     "name": "stdout",
     "output_type": "stream",
     "text": [
      "[  1 200   3   2   1   9]\n"
     ]
    }
   ],
   "source": [
    "#get all elements except the last element in list\n",
    "print(x[:-1])"
   ]
  },
  {
   "cell_type": "markdown",
   "id": "3ff5ad7a-25cd-46ca-822b-53ddfb47fb53",
   "metadata": {},
   "source": [
    "### python indexing into arrays"
   ]
  },
  {
   "cell_type": "code",
   "execution_count": 16,
   "id": "256dc92b-fab8-41ce-8172-d895440ae934",
   "metadata": {},
   "outputs": [
    {
     "name": "stdout",
     "output_type": "stream",
     "text": [
      "[200   2]\n",
      "[  7   9   1   2   3 200   1]\n"
     ]
    }
   ],
   "source": [
    "print(x[1:4:2])# expression x[1:4:2] extracts the second (index 1) to the fifth (index 4) element with an increment of 2\n",
    "print(x[::-1])# reversed vector"
   ]
  },
  {
   "cell_type": "markdown",
   "id": "a4906dc5-1978-462f-8735-fc3b591d6b6f",
   "metadata": {},
   "source": [
    "### Vector of first differences\n",
    "This is...\n",
    "$d_i = x_{i+1}$ - x_i"
   ]
  },
  {
   "cell_type": "code",
   "execution_count": 17,
   "id": "0c69484e-9005-4cba-b114-b5d28d14656a",
   "metadata": {},
   "outputs": [
    {
     "name": "stdout",
     "output_type": "stream",
     "text": [
      "[ 7 -5 -1 -1  8 -2]\n"
     ]
    }
   ],
   "source": [
    "x = np.array([1,8,3,2,1,9,7])\n",
    "d = x[1:] - x[:-1]\n",
    "print(d)"
   ]
  },
  {
   "cell_type": "markdown",
   "id": "80a3d202-2d6e-420d-91be-77579e0b25fa",
   "metadata": {},
   "source": [
    "### List of vectors and Tuples\n",
    "\n",
    "Make sure not to get a lists of lists an array of arrays with a stacked vector."
   ]
  },
  {
   "cell_type": "code",
   "execution_count": 18,
   "id": "aec85905-bff9-461e-be8f-6145f3b06f96",
   "metadata": {},
   "outputs": [
    {
     "data": {
      "text/plain": [
       "[1, -1]"
      ]
     },
     "execution_count": 18,
     "metadata": {},
     "output_type": "execute_result"
    }
   ],
   "source": [
    "x = [1,0]\n",
    "y = [1,-1]\n",
    "z = [0,1]\n",
    "list_of_vectors = [x,y,z]\n",
    "list_of_vectors[1] #Second element of list"
   ]
  },
  {
   "cell_type": "code",
   "execution_count": 19,
   "id": "ac8d5ec8-1833-4a9c-bded-3b8983cd338d",
   "metadata": {},
   "outputs": [
    {
     "data": {
      "text/plain": [
       "1"
      ]
     },
     "execution_count": 19,
     "metadata": {},
     "output_type": "execute_result"
    }
   ],
   "source": [
    "list_of_vectors[1][0] #First entry in second element of list\n"
   ]
  },
  {
   "cell_type": "code",
   "execution_count": 20,
   "id": "804bc3ca-c943-491d-9fca-44ffb68ccae5",
   "metadata": {},
   "outputs": [
    {
     "data": {
      "text/plain": [
       "[1, -1]"
      ]
     },
     "execution_count": 20,
     "metadata": {},
     "output_type": "execute_result"
    }
   ],
   "source": [
    "tuple_of_vectors = (x,y,z)\n",
    "tuple_of_vectors[1] #Second element of list"
   ]
  },
  {
   "cell_type": "code",
   "execution_count": 21,
   "id": "53a34868-a190-44fb-96a6-1cc56da24fbb",
   "metadata": {},
   "outputs": [
    {
     "data": {
      "text/plain": [
       "1"
      ]
     },
     "execution_count": 21,
     "metadata": {},
     "output_type": "execute_result"
    }
   ],
   "source": [
    "tuple_of_vectors[1][0] #First entry in second element of list"
   ]
  },
  {
   "cell_type": "markdown",
   "id": "4dfcb687-22c4-4cb3-aa98-ea915e26a50b",
   "metadata": {},
   "source": [
    "### Zero Vector\n",
    "\n",
    "Create vectors using all zeros. Use np.zeros()"
   ]
  },
  {
   "cell_type": "code",
   "execution_count": 22,
   "id": "76c79668-aad6-4e51-8808-f575e149adcd",
   "metadata": {},
   "outputs": [
    {
     "data": {
      "text/plain": [
       "array([0., 0., 0., 0., 0.])"
      ]
     },
     "execution_count": 22,
     "metadata": {},
     "output_type": "execute_result"
    }
   ],
   "source": [
    "np.zeros(5)"
   ]
  },
  {
   "cell_type": "markdown",
   "id": "9d11566a-91eb-4428-ac46-9977b3b189fa",
   "metadata": {},
   "source": [
    "### Unit Vector\n",
    "\n",
    "Create ith unit vector of size n. This is, $e_i$ (VMLS page 8). "
   ]
  },
  {
   "cell_type": "code",
   "execution_count": 23,
   "id": "2ef95713-1e32-4275-9929-efa00609a886",
   "metadata": {},
   "outputs": [
    {
     "data": {
      "text/plain": [
       "array([0., 1., 0., 0., 0., 0., 0., 0., 0., 0.])"
      ]
     },
     "execution_count": 23,
     "metadata": {},
     "output_type": "execute_result"
    }
   ],
   "source": [
    "i = 1 #only index which holds a one in the vector\n",
    "n = 10 \n",
    "x = np.zeros(n) #create array of all zerso\n",
    "x[i] = 1 # replace the zero at index i with 1\n",
    "x #show e_i"
   ]
  },
  {
   "cell_type": "markdown",
   "id": "41c983d0-e6a2-411e-9f7c-d6e8cb61ef3d",
   "metadata": {},
   "source": [
    "### Ones Vector\n",
    "Same as zeros except us np.ones()"
   ]
  },
  {
   "cell_type": "code",
   "execution_count": 24,
   "id": "b7f264dd-f0b9-4f13-a3e5-87a4573403bf",
   "metadata": {},
   "outputs": [
    {
     "data": {
      "text/plain": [
       "array([1., 1., 1., 1., 1., 1., 1., 1., 1., 1.])"
      ]
     },
     "execution_count": 24,
     "metadata": {},
     "output_type": "execute_result"
    }
   ],
   "source": [
    "np.ones(10)"
   ]
  },
  {
   "cell_type": "markdown",
   "id": "07af192b-499d-4a31-8af9-f22569a641e8",
   "metadata": {
    "tags": []
   },
   "source": [
    "### Random Vectors\n",
    "\n",
    "We can use the random library from numpy to create vectors of size n that have randomly generated elements.  "
   ]
  },
  {
   "cell_type": "code",
   "execution_count": 25,
   "id": "adcd1672-cd69-4060-ade8-c37692f06a50",
   "metadata": {},
   "outputs": [
    {
     "data": {
      "text/plain": [
       "array([0.37295757, 0.31970726, 0.40016192, 0.8026039 , 0.17735936])"
      ]
     },
     "execution_count": 25,
     "metadata": {},
     "output_type": "execute_result"
    }
   ],
   "source": [
    "from numpy import random as random #import random \n",
    "\n",
    "random.random(5) #create an array of size 5 with random elements."
   ]
  },
  {
   "cell_type": "markdown",
   "id": "4fcf091f-ca11-4d43-b3ef-9f1e127ba1e5",
   "metadata": {
    "tags": []
   },
   "source": [
    "### Plotting\n",
    "\n",
    "plotting vectors is made easy by importing modules like matplotlibs and seaborn in pyhton. Example below uses matplotlibs. "
   ]
  },
  {
   "cell_type": "code",
   "execution_count": 26,
   "id": "330e2190-cfb6-485b-8636-3fcca6b04fee",
   "metadata": {},
   "outputs": [
    {
     "data": {
      "image/png": "[encoded data removed]",
      "text/plain": [
       "<Figure size 432x288 with 1 Axes>"
      ]
     },
     "metadata": {
      "needs_background": "light"
     },
     "output_type": "display_data"
    }
   ],
   "source": [
    "import matplotlib.pyplot as plt\n",
    "plt.ion()\n",
    "temps = [ 71, 71, 68, 69, 68, 69, 68, 74, 77, 82, 85, 86, 88, 86,\n",
    "85, 86, 84, 79, 77, 75, 73, 71, 70, 70, 69, 69, 69, 69, 67,\n",
    " 68, 68, 73, 76, 77, 82, 84, 84, 81, 80, 78, 79, 78, 73, 72,\n",
    " 70, 70, 68, 67]\n",
    "plt.plot(temps, '-bo')\n",
    "plt.savefig('temperature.pdf', format = 'pdf')\n",
    "plt.show()"
   ]
  },
  {
   "cell_type": "markdown",
   "id": "87f1a6fd-2d07-408e-97f8-6cf56e70c06d",
   "metadata": {},
   "source": [
    "# 1.2 Vector addition and Subtration"
   ]
  },
  {
   "cell_type": "markdown",
   "id": "39d10070-ae34-417b-af41-de9864388ce1",
   "metadata": {},
   "source": [
    "If the vectors are of the same size than element wise addtion and subtration is possible... (VMLS page 10)"
   ]
  },
  {
   "cell_type": "code",
   "execution_count": 27,
   "id": "06b215c1-3ddb-42ea-9b82-8670e9c21495",
   "metadata": {},
   "outputs": [
    {
     "name": "stdout",
     "output_type": "stream",
     "text": [
      "Sum of arrays: [101 202 303]\n",
      "Difference of arrays: [ -99 -198 -297]\n"
     ]
    }
   ],
   "source": [
    "x = np.array([1,2,3])\n",
    "y = np.array([100,200,300])\n",
    "print('Sum of arrays:', x+y)\n",
    "print('Difference of arrays:', x-y)"
   ]
  },
  {
   "cell_type": "markdown",
   "id": "cdf66857-89a1-4836-80ce-db0c78a600b8",
   "metadata": {},
   "source": [
    "# 1.3 Scalar-vector multiplication and division.\n"
   ]
  },
  {
   "cell_type": "markdown",
   "id": "6354f434-1693-4da0-b96a-717a4ee298fc",
   "metadata": {},
   "source": [
    "The scalar-vector product can be expressed as either a*x or x*a given x is vector and a is a scalar (VMLS page 11). "
   ]
  },
  {
   "cell_type": "code",
   "execution_count": 28,
   "id": "a8d58a8a-e29e-4dfe-b4b2-8ac647a6a6cc",
   "metadata": {},
   "outputs": [
    {
     "name": "stdout",
     "output_type": "stream",
     "text": [
      "[2.2 4.4 6.6]\n",
      "[2.2 4.4 6.6]\n",
      "Equivalent:  [ True  True  True]\n"
     ]
    }
   ],
   "source": [
    "x = np.array([1,2,3])\n",
    "a = 2.2#scalar \n",
    "print(a*x)\n",
    "#or alternatively \n",
    "print(x*a)\n",
    "print('Equivalent: ', a*x == x*a)"
   ]
  },
  {
   "cell_type": "markdown",
   "id": "09feab14-70b4-4062-8e1c-2301aac572f0",
   "metadata": {},
   "source": [
    "Scalar vector division follows the form x/a. "
   ]
  },
  {
   "cell_type": "code",
   "execution_count": 29,
   "id": "1401f5e9-27ab-4ce0-bc93-ea9604567240",
   "metadata": {},
   "outputs": [
    {
     "name": "stdout",
     "output_type": "stream",
     "text": [
      "[0.45454545 0.90909091 1.36363636]\n"
     ]
    }
   ],
   "source": [
    "x = np.array([1,2,3])\n",
    "a = 2.2 \n",
    "print(x/a)"
   ]
  },
  {
   "cell_type": "markdown",
   "id": "c263228c-9496-406d-9a7e-d48bc5b3ed5a",
   "metadata": {},
   "source": [
    "Scalar-vector addition\n",
    "\n",
    "**Note:** in python scalar-vector addition can be achieved by adding the vector and scalar which adds the scalar to each element in the vector. However, this notation is different in math. This is, we should denoate this operation as x + a1, where x is a n-vector and a a scalar (VMLS page 11). "
   ]
  },
  {
   "cell_type": "code",
   "execution_count": 30,
   "id": "f29e3f72-1372-4f94-9319-ccf7c2fb0bec",
   "metadata": {},
   "outputs": [
    {
     "name": "stdout",
     "output_type": "stream",
     "text": [
      "[3 4 5 6]\n"
     ]
    }
   ],
   "source": [
    "x = np.array([1,2,3,4])\n",
    "print(x + 2)"
   ]
  },
  {
   "cell_type": "markdown",
   "id": "316e82ce-65e1-4f0b-b0c0-dd3083efb572",
   "metadata": {},
   "source": [
    "Elementwise operations for numpy arrays are performed on expressions x*y, x/y and x**y and outputs a vector of the same length as x and y (VMLS page 11). "
   ]
  },
  {
   "cell_type": "code",
   "execution_count": 31,
   "id": "d88e86ad-a833-42f4-a7cd-7820c2507209",
   "metadata": {},
   "outputs": [
    {
     "name": "stdout",
     "output_type": "stream",
     "text": [
      "Elementwise operations provided same length vectors: \n",
      "x*y:  [ 11 325  36 656 216] \n",
      "\n",
      "x/y:  [ 0.09090909  0.07692308  1.         10.25        0.07407407] \n",
      "\n",
      "x**y:  [                  1 2818306651739822853               46656\n",
      "    2044140858654976                   0] \n",
      "\n"
     ]
    }
   ],
   "source": [
    "x = np.array([1,5,6,82,4])\n",
    "y = np.array([11,65,6,8,54])\n",
    "\n",
    "print(\"Elementwise operations provided same length vectors: \")\n",
    "print(\"x*y: \",x*y,\"\\n\")\n",
    "print(\"x/y: \",x/y,\"\\n\")\n",
    "print(\"x**y: \",x**y,\"\\n\")"
   ]
  },
  {
   "cell_type": "markdown",
   "id": "5dcb7bbf-acab-4e20-a68c-9c5e09c797d0",
   "metadata": {},
   "source": [
    "Linear combinations using scalar-vector mulitplication and addition (VMLS page 12)"
   ]
  },
  {
   "cell_type": "code",
   "execution_count": 32,
   "id": "565097d8-cdce-408f-893b-7d1bd0012343",
   "metadata": {},
   "outputs": [
    {
     "data": {
      "text/plain": [
       "array([8.5, 8. ])"
      ]
     },
     "execution_count": 32,
     "metadata": {},
     "output_type": "execute_result"
    }
   ],
   "source": [
    "a = np.array([7,2])\n",
    "b = np.array([8,6])\n",
    "alpha = -0.5\n",
    "beta = 1.5\n",
    "c = alpha*a + beta*b\n",
    "c"
   ]
  },
  {
   "cell_type": "markdown",
   "id": "02f3d46b-94f8-4301-97ea-ee41809203ea",
   "metadata": {},
   "source": [
    "Defining function can make doing something repetivie more streamlined. This is, rather than rewrite the code simply call the function (VMLS page 12). "
   ]
  },
  {
   "cell_type": "code",
   "execution_count": 33,
   "id": "94386624-8982-4be8-95de-3d90892d40a3",
   "metadata": {},
   "outputs": [
    {
     "data": {
      "text/plain": [
       "array([8.5, 8. ])"
      ]
     },
     "execution_count": 33,
     "metadata": {},
     "output_type": "execute_result"
    }
   ],
   "source": [
    "def lincomb(coef, vectors):\n",
    "    n = len(vectors[0])\n",
    "    comb = np.zeros(n)\n",
    "    \n",
    "    for i in range(len(vectors)):\n",
    "        comb = comb + coef[i] * vectors[i]\n",
    "    return comb\n",
    "lincomb([alpha, beta], [a,b])\n"
   ]
  },
  {
   "cell_type": "markdown",
   "id": "ada6542f-a18b-40f5-b06e-3f7a77a0bac7",
   "metadata": {},
   "source": [
    "A more pythonic way of writing the above function would be..."
   ]
  },
  {
   "cell_type": "code",
   "execution_count": 34,
   "id": "5a892e71-2bec-4f73-b664-e31687c3efd2",
   "metadata": {},
   "outputs": [
    {
     "data": {
      "text/plain": [
       "array([8.5, 8. ])"
      ]
     },
     "execution_count": 34,
     "metadata": {},
     "output_type": "execute_result"
    }
   ],
   "source": [
    "def lincomb(coef, vectors):\n",
    "    return sum(coef[i]*vectors[i] for i in range(len(vectors)))\n",
    "\n",
    "lincomb([alpha, beta], [a,b])"
   ]
  },
  {
   "cell_type": "markdown",
   "id": "3e3196b2-80aa-4a04-99c7-31b06ff7474f",
   "metadata": {},
   "source": [
    "Checking properties. It is good practice to verify and learn the properties of vector manipulations.\n",
    "\n",
    "Note: when checking properties such as the distributive property $\\beta(a+b) = \\beta a  + \\beta b$ will not always be equivalent in python do to round-ff errors in floating point compuations (VMLS page 13). \n",
    "\n",
    "Example shouing the distributive property"
   ]
  },
  {
   "cell_type": "code",
   "execution_count": 35,
   "id": "53e62acc-675b-4c08-b607-968995840255",
   "metadata": {},
   "outputs": [
    {
     "name": "stdout",
     "output_type": "stream",
     "text": [
      "a : [0.73178553 0.2993835  0.89380331]\n",
      "b : [0.54429265 0.98522251 0.59865598]\n",
      "beta : 0.19322543259134772\n",
      "LHS : [0.24657076 0.24821855 0.28838109]\n",
      "RHS : [0.24657076 0.24821855 0.28838109]\n"
     ]
    }
   ],
   "source": [
    "a = np.random.random(3)\n",
    "b = np.random.random(3)\n",
    "beta = np.random.random()\n",
    "lhs = beta*(a+b)\n",
    "rhs = beta*a + beta*b\n",
    "print('a :', a)\n",
    "print('b :', b)\n",
    "print('beta :', beta)\n",
    "print('LHS :', lhs)\n",
    "print('RHS :', rhs)"
   ]
  },
  {
   "cell_type": "markdown",
   "id": "7636ea1a-fd91-4357-8691-96b777f9280a",
   "metadata": {},
   "source": [
    "# Section 1.4 Inner Product"
   ]
  },
  {
   "cell_type": "markdown",
   "id": "d3461b97-d1d2-4d83-b562-5646d2ac4b39",
   "metadata": {},
   "source": [
    "The inner product of n-vector s and p is denoted as $\\sum_{i=1}^{n}p_is_i$ = $p^Ts$\n",
    "\n",
    "In python we can simply use the numpy function for computing the inner product. This is, np.inner(x,y)"
   ]
  },
  {
   "cell_type": "code",
   "execution_count": 36,
   "id": "555b17ca-d3df-4450-a1ff-5df6ea910342",
   "metadata": {},
   "outputs": [
    {
     "name": "stdout",
     "output_type": "stream",
     "text": [
      "-7\n"
     ]
    }
   ],
   "source": [
    "x = np.array([-1,2,2])\n",
    "y = np.array([1,0,-3])\n",
    "print(np.inner(x,y))"
   ]
  },
  {
   "cell_type": "markdown",
   "id": "00cff3e4-3ce4-42df-ad72-48ce313a7b4f",
   "metadata": {},
   "source": [
    "The @ is also used to compute the inner product for to np arrays as follows. "
   ]
  },
  {
   "cell_type": "code",
   "execution_count": 37,
   "id": "8bb8b8f8-a04e-48b5-8604-1dfbffc9ad3c",
   "metadata": {},
   "outputs": [
    {
     "data": {
      "text/plain": [
       "-7"
      ]
     },
     "execution_count": 37,
     "metadata": {},
     "output_type": "execute_result"
    }
   ],
   "source": [
    "x@y"
   ]
  },
  {
   "cell_type": "code",
   "execution_count": 38,
   "id": "b70bbb83-0ed9-4d51-8624-38993be212d5",
   "metadata": {},
   "outputs": [
    {
     "name": "stdout",
     "output_type": "stream",
     "text": [
      "Computing the inner product using either method produces an equivalent result:  True\n"
     ]
    }
   ],
   "source": [
    "r = random.randint(0, 10)\n",
    "x = random.random(r) #create an array of size 5 with random elements.\n",
    "y = random.random(r) #create an array of size 5 with random elements.\n",
    "print(\"Computing the inner product using either method produces an equivalent result: \",np.inner(x,y)==x@y)"
   ]
  },
  {
   "cell_type": "markdown",
   "id": "592b264c-81e1-45e1-bb36-25bc591a8177",
   "metadata": {},
   "source": [
    "## Examples VMLS pg 14"
   ]
  },
  {
   "cell_type": "markdown",
   "id": "40d78070-3610-4f95-b250-327524e87e0c",
   "metadata": {
    "tags": []
   },
   "source": [
    "1. Net present value - find the present value (NPV) of cash flow vector c, with per-period interest rate of r. "
   ]
  },
  {
   "cell_type": "code",
   "execution_count": 39,
   "id": "df8dfd36-b58f-410d-981c-ffae9a1d6190",
   "metadata": {},
   "outputs": [
    {
     "name": "stdout",
     "output_type": "stream",
     "text": [
      "1.236162401468524\n"
     ]
    }
   ],
   "source": [
    "c = np.array([0.1,0.1,0.1,1.1]) #cash flow vector\n",
    "n = len(c) # get length of c so we can use it for iterating and creating d.\n",
    "r = 0.05 #5% per-period interest rate\n",
    "d = np.array([(1+r)**-i for i in range(n)]) #create vector d by raising 1+r to i for each element in n. Using List comprehension\n",
    "NPV = c @ d #compute inner product of vectors c and d \n",
    "print(NPV)"
   ]
  },
  {
   "cell_type": "markdown",
   "id": "e70c4cb6-d53d-4aae-9f2e-8b2fc05c8fcd",
   "metadata": {},
   "source": [
    "2. Total school-age population. \n",
    "Suppose that the 100-vector x gives the age distribution of some population, with xi the number of people of age i − 1, for i = 1, . . . , 100. We can express this as sT x where s is the vector with entries one for i = 6, . . . , 19 and\n",
    "zero otherwise. "
   ]
  },
  {
   "cell_type": "raw",
   "id": "0ce63e56-e4eb-4745-ba38-6257d0751908",
   "metadata": {},
   "source": [
    "#create a vector with all ones in the inclusive range; in this case this is indexes 5-18 and is x_6 + x_7 ... + x_19 \n",
    "s = np.concatenate([np.zeros(5), np.ones(14), np.zeros(81)])\n",
    "school_age_pop = s @ x # not provided the distribution but this how the dot product should be computed if it was provided. "
   ]
  }
 ],
 "metadata": {
  "kernelspec": {
   "display_name": "Python 3",
   "language": "python",
   "name": "python3"
  },
  "language_info": {
   "codemirror_mode": {
    "name": "ipython",
    "version": 3
   },
   "file_extension": ".py",
   "mimetype": "text/x-python",
   "name": "python",
   "nbconvert_exporter": "python",
   "pygments_lexer": "ipython3",
   "version": "3.8.8"
  }
 },
 "nbformat": 4,
 "nbformat_minor": 5
}

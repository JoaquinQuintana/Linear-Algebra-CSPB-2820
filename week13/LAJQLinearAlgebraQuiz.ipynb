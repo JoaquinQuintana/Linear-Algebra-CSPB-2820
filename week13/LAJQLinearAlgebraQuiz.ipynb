{
 "cells": [
  {
   "cell_type": "markdown",
   "id": "cd23a12e-6e68-472d-8f9a-e40903bafa6b",
   "metadata": {},
   "source": [
    "#quiz 11"
   ]
  },
  {
   "cell_type": "code",
   "execution_count": 1,
   "id": "46f5e186-e4f8-4802-b695-5cc60f286ed7",
   "metadata": {},
   "outputs": [
    {
     "name": "stdout",
     "output_type": "stream",
     "text": [
      "square matrix columns\n",
      "0 [0.21621699 0.23296603 0.48193898]\n",
      "1 [0.76286731 0.92987165 0.27044559]\n",
      "2 [0.03147738 0.41661344 0.10118116]\n",
      "Vectors are linearly independent.\n",
      " \n",
      "\n",
      "square matrix rows \n",
      "0 [0.21621699 0.76286731 0.03147738]\n",
      "1 [0.23296603 0.92987165 0.41661344]\n",
      "2 [0.48193898 0.27044559 0.10118116]\n",
      "Vectors are linearly independent.\n",
      "\n",
      "\n",
      "square matrix row as zero vector \n",
      "0 [0.21621699 0.76286731 0.03147738]\n",
      "1 [0.23296603 0.92987165 0.41661344]\n",
      "2 [0. 0. 0.]\n",
      "Vectors are linearly dependent.\n",
      "GS algorithm terminates at iteration  3\n",
      "\n",
      "Working with an m*n matrix now\n",
      "\n",
      "Shape of matrix A:  2 3\n",
      "%%%%%%%%%%%%%%%%%% Working on rows first %%%%%%%%%%%%%%%%\n",
      "\n",
      "By the independence dimension inequality the set of vectors are linerally independent\n",
      "\n",
      "Using gram schmidt show the same result as the independence dim. ineq. \n",
      "\n",
      "0 [0.8047641  0.54529609 0.43153725]\n",
      "1 [0.70177377 0.76359597 0.05526124]\n",
      "Vectors are linearly independent.\n",
      "\n",
      "%%%%%%%%%%%%% End rows %%%%%%%%%%%%%%%%%%\n",
      "\n",
      "%%%%%%%%%%%% Working on columns next %%%%%%%%%%%%%%\n",
      "\n",
      "By the independence dimension inequality the set of vectors are linerally dependent\n",
      "\n",
      "Using gram schmidt show the same result as the independence dim. ineq. \n",
      "\n",
      "0 [0.8047641  0.70177377]\n",
      "1 [0.54529609 0.76359597]\n",
      "2 [0.43153725 0.05526124]\n",
      "Vectors are linearly dependent.\n",
      "GS algorithm terminates at iteration  3\n"
     ]
    }
   ],
   "source": [
    "import numpy as np\n",
    "\n",
    "#by the independece dimension inequality \n",
    "def independenceDimensionInq(k,N):\n",
    "    if (k <= N): \n",
    "        print(\"\\nBy the independence dimension inequality the set of vectors are linerally independent\\n\")\n",
    "    else: \n",
    "        print(\"\\nBy the independence dimension inequality the set of vectors are linerally dependent\\n\")\n",
    "        \n",
    "def gram_schmidt(a):\n",
    "    q = []\n",
    "    for i in range(len(a)):\n",
    "    #orthogonalization\n",
    "        q_tilde = a[i]\n",
    "        print(\"%s\" % i ,q_tilde)\n",
    "        for j in range(len(q)):\n",
    "            q_tilde = q_tilde - (q[j] @ a[i])*q[j]\n",
    "        #Test for dependennce\n",
    "        if np.sqrt(sum(q_tilde**2)) <= 1e-10:\n",
    "            print('Vectors are linearly dependent.')\n",
    "            print('GS algorithm terminates at iteration ', i+1)\n",
    "            return q\n",
    "            #Normalization\n",
    "        else:\n",
    "            q_tilde = q_tilde / np.sqrt(sum(q_tilde**2))\n",
    "            q.append(q_tilde)\n",
    "    print('Vectors are linearly independent.')\n",
    "    return q\n",
    "\n",
    "square = np.random.rand(3,3)\n",
    "print(\"square matrix columns\")\n",
    "gram_columns = gram_schmidt(square.T)\n",
    "print(\" \\n\")\n",
    "print(\"square matrix rows \")\n",
    "gram_rows = gram_schmidt(square)\n",
    "print(\"\\n\")\n",
    "\n",
    "#example of changing one row or column of the square matrix Similiar to VMLS 11.15\n",
    "print(\"square matrix row as zero vector \")\n",
    "square[2,:] = 0\n",
    "gram_zeroVec = gram_schmidt(square)\n",
    "\n",
    "#create an m*n matrix \n",
    "print(\"\\nWorking with an m*n matrix now\\n\")\n",
    "rec = np.random.rand(2,3)\n",
    "\n",
    "m,n = rec.shape\n",
    "print(\"Shape of matrix A: \", m,n)\n",
    "\n",
    "#first work on the rows \n",
    "print(\"%%%%%%%%%%%%%%%%%% Working on rows first %%%%%%%%%%%%%%%%\")\n",
    "#let N = n from the n-vector which is the length of each n-vector in the set. \n",
    "N = n # length of each n-vector \n",
    "k = m #let k be the number of n-vectors in the set. \n",
    "#check if rows are linerally independent simply by checking if k <= N\n",
    "independenceDimensionInq(k,N)\n",
    "\n",
    "print(\"Using gram schmidt show the same result as the independence dim. ineq. \\n\")\n",
    "#Now show they are linerally independent using gram-schmidt \n",
    "gram_schmidt(rec)\n",
    "print(\"\\n%%%%%%%%%%%%% End rows %%%%%%%%%%%%%%%%%%\")\n",
    "#first work on the columns \n",
    "print(\"\\n%%%%%%%%%%%% Working on columns next %%%%%%%%%%%%%%\")\n",
    "#let N = n from the n-vector which is the length of each n-vector in the set. \n",
    "N = m # length of each n-vector \n",
    "k = n #let k be the number of n-vectors in the set. \n",
    "#check if rows are linerally independent simply by checking if k <= N\n",
    "independenceDimensionInq(k,N)\n",
    "print(\"Using gram schmidt show the same result as the independence dim. ineq. \\n\")\n",
    "#Now show they are linerally independent using gram-schmidt \n",
    "g = gram_schmidt(rec.T)"
   ]
  },
  {
   "cell_type": "code",
   "execution_count": 16,
   "id": "25162b7e-1562-408b-b2b0-892ed05d0327",
   "metadata": {},
   "outputs": [],
   "source": [
    "A = np.array([[0,1],[1,-1]])\n",
    "B = np.array([[1,-1],[0,1]])"
   ]
  },
  {
   "cell_type": "code",
   "execution_count": 17,
   "id": "c242e273-b0b1-4c0f-b244-26698bfc96a4",
   "metadata": {},
   "outputs": [
    {
     "data": {
      "text/plain": [
       "array([[1, 0],\n",
       "       [1, 0]])"
      ]
     },
     "execution_count": 17,
     "metadata": {},
     "output_type": "execute_result"
    }
   ],
   "source": [
    "A+B"
   ]
  },
  {
   "cell_type": "code",
   "execution_count": 18,
   "id": "620720dd-16da-4677-85a9-a8a1ff716d83",
   "metadata": {},
   "outputs": [
    {
     "name": "stdout",
     "output_type": "stream",
     "text": [
      "0 [0 1]\n",
      "1 [ 1 -1]\n",
      "Vectors are linearly independent.\n",
      "0 [ 1 -1]\n",
      "1 [0 1]\n",
      "Vectors are linearly independent.\n"
     ]
    },
    {
     "data": {
      "text/plain": [
       "[array([ 0.70710678, -0.70710678]), array([0.70710678, 0.70710678])]"
      ]
     },
     "execution_count": 18,
     "metadata": {},
     "output_type": "execute_result"
    }
   ],
   "source": [
    "gram_schmidt(A)\n",
    "gram_schmidt(B)"
   ]
  },
  {
   "cell_type": "code",
   "execution_count": 19,
   "id": "036af3df-9a99-4313-962b-5ac8383eb3e2",
   "metadata": {},
   "outputs": [
    {
     "name": "stdout",
     "output_type": "stream",
     "text": [
      "0 [1 0]\n",
      "1 [1 0]\n",
      "Vectors are linearly dependent.\n",
      "GS algorithm terminates at iteration  2\n"
     ]
    },
    {
     "data": {
      "text/plain": [
       "[array([1., 0.])]"
      ]
     },
     "execution_count": 19,
     "metadata": {},
     "output_type": "execute_result"
    }
   ],
   "source": [
    "gram_schmidt(A+B)"
   ]
  },
  {
   "cell_type": "code",
   "execution_count": 29,
   "id": "96de5f26-d15d-4cce-a60f-5a243a5f1a9a",
   "metadata": {},
   "outputs": [
    {
     "name": "stdout",
     "output_type": "stream",
     "text": [
      "0 [0. 1. 1. 0.]\n",
      "1 [ 1. -1.  1.  0.]\n",
      "2 [ 0.  0.  1. -1.]\n",
      "3 [0. 0. 0. 1.]\n",
      "Vectors are linearly independent.\n"
     ]
    },
    {
     "data": {
      "text/plain": [
       "[array([0.        , 0.70710678, 0.70710678, 0.        ]),\n",
       " array([ 0.57735027, -0.57735027,  0.57735027,  0.        ]),\n",
       " array([-0.3086067 , -0.15430335,  0.15430335, -0.9258201 ]),\n",
       " array([-0.75592895, -0.37796447,  0.37796447,  0.37796447])]"
      ]
     },
     "execution_count": 29,
     "metadata": {},
     "output_type": "execute_result"
    }
   ],
   "source": [
    "Block = np.block([[A,A+B],[np.zeros([2,2]),B]])\n",
    "gram_schmidt(Block)"
   ]
  },
  {
   "cell_type": "code",
   "execution_count": 30,
   "id": "2baad64e-dbeb-4421-bfe5-d7cb4ef6e2ee",
   "metadata": {},
   "outputs": [
    {
     "name": "stdout",
     "output_type": "stream",
     "text": [
      "0 [ 1 -1]\n",
      "1 [-2  3]\n",
      "Vectors are linearly independent.\n"
     ]
    },
    {
     "data": {
      "text/plain": [
       "[array([ 0.70710678, -0.70710678]), array([0.70710678, 0.70710678])]"
      ]
     },
     "execution_count": 30,
     "metadata": {},
     "output_type": "execute_result"
    }
   ],
   "source": [
    "multiplication = A@B@A\n",
    "gram_schmidt(multiplication)"
   ]
  },
  {
   "cell_type": "code",
   "execution_count": null,
   "id": "eadf7053-7e42-4b06-8f79-9f1841428269",
   "metadata": {},
   "outputs": [],
   "source": []
  }
 ],
 "metadata": {
  "kernelspec": {
   "display_name": "Python 3",
   "language": "python",
   "name": "python3"
  },
  "language_info": {
   "codemirror_mode": {
    "name": "ipython",
    "version": 3
   },
   "file_extension": ".py",
   "mimetype": "text/x-python",
   "name": "python",
   "nbconvert_exporter": "python",
   "pygments_lexer": "ipython3",
   "version": "3.8.8"
  }
 },
 "nbformat": 4,
 "nbformat_minor": 5
}

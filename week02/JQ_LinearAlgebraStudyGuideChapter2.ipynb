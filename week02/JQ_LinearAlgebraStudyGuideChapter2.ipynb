{
 "cells": [
  {
   "cell_type": "markdown",
   "id": "d11467a2-f167-4429-8cd8-18d0824c9b5b",
   "metadata": {},
   "source": [
    "**VMLS - Study Guide Chapter 2 Name: Joaquin Quintana**\n",
    "\n",
    "Submit your work in Gradescope as a PDF.\n",
    "Identify the question number as you submit.\n",
    "One section per page (if a page or less)\n",
    "Do not start a new question in the middle of a page."
   ]
  },
  {
   "cell_type": "markdown",
   "id": "24f96b42-5e69-46b4-bbb1-d7581287306e",
   "metadata": {},
   "source": [
    "1. (10 pts) Select one page or section of Chapter One of VMLS to annotate. Include a screenshot of your annotation here."
   ]
  },
  {
   "cell_type": "markdown",
   "id": "a01dc3cf-a531-4c97-b26e-8527c5818ee5",
   "metadata": {},
   "source": [
    "**2. (10 pts) Solve the Chapter 2 Random exercise from the video and Piazza in your own\n",
    "words here.**\n",
    "\n",
    "2.7 General formula for affine functions. Verify that formula (2.4) holds for any affine function $f : R_n → R$. You can use the fact that $f (x) = a^Tx + b$ for some n-vector a and scalar b.\n",
    "\n",
    "**Provided function 2.4** \n",
    "\n",
    "$(x) = f(0) + x_1(f(e_1)-f(0)) +...+x_n(f(e_n)-f(0))$"
   ]
  },
  {
   "cell_type": "markdown",
   "id": "fcb93467-a26a-4bbe-886b-fc99614b5c7b",
   "metadata": {},
   "source": [
    "We can show the relationship by starting with the function 2.4 and ending with $f (x) = a^Tx + b$ First pull each piece apart and then reassemble.  \n",
    "\n",
    "Starting with f(0):\n",
    "\n",
    "$f(0) = a^T0 + b = 0 + b = b$\n",
    "\n",
    "Next looking at the series evaluated with unit vectors\n",
    "\n",
    "$f(e_1) = a^Te_1 + b = (a_1e_1 + 0 + ... + 0) + b = a_1*1 + b =a_1 + b$\n",
    "\n",
    "$f(e_2) = a^Te_2  + b = (0+ a_2e_2 + ... + 0) + b = a_2*1 + b = a_2  + b $ ...\n",
    "\n",
    "$f(e_n) = a^Te_n  + b = a_n + b$\n",
    "\n",
    "Finally by substitution \n",
    "\n",
    "$x_1(f(e_1)-f(0))  = x_1(a_1 + b - b) = x_1a_1$\n",
    "\n",
    "$x_2(f(e_2)-f(0))  = x_2(a_2 + b - b)  = x_2a_2$ ...\n",
    "\n",
    "$x_n(f(e_n)-f(0))  = x_n(a_n + b - b) = x_na_n$\n",
    "\n",
    "and we get \n",
    "\n",
    "$f(x) = f(0) + x_1(f(e_1)-f(0)) +...+x_n(f(e_n)-f(0))$\n",
    "\n",
    "$ = b + (x_1a_1 +...+ x_na_n) $\n",
    "\n",
    "$ = a^Tx + b $\n"
   ]
  },
  {
   "cell_type": "markdown",
   "id": "79c26ac4-ef12-499c-97c2-a0302af72371",
   "metadata": {},
   "source": [
    "**3. (20 pts) Explain the solution to 2.1 here in your own words. (Since you are given a\n",
    "solution, you will be graded on your ability to explain).**"
   ]
  },
  {
   "cell_type": "markdown",
   "id": "9a4cce82-687d-4e6c-a964-d4438b819059",
   "metadata": {},
   "source": [
    "For all of these problems we either need to provide scalars $\\alpha, \\beta, x $ and $y$ which show the superposition is violated or provide an exmaple of the inner product which show we do not have a linear function or do, respectively. \n",
    "\n",
    "**a)** $f(x)$ takes in a vector and returns the difference for the max and min elements in vector x. To show that this is not linear we will show superposition fails or that $f(\\alpha x + \\beta y ) !=  \\alpha f(x) + \\beta f(y)$. \n",
    "\n",
    "Let $x = (1,0), y = (0,1)$ and $\\alpha = \\beta = 1/2$\n",
    "\n",
    "Show  $f(\\alpha x + \\beta y ) = 0$\n",
    "\n",
    "$ = \\alpha x = 1/2 *(1,0) = (1/2,0)$\n",
    "\n",
    "$ = \\beta x = 1/2 *(0,1) = (0,1/2)$\n",
    "\n",
    "$(\\alpha x + \\beta y ) = (1/2,0) + (0,1/2) = (1/2,1/2)$\n",
    "\n",
    "$f(\\alpha x + \\beta y ) = f(1/2,1/2) = 1/2-1/2 = 0$\n",
    "\n",
    "Now show that  $\\alpha f(x) + \\beta f(y) = 1$\n",
    "\n",
    "$\\alpha f(x) + \\beta f(y) = $\n",
    "\n",
    "$0.5*(1-0) + 0.5(1-0) = 1/2+1/2 = 1 $\n",
    "\n",
    "We see that superposition fails for the function as $f(\\alpha x + \\beta y ) !=  \\alpha f(x) + \\beta f(y)$ and is therefore not linear. "
   ]
  },
  {
   "cell_type": "markdown",
   "id": "8761f2d6-30eb-4e91-9158-5ea2e1f359f7",
   "metadata": {},
   "source": [
    "**3b)** Function provided is $f(x) = x_n - x_1$ or the difference between the first and last element in vector x. This can be represented as $f(x) = a^Tx$ where a has $a_1 = -1, a_n = 1$ and all other postions in vector a equal 0. This will output a inner product which is $-x_1 + x_n $ which can be rearranged to be $x_n -x_1 $. Since this function can be represented as the inner product of vecotors a and x we can say it is linear. "
   ]
  },
  {
   "cell_type": "markdown",
   "id": "3e9e9949-bde8-4066-a497-5b6d29b18395",
   "metadata": {},
   "source": [
    "**3c)** $f(x)$ takes in a vector x and returns the median of x. We assume x has a size n which is odd. We will show that this function is not linear using superposition. \n",
    "\n",
    "Show  $f(\\alpha x + \\beta y ) = 1$\n",
    "\n",
    "Let $x = (-1,0,2), y = (2,-1,0)$ and $\\alpha = \\beta = 1$ \n",
    "\n",
    "$ = \\alpha x = 1 *(-1,0,2) = (-1,0,2)$\n",
    "\n",
    "$ = \\beta y = 1 *(2,-1,0) = (2,-1,0)$\n",
    "\n",
    "$(\\alpha x + \\beta y ) = (-1,0,2) + (2,-1,0) = (1,-1,2)$\n",
    "\n",
    "$f(\\alpha x + \\beta y ) = f(1,-1,2)= 1$ # median return from f(x) =  1\n",
    "\n",
    "Now show that  $\\alpha f(x) + \\beta f(y) = 0$\n",
    "\n",
    "$\\alpha f(x) + \\beta f(y) = $\n",
    "\n",
    "$1*f(x) + 1f(y) = (1*0)+ (1*0)= 0 $\n",
    "\n",
    "We see that superposition fails for the function as $f(\\alpha x + \\beta y ) !=  \\alpha f(x) + \\beta f(y)$ and is therefore not linear. "
   ]
  },
  {
   "cell_type": "markdown",
   "id": "92f056bb-3a5c-4bd1-ba00-b8402a271f60",
   "metadata": {},
   "source": [
    "**3d)** We have two options which arise for vector $a$ depending on $a$ having a size n which is odd or even. If even the average of the odd indicies and even indicies is of size m = n/2. Otherwise we have an n which is odd and their are m+1 odd indicies and m even indicies. \n",
    "\n",
    "For the former we get ...\n",
    "\n",
    "$f(x) = a^Tx$ when $ a = (\\frac{1}{m},-\\frac{1}{m},+...+,\\frac{1}{m},-\\frac{1}{m})$\n",
    "\n",
    "and the latter\n",
    "\n",
    "$f(x) = a^Tx$ when $ a = (\\frac{1}{m+1},-\\frac{1}{m},+...+,\\frac{1}{m+1},-\\frac{1}{m})$\n",
    "\n",
    "We see there exists an inner product which represents $f(x)$ and therefore $f(x)$ is linear."
   ]
  },
  {
   "cell_type": "markdown",
   "id": "c2600a9a-12f3-425a-a54d-ada161ce1b68",
   "metadata": {},
   "source": [
    "**3e)** Vector extrapolation is defined by $f(x) = x_n + (x_n - x_{n-1})$. \n",
    "\n",
    "We can rewrite this as $f(x) = 2x_n - x_{n-1}$. Next it is clear we only use the last two elements in the vector and the vector must be of size n >= 2 as we need at least two elements to compute the extapolation vector. \n",
    "\n",
    "To do this we can make a vector $a$ which has all zeros except $a_{n-1} = -1$ and $a_n = 2$. This is, ...\n",
    "\n",
    "$a = (0,0,...,0,-1,2)$ \n",
    "\n",
    "by computing inner product this way we see this function is linear and can be written as $f(x) = a^Tx$. "
   ]
  },
  {
   "cell_type": "markdown",
   "id": "5a3a5780-d0b8-49ba-8ee3-51331a74cac1",
   "metadata": {},
   "source": [
    "**4. (20 pts) Explain the solution to 2.4 here in your own words. (Since you are given a solution, you will be graded on your ability to explain).**\n",
    "\n",
    "We are provided a function $\\phi$ which takes in a 3-vector and there are also three inputs and outputs provided for analysis. These are ...\n",
    "\n",
    "1 $\\phi(1,1,0) = -1$\n",
    "\n",
    "2 $\\phi(-1,1,1) = 1$\n",
    "\n",
    "3 $\\phi(1,-1,-1) = 1$\n",
    "\n",
    "\n",
    "We see that point 2 is the inverse of 3, but the results are equivalent. To see this lets multiply point 3 by -1...\n",
    "\n",
    "$\\phi(-1*1,-1*-1,-1*-1) = -1*1$\n",
    "\n",
    "$\\phi(-1,1,1) = -1$ \n",
    "\n",
    "This show that the inverse, if linear, would indeed be -1 but the provided function returns 1 and therefore this function is not linear and cannot be represented as an inner product. If this function was linear we would see the inverse inputs for the function would equal zero or $f(x) + f(~x) = 0$. "
   ]
  },
  {
   "cell_type": "markdown",
   "id": "df95de84-319d-444c-9895-b83ec12efe56",
   "metadata": {},
   "source": [
    "**5. (20 pts) Explain the solution to 2.6 here in your own words. (Since you are given asolution, you will be graded on your ability to explain).**"
   ]
  },
  {
   "cell_type": "markdown",
   "id": "68acc8e1-9570-4f38-8f29-43eed80982e5",
   "metadata": {},
   "source": [
    "We are told the vector a is a 30 vector composed of two sets each of size 15. This can be represented as $w = (1_{15},21_{15})$ which says the first 15 elements of the vector are 1s and the second half, entries 16-30, are 2s. Next, we are told scores are to be recorded in vecotor a if question i is answered Rarely, Sometimes, or Often, respectively. \n",
    "\n",
    "Now we can simplify this problem by subtracting 1 from vector a or a-1, which is 0,1,2. Now we can see the problem is setup and the inner product of $1^T(a_{1:15} -1)$ results in outputs of only 0,1,2 and $2^T(a_{16:30} -1)$ only outputs 0,2,4.  \n",
    "\n",
    "Next let's take the hint from Piazza and say all the entries in vector $a$ are 2s. Then a-1 is a 30-vector composed of all 1s and the inner product is $(1_{15},21_{15})^T1 = 45$.\n",
    "\n",
    "Solution: $(1_{15},21_{15})^T(a-1) = (1_{15},21_{15})^Ta-45$\n",
    "\n",
    "The scalar 45 is chosen to normalize the score as when a-1 is used to align the computations for the correct output score we end up with a maximum result which is 45 and to high. This can easily be fixed by using the scalar v = -45. "
   ]
  },
  {
   "cell_type": "markdown",
   "id": "3b8b2425-ccdc-4ec1-b089-3ad2c5958ec5",
   "metadata": {},
   "source": [
    "**6. (20 pts)** \n",
    "\n",
    "a) Redo the proof on page 30 that an inner product satisfies superposition\n",
    "with 2 vectors of your own choosing (using length 3).\n",
    "\n",
    "b) Is this still a proof?\n",
    "\n",
    "c) Why is it useful?"
   ]
  },
  {
   "cell_type": "markdown",
   "id": "6fbf3036-28ab-4785-ae61-720b23ec90d9",
   "metadata": {},
   "source": [
    "**a) Redo the proof on page 30 that an inner product satisfies superposition\n",
    "with 2 vectors of your own choosing (using length 3).**\n",
    "\n",
    "I will show the proof of an inner product satisfies superposition by computing the average of a n-vector x. \n",
    "\n",
    "Let vector $a$ be of the same size as x and all the elements in a be equal to 1/n. Computing $f(x) = a^Tx$ which is ... \n",
    "\n",
    "$\\frac{x_1}{n} + ... \\frac{x_n}{n} $\n",
    "\n",
    "Now lets show that this function is linear by showing the inner product satisfies superposition\n",
    "\n",
    "Let $\\alpha$, $ \\beta = 1$, $x =(-2,11,0)$ and $y = (10,2,3)$. \n",
    "\n",
    "To show superposition is satisfied we must show: $f(\\alpha x + \\beta y ) ==  \\alpha f(x) + \\beta f(y)$. \n",
    "\n",
    "**Here I will break the problem into smaller pieces and reassemble...**\n",
    "\n",
    "Start with the left side of the equivalance, i.e., $f(\\alpha x + \\beta y )$\n",
    "\n",
    "$\\alpha x = 1*(-2,11,0) = (-2,11,0)$\n",
    "\n",
    "$\\beta y = 1*(10,2,3) = (10,2,3)$\n",
    "\n",
    "$f(\\alpha x + \\beta y ) = f( (-2,11,0) + (10,2,3) ) = f( (8,13,3) ) = \\frac{8+13+3}{3} = 8$\n",
    "\n",
    "Next the right, i.e., $\\alpha f(x) + \\beta f(y)$\n",
    "\n",
    "$\\alpha f(x) = 1*f( (-2,11,0) ) = \\frac{-2+(-11)+0}{3} = 3$\n",
    "\n",
    "$\\beta f(y) = 1*f( (10,2,3) ) = \\frac{10+2+3}{3} = 5$\n",
    "\n",
    "$\\alpha f(x) + \\beta f(y) = 3 + 5 = 8$\n",
    "\n",
    "Therefore superposition is satisfied and the function is linear as we have shown $f(\\alpha x + \\beta y ) ==  \\alpha f(x) + \\beta f(y)$ holds for random vectors x and y. "
   ]
  },
  {
   "cell_type": "markdown",
   "id": "c404ed36-ffe1-4021-bbc8-cbfd27015fee",
   "metadata": {},
   "source": [
    "**6 b and c)** \n",
    "\n",
    "This is still a proof but in a less formal way. It shows that there are cases which do infact satisfy our suspicions while also serving as a good way to interpert the math in a real world example. This last point for me is often times more important as it helps me relate the math to the real world and make sense of the mathmatical notation by ripping it apart for deciphering. "
   ]
  },
  {
   "cell_type": "markdown",
   "id": "5fcd7ac3-3101-4cbe-9829-48cea5cacd5a",
   "metadata": {},
   "source": [
    "# Code"
   ]
  },
  {
   "cell_type": "code",
   "execution_count": 21,
   "id": "2821c241-15dd-46e2-af07-27580ef58698",
   "metadata": {},
   "outputs": [
    {
     "name": "stdout",
     "output_type": "stream",
     "text": [
      "[1. 1. 1. 1. 1. 1. 1. 1. 1. 1. 1. 1. 1. 1. 1. 2. 2. 2. 2. 2. 2. 2. 2. 2.\n",
      " 2. 2. 2. 2. 2. 2.]\n"
     ]
    }
   ],
   "source": [
    "import numpy as np\n",
    "w_15 = np.ones(15)\n",
    "w_12_15 = np.ones(15)*2\n",
    "#print(np.concatenate([w_15,w_12_15]))\n",
    "w = np.concatenate([w_15,w_12_15])\n",
    "print(w)"
   ]
  },
  {
   "cell_type": "code",
   "execution_count": 31,
   "id": "76cefc70-e5f9-406b-bb98-aa9d9fe1c6c6",
   "metadata": {},
   "outputs": [
    {
     "name": "stdout",
     "output_type": "stream",
     "text": [
      "[1. 1. 1. 1. 1. 1. 1. 1. 1. 1. 1. 1. 1. 1. 1. 1. 1. 1. 1. 1. 1. 1. 1. 1.\n",
      " 1. 1. 1. 1. 1. 1.]\n"
     ]
    }
   ],
   "source": [
    "#give the maximum recoded score for all which is three. \n",
    "a = np.ones(30)*2\n",
    "aa = a - 1\n",
    "print(aa)"
   ]
  },
  {
   "cell_type": "code",
   "execution_count": 32,
   "id": "2c816f3d-7f03-422f-80af-0596575ab55a",
   "metadata": {},
   "outputs": [
    {
     "name": "stdout",
     "output_type": "stream",
     "text": [
      "[1. 1. 1. 1. 1. 1. 1. 1. 1. 1. 1. 1. 1. 1. 1. 2. 2. 2. 2. 2. 2. 2. 2. 2.\n",
      " 2. 2. 2. 2. 2. 2.] [1. 1. 1. 1. 1. 1. 1. 1. 1. 1. 1. 1. 1. 1. 1. 1. 1. 1. 1. 1. 1. 1. 1. 1.\n",
      " 1. 1. 1. 1. 1. 1.]\n"
     ]
    }
   ],
   "source": [
    "print(w,aa)"
   ]
  },
  {
   "cell_type": "code",
   "execution_count": 35,
   "id": "1d48e999-0b67-46b6-8c30-104dc3aa3fb2",
   "metadata": {},
   "outputs": [
    {
     "data": {
      "text/plain": [
       "45.0"
      ]
     },
     "execution_count": 35,
     "metadata": {},
     "output_type": "execute_result"
    }
   ],
   "source": [
    "aa@w"
   ]
  },
  {
   "cell_type": "code",
   "execution_count": 36,
   "id": "7dfa33aa-ddd0-406c-ac74-5792af0b4698",
   "metadata": {},
   "outputs": [
    {
     "data": {
      "text/plain": [
       "90"
      ]
     },
     "execution_count": 36,
     "metadata": {},
     "output_type": "execute_result"
    }
   ],
   "source": [
    "#maximum score possible is?\n",
    "2*15 + 4*15"
   ]
  },
  {
   "cell_type": "markdown",
   "id": "f904efa6-c0da-4e24-88c2-d59be28919bc",
   "metadata": {},
   "source": [
    "6. (20 pts)\n",
    "a) Redo the proof on page 30 that an inner product satisfies superposition\n",
    "with 2 vectors of your own choosing (using length 3).\n",
    "b) Is this still a proof?\n",
    "c) Why is it useful?"
   ]
  }
 ],
 "metadata": {
  "kernelspec": {
   "display_name": "Python 3",
   "language": "python",
   "name": "python3"
  },
  "language_info": {
   "codemirror_mode": {
    "name": "ipython",
    "version": 3
   },
   "file_extension": ".py",
   "mimetype": "text/x-python",
   "name": "python",
   "nbconvert_exporter": "python",
   "pygments_lexer": "ipython3",
   "version": "3.8.8"
  }
 },
 "nbformat": 4,
 "nbformat_minor": 5
}

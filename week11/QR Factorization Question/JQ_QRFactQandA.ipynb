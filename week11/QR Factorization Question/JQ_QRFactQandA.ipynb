{
 "cells": [
  {
   "cell_type": "markdown",
   "id": "77c943d9-03c8-4773-8527-ddb0b84d176a",
   "metadata": {},
   "source": [
    "__Notes__\n",
    "\n",
    "Where $i$ is an index between 1 and k. \n",
    "\n",
    "$A_i = A_{1:n,1:i}$\n",
    "\n",
    "$Q_i = Q_{1:n,1:i}$\n",
    "\n",
    "$R_i = R_{1:i,1:i}$"
   ]
  },
  {
   "cell_type": "code",
   "execution_count": 2,
   "id": "87ea5127-82bd-4d53-9012-74d0e0ffe1df",
   "metadata": {
    "tags": []
   },
   "outputs": [],
   "source": [
    "import numpy as np\n",
    "#This is extra right?\n",
    "#A= np.random.rand(5,5)\n",
    "#print(\"Matrix A: \\n\", A,\"\\n \\n\",\"shape of A: \", A.shape)"
   ]
  },
  {
   "cell_type": "code",
   "execution_count": null,
   "id": "6ceee994-ce3f-4858-bc23-e38cc964a7f0",
   "metadata": {},
   "outputs": [],
   "source": []
  },
  {
   "cell_type": "code",
   "execution_count": 3,
   "id": "883ebd1c-e3e1-4a9a-aeab-8068c5a48bf5",
   "metadata": {},
   "outputs": [
    {
     "name": "stdout",
     "output_type": "stream",
     "text": [
      "Matrix A: \n",
      " [[0.33034109 0.71580536 0.18801903 0.70170622 0.229004  ]\n",
      " [0.51837811 0.48997436 0.9041436  0.81240499 0.24774311]\n",
      " [0.67538163 0.8360216  0.74149256 0.73162946 0.55811785]\n",
      " [0.85930786 0.34657043 0.8988416  0.4182932  0.40733524]\n",
      " [0.38530042 0.99909042 0.83569197 0.53745956 0.40137162]] \n",
      " \n",
      " shape of A:  (5, 5)\n",
      "Q : \n",
      " [[-0.25182066  0.42345047 -0.64483446  0.38047482 -0.44351266]\n",
      " [-0.39516222 -0.03714235  0.56092415  0.72651215 -0.00338564]\n",
      " [-0.51484678  0.17058578 -0.26848226 -0.06032432  0.79379565]\n",
      " [-0.65505467 -0.57747913 -0.07580093 -0.32893176 -0.3513963 ]\n",
      " [-0.29371644  0.67581691  0.43786312 -0.46431012 -0.22292189]]\n",
      "R : \n",
      " [[-1.3118109  -1.32476883 -1.62063238 -1.30627858 -0.82762813]\n",
      " [ 0.          0.90258772  0.21823531  0.51343745  0.21900319]\n",
      " [ 0.          0.          0.48462289  0.0104104  -0.01367988]\n",
      " [ 0.          0.          0.          0.42593077 -0.08689584]\n",
      " [ 0.          0.          0.          0.          0.10801597]]\n"
     ]
    }
   ],
   "source": [
    "A= np.random.rand(5,5)\n",
    "print(\"Matrix A: \\n\", A,\"\\n \\n\",\"shape of A: \", A.shape)\n",
    "#compute Q and R\n",
    "Q, R = np.linalg.qr(A)\n",
    "print(\"Q : \\n\", Q)\n",
    "print(\"R : \\n\", R)"
   ]
  },
  {
   "cell_type": "markdown",
   "id": "b779a792-83d2-4b67-8d2d-94b05fc55c31",
   "metadata": {},
   "source": [
    "Here we can take a sub set of the columns and run QR factorization on them. The result is the same for the set of columns when compared to the result for QR factorization which is run on the whole matrix A. This seems to only be true when you start with column 1 though."
   ]
  },
  {
   "cell_type": "code",
   "execution_count": 4,
   "id": "7fb56c73-8a25-4bbe-b03b-747095577b27",
   "metadata": {},
   "outputs": [
    {
     "data": {
      "text/plain": [
       "array([[0.33034109, 0.71580536, 0.18801903, 0.70170622],\n",
       "       [0.51837811, 0.48997436, 0.9041436 , 0.81240499],\n",
       "       [0.67538163, 0.8360216 , 0.74149256, 0.73162946],\n",
       "       [0.85930786, 0.34657043, 0.8988416 , 0.4182932 ],\n",
       "       [0.38530042, 0.99909042, 0.83569197, 0.53745956]])"
      ]
     },
     "execution_count": 4,
     "metadata": {},
     "output_type": "execute_result"
    }
   ],
   "source": [
    "#compute the submatrix of A using only columns and \n",
    "#for some reason starting at index other than 1 results in a different input. \n",
    "subA = A[:,0:len(A)-1]\n",
    "subA"
   ]
  },
  {
   "cell_type": "code",
   "execution_count": 5,
   "id": "b4d5ad0d-4b26-4a48-9463-c04d10a47da9",
   "metadata": {},
   "outputs": [
    {
     "data": {
      "text/plain": [
       "array([[-0.25182066,  0.42345047, -0.64483446,  0.38047482],\n",
       "       [-0.39516222, -0.03714235,  0.56092415,  0.72651215],\n",
       "       [-0.51484678,  0.17058578, -0.26848226, -0.06032432],\n",
       "       [-0.65505467, -0.57747913, -0.07580093, -0.32893176],\n",
       "       [-0.29371644,  0.67581691,  0.43786312, -0.46431012]])"
      ]
     },
     "execution_count": 5,
     "metadata": {},
     "output_type": "execute_result"
    }
   ],
   "source": [
    "#compute Q and R\n",
    "Qsub, Rsub = np.linalg.qr(subA)\n",
    "Qsub"
   ]
  },
  {
   "cell_type": "code",
   "execution_count": 6,
   "id": "8080da39-ca36-44d2-aea3-a19bc7377005",
   "metadata": {},
   "outputs": [
    {
     "data": {
      "text/plain": [
       "array([[-1.3118109 , -1.32476883, -1.62063238, -1.30627858],\n",
       "       [ 0.        ,  0.90258772,  0.21823531,  0.51343745],\n",
       "       [ 0.        ,  0.        ,  0.48462289,  0.0104104 ],\n",
       "       [ 0.        ,  0.        ,  0.        ,  0.42593077]])"
      ]
     },
     "execution_count": 6,
     "metadata": {},
     "output_type": "execute_result"
    }
   ],
   "source": [
    "Rsub"
   ]
  },
  {
   "cell_type": "markdown",
   "id": "4a6851fb-be80-428c-9b6c-c83210bc05ca",
   "metadata": {},
   "source": [
    "Now lets say you start at colunm 2 (assuming index starts at 1) and end at n, \n",
    "Notice this does not reproduce the same result as the example above as we did not start at column1. We would expect the output of the QR factorization here to be equivalent to the last 4 columns of Q and R, but the set of liner equations used here does not include a1. "
   ]
  },
  {
   "cell_type": "code",
   "execution_count": 79,
   "id": "6514927f-7953-4a9e-8fc9-d2d12f99a616",
   "metadata": {},
   "outputs": [
    {
     "data": {
      "text/plain": [
       "array([[0.48124987, 0.95090771, 0.35587306, 0.63543975],\n",
       "       [0.58702871, 0.34023289, 0.76234516, 0.69833105],\n",
       "       [0.14436696, 0.17138524, 0.49384375, 0.47692822],\n",
       "       [0.99947029, 0.25890063, 0.24405556, 0.69732928],\n",
       "       [0.9900447 , 0.41091265, 0.81308413, 0.78465062]])"
      ]
     },
     "execution_count": 79,
     "metadata": {},
     "output_type": "execute_result"
    }
   ],
   "source": [
    "subA = A[:,1:len(A)]\n",
    "subA"
   ]
  },
  {
   "cell_type": "code",
   "execution_count": 80,
   "id": "c84cf41b-d813-4682-9097-c903180d1e7e",
   "metadata": {},
   "outputs": [
    {
     "data": {
      "text/plain": [
       "array([[-0.29983541,  0.91785386,  0.25948005,  0.00974069],\n",
       "       [-0.3657393 ,  0.0435062 , -0.53202403, -0.02973423],\n",
       "       [-0.08994564,  0.12584928, -0.54983777, -0.67924117],\n",
       "       [-0.62270475, -0.34652179,  0.52741307, -0.45706725],\n",
       "       [-0.61683228, -0.14048526, -0.26293425,  0.57336024]])"
      ]
     },
     "execution_count": 80,
     "metadata": {},
     "output_type": "execute_result"
    }
   ],
   "source": [
    "#compute Q and R\n",
    "Qsub, Rsub = np.linalg.qr(subA)\n",
    "Qsub"
   ]
  },
  {
   "cell_type": "markdown",
   "id": "815f58e8-694f-4d87-acb5-51e35da10106",
   "metadata": {},
   "source": []
  },
  {
   "cell_type": "code",
   "execution_count": 81,
   "id": "5c944335-0ca2-4ded-be42-c1fd4c917fb8",
   "metadata": {},
   "outputs": [
    {
     "data": {
      "text/plain": [
       "array([[-1.60504683, -0.83965053, -1.08345312, -1.40706015],\n",
       "       [ 0.        ,  0.76172339,  0.22315918,  0.321772  ],\n",
       "       [ 0.        ,  0.        , -0.6698475 , -0.30740905],\n",
       "       [ 0.        ,  0.        ,  0.        , -0.20736291]])"
      ]
     },
     "execution_count": 81,
     "metadata": {},
     "output_type": "execute_result"
    }
   ],
   "source": [
    "Rsub"
   ]
  },
  {
   "cell_type": "markdown",
   "id": "39b8890d-d657-4fd2-a918-cd1bb75bb793",
   "metadata": {},
   "source": [
    "***********************************************************************************\n",
    "\n",
    "Let's just try rearranging our original matrix A - same vectors, different order.\n",
    "We will take the first vector and put it at the end.\n",
    "\n",
    "Notice we do not get the identical oringal matrices Q and R. "
   ]
  },
  {
   "cell_type": "code",
   "execution_count": 82,
   "id": "ffdfcf08-ac1a-4d87-9d12-23fa36def2d5",
   "metadata": {},
   "outputs": [
    {
     "data": {
      "text/plain": [
       "array([[0.3355661 ],\n",
       "       [0.58849913],\n",
       "       [0.47784412],\n",
       "       [0.04727853],\n",
       "       [0.5736844 ]])"
      ]
     },
     "execution_count": 82,
     "metadata": {},
     "output_type": "execute_result"
    }
   ],
   "source": [
    "subC = A[:,0:1] #Isolate 1st vector.\n",
    "subC"
   ]
  },
  {
   "cell_type": "code",
   "execution_count": 83,
   "id": "22ce4df4-f188-46d5-8a72-20352bc90944",
   "metadata": {},
   "outputs": [
    {
     "data": {
      "text/plain": [
       "array([[0.0026718 , 0.99863298, 0.53632665, 0.47928226, 0.80788459],\n",
       "       [0.50213999, 0.78627121, 0.1562185 , 0.14693852, 0.32287915],\n",
       "       [0.67771223, 0.65254325, 0.70697516, 0.61558014, 0.54231922],\n",
       "       [0.28047323, 0.6682593 , 0.30778936, 0.66471755, 0.5139816 ],\n",
       "       [0.86236805, 0.87240142, 0.55867313, 0.77934039, 0.44610407]])"
      ]
     },
     "execution_count": 83,
     "metadata": {},
     "output_type": "execute_result"
    }
   ],
   "source": [
    "Rearrange = np.concatenate((subA, subC),axis=1)\n",
    "New"
   ]
  },
  {
   "cell_type": "code",
   "execution_count": 84,
   "id": "2af1af83-415e-4726-94a3-2d70af387739",
   "metadata": {},
   "outputs": [
    {
     "data": {
      "text/plain": [
       "array([[-0.29983541,  0.91785386,  0.25948005,  0.00974069,  0.01477291],\n",
       "       [-0.3657393 ,  0.0435062 , -0.53202403, -0.02973423, -0.76184532],\n",
       "       [-0.08994564,  0.12584928, -0.54983777, -0.67924117,  0.4608488 ],\n",
       "       [-0.62270475, -0.34652179,  0.52741307, -0.45706725, -0.07131911],\n",
       "       [-0.61683228, -0.14048526, -0.26293425,  0.57336024,  0.4493389 ]])"
      ]
     },
     "execution_count": 84,
     "metadata": {},
     "output_type": "execute_result"
    }
   ],
   "source": [
    "#compute Q and R\n",
    "QRe, RRe = np.linalg.qr(Rearrange)\n",
    "QRe"
   ]
  },
  {
   "cell_type": "code",
   "execution_count": 85,
   "id": "5912ef26-5520-4aef-bc9e-b117bb6e108e",
   "metadata": {},
   "outputs": [
    {
     "data": {
      "text/plain": [
       "array([[-0.33248496,  0.0816728 ,  0.93914409,  0.02215257,  0.01734779],\n",
       "       [-0.58309558, -0.09299725, -0.17493844, -0.55239203, -0.56179235],\n",
       "       [-0.4734566 , -0.38098486, -0.14973981,  0.76511649, -0.15120891],\n",
       "       [-0.04684442,  0.86800407, -0.09253658,  0.31149597, -0.37253427],\n",
       "       [-0.56841688,  0.29342894, -0.23752872, -0.10926724,  0.72280183]])"
      ]
     },
     "execution_count": 85,
     "metadata": {},
     "output_type": "execute_result"
    }
   ],
   "source": [
    "Q"
   ]
  },
  {
   "cell_type": "code",
   "execution_count": 86,
   "id": "c7268273-6583-4937-b332-e9b1f22d90e8",
   "metadata": {},
   "outputs": [
    {
     "data": {
      "text/plain": [
       "array([[-1.60504683, -0.83965053, -1.08345312, -1.40706015, -0.74213947],\n",
       "       [ 0.        ,  0.76172339,  0.22315918,  0.321772  ,  0.2967631 ],\n",
       "       [ 0.        ,  0.        , -0.6698475 , -0.30740905, -0.61466568],\n",
       "       [ 0.        ,  0.        ,  0.        , -0.20736291, -0.03148297],\n",
       "       [ 0.        ,  0.        ,  0.        ,  0.        ,  0.03123273]])"
      ]
     },
     "execution_count": 86,
     "metadata": {},
     "output_type": "execute_result"
    }
   ],
   "source": [
    "RRe"
   ]
  },
  {
   "cell_type": "code",
   "execution_count": 87,
   "id": "cdc5d834-6107-4159-8a28-7a9d0d802e16",
   "metadata": {},
   "outputs": [
    {
     "data": {
      "text/plain": [
       "array([[-1.00926701, -1.18023139, -0.84139201, -1.2702595 , -1.32294736],\n",
       "       [ 0.        ,  1.08776338,  0.32602785,  0.22044578,  0.64077669],\n",
       "       [ 0.        ,  0.        ,  0.68629503, -0.08881035,  0.15228388],\n",
       "       [ 0.        ,  0.        ,  0.        , -0.04820302,  0.12470842],\n",
       "       [ 0.        ,  0.        ,  0.        ,  0.        , -0.14604151]])"
      ]
     },
     "execution_count": 87,
     "metadata": {},
     "output_type": "execute_result"
    }
   ],
   "source": [
    "R"
   ]
  },
  {
   "cell_type": "code",
   "execution_count": 91,
   "id": "3f264f25-574a-4655-a63f-1c6cd3f61d42",
   "metadata": {},
   "outputs": [
    {
     "data": {
      "text/plain": [
       "array([[0.3355661 , 0.48124987, 0.95090771, 0.35587306, 0.63543975],\n",
       "       [0.58849913, 0.58702871, 0.34023289, 0.76234516, 0.69833105],\n",
       "       [0.47784412, 0.14436696, 0.17138524, 0.49384375, 0.47692822],\n",
       "       [0.04727853, 0.99947029, 0.25890063, 0.24405556, 0.69732928],\n",
       "       [0.5736844 , 0.9900447 , 0.41091265, 0.81308413, 0.78465062]])"
      ]
     },
     "execution_count": 91,
     "metadata": {},
     "output_type": "execute_result"
    }
   ],
   "source": [
    "UndoA = Q @ R\n",
    "UndoA\n"
   ]
  },
  {
   "cell_type": "code",
   "execution_count": 89,
   "id": "9b79e367-fbb7-40c4-a202-90481060eff2",
   "metadata": {},
   "outputs": [
    {
     "data": {
      "text/plain": [
       "array([[0.3355661 , 0.48124987, 0.95090771, 0.35587306, 0.63543975],\n",
       "       [0.58849913, 0.58702871, 0.34023289, 0.76234516, 0.69833105],\n",
       "       [0.47784412, 0.14436696, 0.17138524, 0.49384375, 0.47692822],\n",
       "       [0.04727853, 0.99947029, 0.25890063, 0.24405556, 0.69732928],\n",
       "       [0.5736844 , 0.9900447 , 0.41091265, 0.81308413, 0.78465062]])"
      ]
     },
     "execution_count": 89,
     "metadata": {},
     "output_type": "execute_result"
    }
   ],
   "source": [
    "A\n"
   ]
  },
  {
   "cell_type": "code",
   "execution_count": 90,
   "id": "3126c038-1648-4f7b-9105-68c698eec3cf",
   "metadata": {},
   "outputs": [
    {
     "data": {
      "text/plain": [
       "array([[0.48124987, 0.95090771, 0.35587306, 0.63543975, 0.3355661 ],\n",
       "       [0.58702871, 0.34023289, 0.76234516, 0.69833105, 0.58849913],\n",
       "       [0.14436696, 0.17138524, 0.49384375, 0.47692822, 0.47784412],\n",
       "       [0.99947029, 0.25890063, 0.24405556, 0.69732928, 0.04727853],\n",
       "       [0.9900447 , 0.41091265, 0.81308413, 0.78465062, 0.5736844 ]])"
      ]
     },
     "execution_count": 90,
     "metadata": {},
     "output_type": "execute_result"
    }
   ],
   "source": [
    "UndoRearrange = QRe @ RRe\n",
    "UndoRearrange"
   ]
  },
  {
   "cell_type": "code",
   "execution_count": 92,
   "id": "85fe803a-08e6-442c-9a1e-7481e3a6ac35",
   "metadata": {},
   "outputs": [
    {
     "data": {
      "text/plain": [
       "array([[0.48124987, 0.95090771, 0.35587306, 0.63543975, 0.3355661 ],\n",
       "       [0.58702871, 0.34023289, 0.76234516, 0.69833105, 0.58849913],\n",
       "       [0.14436696, 0.17138524, 0.49384375, 0.47692822, 0.47784412],\n",
       "       [0.99947029, 0.25890063, 0.24405556, 0.69732928, 0.04727853],\n",
       "       [0.9900447 , 0.41091265, 0.81308413, 0.78465062, 0.5736844 ]])"
      ]
     },
     "execution_count": 92,
     "metadata": {},
     "output_type": "execute_result"
    }
   ],
   "source": [
    "Rearrange"
   ]
  },
  {
   "cell_type": "code",
   "execution_count": null,
   "id": "697560b7-1d92-438f-ae4b-afab4aa3fe51",
   "metadata": {},
   "outputs": [],
   "source": []
  }
 ],
 "metadata": {
  "kernelspec": {
   "display_name": "Python 3",
   "language": "python",
   "name": "python3"
  },
  "language_info": {
   "codemirror_mode": {
    "name": "ipython",
    "version": 3
   },
   "file_extension": ".py",
   "mimetype": "text/x-python",
   "name": "python",
   "nbconvert_exporter": "python",
   "pygments_lexer": "ipython3",
   "version": "3.8.8"
  }
 },
 "nbformat": 4,
 "nbformat_minor": 5
}

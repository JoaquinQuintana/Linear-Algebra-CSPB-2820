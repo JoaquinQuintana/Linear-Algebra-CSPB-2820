{
 "cells": [
  {
   "cell_type": "markdown",
   "id": "77c943d9-03c8-4773-8527-ddb0b84d176a",
   "metadata": {},
   "source": [
    "__Notes__\n",
    "\n",
    "Where $i$ is an index between 1 and k. \n",
    "\n",
    "$A_i = A_{1:n,1:i}$\n",
    "\n",
    "$Q_i = Q_{1:n,1:i}$\n",
    "\n",
    "$R_i = R_{1:i,1:i}$"
   ]
  },
  {
   "cell_type": "code",
   "execution_count": 1,
   "id": "87ea5127-82bd-4d53-9012-74d0e0ffe1df",
   "metadata": {},
   "outputs": [
    {
     "name": "stdout",
     "output_type": "stream",
     "text": [
      "Matrix A: \n",
      " [[0.71534334 0.12210969 0.69228255 0.4439404  0.10297887]\n",
      " [0.07722592 0.81849298 0.63335186 0.57062569 0.26849716]\n",
      " [0.61718097 0.23574274 0.92377441 0.24301442 0.59678871]\n",
      " [0.50744837 0.44813905 0.28681143 0.60601874 0.61855472]\n",
      " [0.79128184 0.0713826  0.11244008 0.60974292 0.82692488]] \n",
      " \n",
      " shape of A:  (5, 5)\n"
     ]
    }
   ],
   "source": [
    "import numpy as np\n",
    "A= np.random.rand(5,5)\n",
    "print(\"Matrix A: \\n\", A,\"\\n \\n\",\"shape of A: \", A.shape)"
   ]
  },
  {
   "cell_type": "code",
   "execution_count": 2,
   "id": "883ebd1c-e3e1-4a9a-aeab-8068c5a48bf5",
   "metadata": {},
   "outputs": [
    {
     "name": "stdout",
     "output_type": "stream",
     "text": [
      "Matrix A: \n",
      " [[0.67359815 0.38598051 0.49155552 0.78194709 0.069359  ]\n",
      " [0.89895144 0.25959498 0.09571786 0.72271058 0.71619656]\n",
      " [0.67328167 0.12721853 0.73997544 0.89039517 0.12769652]\n",
      " [0.01011897 0.34985576 0.92776889 0.52661214 0.51627557]\n",
      " [0.42208311 0.53283009 0.09607397 0.30244447 0.44166903]] \n",
      " \n",
      " shape of A:  (5, 5)\n",
      "Q : \n",
      " [[-0.48952877  0.18191041 -0.05898815 -0.49354804 -0.69296531]\n",
      " [-0.65330137 -0.22805586  0.25800819 -0.30861258  0.59948136]\n",
      " [-0.48929877 -0.29464695 -0.56698221  0.58504533 -0.10011507]\n",
      " [-0.00735383  0.63670791 -0.62698673 -0.22684186  0.38727169]\n",
      " [-0.30674346  0.65014256  0.46408079  0.51713958 -0.02046429]]\n",
      "R : \n",
      " [[-1.37601341 -0.58680511 -0.70152496 -1.38724815 -0.70360286]\n",
      " [ 0.          0.54269861  0.50273811  0.24700385  0.42752348]\n",
      " [ 0.          0.         -0.96096557 -0.55431875 -0.01043626]\n",
      " [ 0.          0.          0.         -0.05109617 -0.06925939]\n",
      " [ 0.          0.          0.          0.          0.55939923]]\n"
     ]
    }
   ],
   "source": [
    "A= np.random.rand(5,5)\n",
    "print(\"Matrix A: \\n\", A,\"\\n \\n\",\"shape of A: \", A.shape)\n",
    "#compute Q and R\n",
    "Q, R = np.linalg.qr(A)\n",
    "print(\"Q : \\n\", Q)\n",
    "print(\"R : \\n\", R)"
   ]
  },
  {
   "cell_type": "markdown",
   "id": "b779a792-83d2-4b67-8d2d-94b05fc55c31",
   "metadata": {},
   "source": [
    "Here we can take a sub set of the columns and run QR factorization on them. The result is the same for the set of columns when compared to the result for QR factorization which is run on the whole matrix A. This seems to only be true when you start with column 1 though."
   ]
  },
  {
   "cell_type": "code",
   "execution_count": 3,
   "id": "7fb56c73-8a25-4bbe-b03b-747095577b27",
   "metadata": {},
   "outputs": [
    {
     "data": {
      "text/plain": [
       "array([[0.67359815, 0.38598051, 0.49155552, 0.78194709],\n",
       "       [0.89895144, 0.25959498, 0.09571786, 0.72271058],\n",
       "       [0.67328167, 0.12721853, 0.73997544, 0.89039517],\n",
       "       [0.01011897, 0.34985576, 0.92776889, 0.52661214],\n",
       "       [0.42208311, 0.53283009, 0.09607397, 0.30244447]])"
      ]
     },
     "execution_count": 3,
     "metadata": {},
     "output_type": "execute_result"
    }
   ],
   "source": [
    "#compute the submatrix of A using only columns and \n",
    "#for some reason starting at index other than 1 results in a different input. \n",
    "subA = A[:,0:len(A)-1]\n",
    "subA"
   ]
  },
  {
   "cell_type": "code",
   "execution_count": 4,
   "id": "b4d5ad0d-4b26-4a48-9463-c04d10a47da9",
   "metadata": {},
   "outputs": [
    {
     "data": {
      "text/plain": [
       "array([[-0.48952877,  0.18191041, -0.05898815, -0.49354804],\n",
       "       [-0.65330137, -0.22805586,  0.25800819, -0.30861258],\n",
       "       [-0.48929877, -0.29464695, -0.56698221,  0.58504533],\n",
       "       [-0.00735383,  0.63670791, -0.62698673, -0.22684186],\n",
       "       [-0.30674346,  0.65014256,  0.46408079,  0.51713958]])"
      ]
     },
     "execution_count": 4,
     "metadata": {},
     "output_type": "execute_result"
    }
   ],
   "source": [
    "#compute Q and R\n",
    "Qsub, Rsub = np.linalg.qr(subA)\n",
    "Qsub"
   ]
  },
  {
   "cell_type": "code",
   "execution_count": 5,
   "id": "8080da39-ca36-44d2-aea3-a19bc7377005",
   "metadata": {},
   "outputs": [
    {
     "data": {
      "text/plain": [
       "array([[-1.37601341, -0.58680511, -0.70152496, -1.38724815],\n",
       "       [ 0.        ,  0.54269861,  0.50273811,  0.24700385],\n",
       "       [ 0.        ,  0.        , -0.96096557, -0.55431875],\n",
       "       [ 0.        ,  0.        ,  0.        , -0.05109617]])"
      ]
     },
     "execution_count": 5,
     "metadata": {},
     "output_type": "execute_result"
    }
   ],
   "source": [
    "Rsub"
   ]
  },
  {
   "cell_type": "markdown",
   "id": "4a6851fb-be80-428c-9b6c-c83210bc05ca",
   "metadata": {},
   "source": [
    "Now lets say you start at colunm 2 (assuming index starts at 1) and end at n, \n",
    "Notice this does not reproduce the same result as the example above as we did not start at column1. We would expect the output of the QR factorization here to be equivalent to the last 4 columns of Q and R, but the set of liner equations used here does not include a1. "
   ]
  },
  {
   "cell_type": "code",
   "execution_count": 6,
   "id": "6514927f-7953-4a9e-8fc9-d2d12f99a616",
   "metadata": {},
   "outputs": [
    {
     "data": {
      "text/plain": [
       "array([[0.38598051, 0.49155552, 0.78194709, 0.069359  ],\n",
       "       [0.25959498, 0.09571786, 0.72271058, 0.71619656],\n",
       "       [0.12721853, 0.73997544, 0.89039517, 0.12769652],\n",
       "       [0.34985576, 0.92776889, 0.52661214, 0.51627557],\n",
       "       [0.53283009, 0.09607397, 0.30244447, 0.44166903]])"
      ]
     },
     "execution_count": 6,
     "metadata": {},
     "output_type": "execute_result"
    }
   ],
   "source": [
    "subA = A[:,1:len(A)]\n",
    "subA"
   ]
  },
  {
   "cell_type": "code",
   "execution_count": 7,
   "id": "c84cf41b-d813-4682-9097-c903180d1e7e",
   "metadata": {},
   "outputs": [
    {
     "data": {
      "text/plain": [
       "array([[-0.48290515,  0.08067368, -0.22676309,  0.64072081],\n",
       "       [-0.3247826 , -0.18865807, -0.65678251, -0.62293584],\n",
       "       [-0.15916473,  0.62431648, -0.43804708,  0.16255502],\n",
       "       [-0.43770902,  0.57183491,  0.5110572 , -0.41222813],\n",
       "       [-0.66663054, -0.49105362,  0.25327956,  0.07121528]])"
      ]
     },
     "execution_count": 7,
     "metadata": {},
     "output_type": "execute_result"
    }
   ],
   "source": [
    "#compute Q and R\n",
    "Qsub, Rsub = np.linalg.qr(subA)\n",
    "Qsub"
   ]
  }
 ],
 "metadata": {
  "kernelspec": {
   "display_name": "Python 3",
   "language": "python",
   "name": "python3"
  },
  "language_info": {
   "codemirror_mode": {
    "name": "ipython",
    "version": 3
   },
   "file_extension": ".py",
   "mimetype": "text/x-python",
   "name": "python",
   "nbconvert_exporter": "python",
   "pygments_lexer": "ipython3",
   "version": "3.8.8"
  }
 },
 "nbformat": 4,
 "nbformat_minor": 5
}

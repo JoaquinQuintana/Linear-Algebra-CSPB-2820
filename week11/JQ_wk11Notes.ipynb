{
 "cells": [
  {
   "cell_type": "code",
   "execution_count": 1,
   "id": "d74beca2-fd8b-4a7c-9cf0-2f1324ea19a5",
   "metadata": {},
   "outputs": [],
   "source": [
    "import numpy as np"
   ]
  },
  {
   "cell_type": "markdown",
   "id": "eed775ce-8e6f-4bac-a07a-0f2d3b93cfbc",
   "metadata": {},
   "source": [
    "The 4 properties of matrix multiplication.\n",
    "\n",
    "* __The inner product and matrix-vector products__ pg.179\n",
    "\n",
    "* __Inner product representation__ \n",
    "\n",
    "* __A block matrix multiplication__\n",
    "\n",
    "* __A column interpretation of matrix-matrix product__\n",
    "\n",
    "* Multiple sets of linear equations (skip row interpretation if you wish)? Not sure what to do for this?\n",
    "\n",
    "* __Gram Matrix__\n",
    "\n",
    "* __Outer Product representation__"
   ]
  },
  {
   "cell_type": "markdown",
   "id": "f0c13fbf-e5f8-41fb-885b-fe25233280e3",
   "metadata": {},
   "source": [
    "# inner product and matrix-vector products\n",
    "\n",
    "Let $y$ be an $m$-vector, $x$ be an $n$-vector and $A$ an $m*n$ matrix. We will show that $y^T(Ax) = (y^TA)x = (A^Ty)^Tx$. In python..."
   ]
  },
  {
   "cell_type": "code",
   "execution_count": 2,
   "id": "7cd0f8a9-6144-4208-a91a-fd2ca7d08105",
   "metadata": {},
   "outputs": [],
   "source": [
    "#creat A\n",
    "A = np.random.rand(6,3)\n",
    "m,n = A.shape\n",
    "#create y \n",
    "y = np.random.rand(m)\n",
    "#create x\n",
    "x = np.random.rand(n)"
   ]
  },
  {
   "cell_type": "markdown",
   "id": "865c9161-7fc2-4bad-8e04-3b276b777261",
   "metadata": {},
   "source": [
    "compute $y^T(Ax)$"
   ]
  },
  {
   "cell_type": "code",
   "execution_count": 3,
   "id": "15a99071-9ccd-491e-b0fd-3d6b84b1b759",
   "metadata": {},
   "outputs": [
    {
     "data": {
      "text/plain": [
       "2.0148158833801686"
      ]
     },
     "execution_count": 3,
     "metadata": {},
     "output_type": "execute_result"
    }
   ],
   "source": [
    "y.T@(A@x)"
   ]
  },
  {
   "cell_type": "markdown",
   "id": "2a7ffa9f-6353-400c-894a-f8033a497524",
   "metadata": {},
   "source": [
    "compute $(y^TA)x$"
   ]
  },
  {
   "cell_type": "code",
   "execution_count": 4,
   "id": "4f5debfb-02e3-4596-a154-74de145160bb",
   "metadata": {},
   "outputs": [
    {
     "data": {
      "text/plain": [
       "2.014815883380169"
      ]
     },
     "execution_count": 4,
     "metadata": {},
     "output_type": "execute_result"
    }
   ],
   "source": [
    "(y.T@A)@x"
   ]
  },
  {
   "cell_type": "markdown",
   "id": "4df3356f-5e97-4c2c-9565-cdea12daf75b",
   "metadata": {},
   "source": [
    "compute $(A^Ty)^Tx$"
   ]
  },
  {
   "cell_type": "code",
   "execution_count": 5,
   "id": "26c21864-872a-4645-858a-e08242286505",
   "metadata": {},
   "outputs": [
    {
     "data": {
      "text/plain": [
       "2.014815883380169"
      ]
     },
     "execution_count": 5,
     "metadata": {},
     "output_type": "execute_result"
    }
   ],
   "source": [
    "(A.T@y).T@x"
   ]
  },
  {
   "cell_type": "markdown",
   "id": "274fccf2-b294-47b4-8595-d7dbcb3d5183",
   "metadata": {},
   "source": [
    "Show the equivalence between these outputs. This, $y^T(Ax) == (y^TA)x == (A^Ty)^Tx$"
   ]
  },
  {
   "cell_type": "code",
   "execution_count": 6,
   "id": "392f2aa1-7444-4c92-b2a3-1bfad767b0d9",
   "metadata": {},
   "outputs": [
    {
     "data": {
      "text/plain": [
       "False"
      ]
     },
     "execution_count": 6,
     "metadata": {},
     "output_type": "execute_result"
    }
   ],
   "source": [
    "y.T@(A@x) == (y.T@A)@x == (A.T@y).T@x"
   ]
  },
  {
   "cell_type": "markdown",
   "id": "0da10879-a5f9-4791-827e-47ad7cf74b05",
   "metadata": {},
   "source": [
    "# Block Matrix\n",
    "\n",
    "Here let A and B block matricies of size $4*4$. Each block matrix is compose of four matricies of the same size denoted with lowercase letter. Following from formula 10.1 we can let C = AB to get. \n",
    "\n",
    "$C = AC =  \\begin{bmatrix} a & b\\\\ c & d \\end{bmatrix} \\begin{bmatrix} e & f\\\\ g & h \\end{bmatrix} = \\begin{bmatrix} ae + bg & af + bh \\\\ ce +dg & cf +dh \\end{bmatrix} $"
   ]
  },
  {
   "cell_type": "code",
   "execution_count": 7,
   "id": "a3a61834-eadc-408f-875d-736cb32351d5",
   "metadata": {},
   "outputs": [],
   "source": [
    "#create sub matricies pg.180\n",
    "a = np.random.rand(2,2)\n",
    "b = np.random.rand(2,2)\n",
    "c = np.random.rand(2,2)\n",
    "d = np.random.rand(2,2)\n",
    "e = np.random.rand(2,2)\n",
    "f = np.random.rand(2,2)\n",
    "g = np.random.rand(2,2)\n",
    "h = np.random.rand(2,2)\n",
    "#create block matricies A and B\n",
    "A= np.block([[a,b],[c,d]])\n",
    "B= np.block([[e,f],[g,h]])"
   ]
  },
  {
   "cell_type": "markdown",
   "id": "febfa6e8-ad48-459e-a2a5-1f207c050593",
   "metadata": {},
   "source": [
    "## Show C is equivalent to A@B \n",
    "(note if checking equivalence some rounding error will exist between the two results)."
   ]
  },
  {
   "cell_type": "code",
   "execution_count": 8,
   "id": "3a4f78b5-6652-4ac0-aac4-180aa7851f02",
   "metadata": {},
   "outputs": [
    {
     "data": {
      "text/plain": [
       "array([[2.26682808, 1.98137673, 2.51299528, 1.60507833],\n",
       "       [1.00038896, 0.96747159, 1.65543286, 1.19082491],\n",
       "       [1.26866282, 1.03779527, 1.31337688, 0.77303084],\n",
       "       [0.58694951, 0.67525295, 1.24260099, 0.86847231]])"
      ]
     },
     "execution_count": 8,
     "metadata": {},
     "output_type": "execute_result"
    }
   ],
   "source": [
    "A@B"
   ]
  },
  {
   "cell_type": "code",
   "execution_count": 9,
   "id": "7e661aab-3c9c-4205-91a5-168fbfa45125",
   "metadata": {},
   "outputs": [
    {
     "data": {
      "text/plain": [
       "array([[2.26682808, 1.98137673, 2.51299528, 1.60507833],\n",
       "       [1.00038896, 0.96747159, 1.65543286, 1.19082491],\n",
       "       [1.26866282, 1.03779527, 1.31337688, 0.77303084],\n",
       "       [0.58694951, 0.67525295, 1.24260099, 0.86847231]])"
      ]
     },
     "execution_count": 9,
     "metadata": {},
     "output_type": "execute_result"
    }
   ],
   "source": [
    "C = np.block([[a@e + b@g, a@f + b@h],[c@e + d@g, c@f + d@h]])\n",
    "C"
   ]
  },
  {
   "cell_type": "markdown",
   "id": "8955d79e-c878-4553-98c9-5f4b03c92589",
   "metadata": {},
   "source": [
    "# Outer Product representation \n",
    "Let A be of size $m*p$ and express this matrix in terms of it columns we get, $A = [a_1,...,a_p]$. Let B be a matrix of size $p*n$ and express it this matrix B as the rows transposed which is, $B = \\begin{bmatrix} b^T_1 \\\\.\\\\.\\\\.\\\\ b^T_p\\end{bmatrix}$. In python this looks like..."
   ]
  },
  {
   "cell_type": "code",
   "execution_count": 10,
   "id": "262ef555-fabf-491e-8c81-43d6f199c9bc",
   "metadata": {},
   "outputs": [],
   "source": [
    "#pg.177\n",
    "A = np.array([[-1.5,3,2],[1,-1,0]])\n",
    "B = np.array([[-1,-1],[0,-2],[1,0]])"
   ]
  },
  {
   "cell_type": "code",
   "execution_count": 11,
   "id": "fed83bf3-a971-44ca-94c6-a0d9570b1d89",
   "metadata": {},
   "outputs": [
    {
     "data": {
      "text/plain": [
       "array([[ 3.5, -4.5],\n",
       "       [-1. ,  1. ]])"
      ]
     },
     "execution_count": 11,
     "metadata": {},
     "output_type": "execute_result"
    }
   ],
   "source": [
    "#This is correctly computing the Outer product representation. \n",
    "m,p = A.shape\n",
    "out = []\n",
    "for i in range(p):\n",
    "    #take the outer product of the columns of a and the rows of b. Make sure b_i has the correct shape here. \n",
    "    out.append(np.outer(A[:,i],B[i,:].reshape(2,1)))\n",
    "          \n",
    "sum(out)"
   ]
  },
  {
   "cell_type": "code",
   "execution_count": 12,
   "id": "4c9aea1a-58aa-4dcf-bc2b-84613f0f5876",
   "metadata": {},
   "outputs": [
    {
     "data": {
      "text/plain": [
       "array([[ 3.5, -4.5],\n",
       "       [-1. ,  1. ]])"
      ]
     },
     "execution_count": 12,
     "metadata": {},
     "output_type": "execute_result"
    }
   ],
   "source": [
    "#pg. 191 Inner product representation. matrix multiplication A row wise and columns B\n",
    "\n",
    "AB1=A[0,:]@B[:,0]\n",
    "AB2=A[0,:]@B[:,1]\n",
    "AB3 = A[1,:]@B[:,0]\n",
    "AB4 = A[1,:]@B[:,1]\n",
    "\n",
    "#place it all back together \n",
    "np.array([[AB1,AB2],[AB3,AB4]])"
   ]
  },
  {
   "cell_type": "markdown",
   "id": "9967072d-938b-4cbc-9e7e-585587aaf19d",
   "metadata": {},
   "source": [
    "# column representation matrix matrix product pg 190\n",
    "A has size n*p and B p*n\n",
    "\n",
    "$AB = A[b_1,b_2,...,b_n] = [Ab_1,Ab_2,...,Ab_n]$\n",
    "\n",
    "In python ..."
   ]
  },
  {
   "cell_type": "code",
   "execution_count": 13,
   "id": "0f063be8-a211-471c-a42c-492397348154",
   "metadata": {},
   "outputs": [
    {
     "data": {
      "text/plain": [
       "array([[ 3.5, -4.5],\n",
       "       [-1. ,  1. ]])"
      ]
     },
     "execution_count": 13,
     "metadata": {},
     "output_type": "execute_result"
    }
   ],
   "source": [
    "#pg. 181 Inner product representation \n",
    "AB1=A@B[:,0]\n",
    "AB2=A@B[:,1]\n",
    "#place it all back together \n",
    "np.vstack((AB1,AB2)).T"
   ]
  },
  {
   "cell_type": "markdown",
   "id": "cdbf8d03-784b-47f3-9040-58c39f3ad0f7",
   "metadata": {},
   "source": [
    "# Gram Matrix\n",
    "\n",
    "The gram matrix is created by taking the inner product of the matrix transposed and the same matrix untransposed. This is, $G = A^TA$ transpose ^T. Here is an example in python."
   ]
  },
  {
   "cell_type": "code",
   "execution_count": 14,
   "id": "d2069308-bff4-4079-9f46-3933e05a07cf",
   "metadata": {},
   "outputs": [
    {
     "data": {
      "text/plain": [
       "array([[ 3.25, -5.5 , -3.  ],\n",
       "       [-5.5 , 10.  ,  6.  ],\n",
       "       [-3.  ,  6.  ,  4.  ]])"
      ]
     },
     "execution_count": 14,
     "metadata": {},
     "output_type": "execute_result"
    }
   ],
   "source": [
    "#imples the matrix is transposed first\n",
    "G = A.T@A\n",
    "G"
   ]
  },
  {
   "cell_type": "markdown",
   "id": "7c4351d8-c129-4892-b9ac-d16b42b181c4",
   "metadata": {},
   "source": [
    "# block matrix multiplication\n"
   ]
  },
  {
   "cell_type": "code",
   "execution_count": 15,
   "id": "a8183ecb-5f24-48ee-b11e-25cf37a3da4f",
   "metadata": {},
   "outputs": [
    {
     "name": "stdout",
     "output_type": "stream",
     "text": [
      "BlockA shape:  (4, 6)\n"
     ]
    }
   ],
   "source": [
    "A = np.ones((2, 3), int)\n",
    "B = 9 * A\n",
    "BlockA = np.block([[A, B],[B,A]]) \n",
    "print(\"BlockA shape: \",BlockA.shape)"
   ]
  },
  {
   "cell_type": "code",
   "execution_count": 16,
   "id": "172f6567-54f7-4079-bb15-0c3f9e8bf379",
   "metadata": {},
   "outputs": [
    {
     "name": "stdout",
     "output_type": "stream",
     "text": [
      "BlockB shape:  (6, 4)\n"
     ]
    }
   ],
   "source": [
    "D = np.ones((3, 2), int)\n",
    "Dstack = np.vstack([D,D])\n",
    "BlockB = np.block([[D,-2*B.T],[D*5,B.T]])\n",
    "print(\"BlockB shape: \",BlockB.shape)"
   ]
  },
  {
   "cell_type": "code",
   "execution_count": 17,
   "id": "4159ce41-299e-4473-9aef-0731b1148eaf",
   "metadata": {},
   "outputs": [
    {
     "data": {
      "text/plain": [
       "array([[ 138,  138,  189,  189],\n",
       "       [ 138,  138,  189,  189],\n",
       "       [  42,   42, -459, -459],\n",
       "       [  42,   42, -459, -459]])"
      ]
     },
     "execution_count": 17,
     "metadata": {},
     "output_type": "execute_result"
    }
   ],
   "source": [
    "C = BlockA@BlockB\n",
    "C"
   ]
  },
  {
   "cell_type": "markdown",
   "id": "a9c36c13-89cb-4ce9-b97d-22cb7cdd35fc",
   "metadata": {},
   "source": [
    "# Quiz"
   ]
  },
  {
   "cell_type": "code",
   "execution_count": 18,
   "id": "f0738da2-3259-4cac-ac30-d7b3acacdd1a",
   "metadata": {},
   "outputs": [
    {
     "data": {
      "text/plain": [
       "array([[1, 1],\n",
       "       [1, 1],\n",
       "       [1, 1]])"
      ]
     },
     "execution_count": 18,
     "metadata": {},
     "output_type": "execute_result"
    }
   ],
   "source": [
    "31 \n",
    "p = np.array([[1],[1],[1]])\n",
    "po = np.array([[1],[1]])\n",
    "p@po.T"
   ]
  },
  {
   "cell_type": "code",
   "execution_count": 19,
   "id": "5ade182c-f27b-4e58-bfd3-f5fe659bcffe",
   "metadata": {},
   "outputs": [
    {
     "data": {
      "text/plain": [
       "(10, 10)"
      ]
     },
     "execution_count": 19,
     "metadata": {},
     "output_type": "execute_result"
    }
   ],
   "source": [
    "B = np.random.rand(10,5)\n",
    "BB_t = B@B.T\n",
    "BB_t.shape"
   ]
  },
  {
   "cell_type": "code",
   "execution_count": 20,
   "id": "2922604e-0374-42dc-839f-7c944d80ad12",
   "metadata": {},
   "outputs": [
    {
     "data": {
      "text/plain": [
       "(5, 10)"
      ]
     },
     "execution_count": 20,
     "metadata": {},
     "output_type": "execute_result"
    }
   ],
   "source": [
    "B.T.shape"
   ]
  },
  {
   "cell_type": "code",
   "execution_count": 21,
   "id": "ea4e60f2-ed16-498e-b402-cab734f5faed",
   "metadata": {},
   "outputs": [
    {
     "data": {
      "text/plain": [
       "array([[ 94,  58, 109],\n",
       "       [ 86,  47,  86],\n",
       "       [ 70,  48,  90]])"
      ]
     },
     "execution_count": 21,
     "metadata": {},
     "output_type": "execute_result"
    }
   ],
   "source": [
    "#3\n",
    "a = np.array([8,6,6,6,7,4,9,7,8]).reshape(3, 3, order='F') \n",
    "b = np.array([5,6,2,2,1,4,5,1,7]).reshape(3, 3, order='F') \n",
    "a+b\n",
    "4*b\n",
    "a@b"
   ]
  },
  {
   "cell_type": "code",
   "execution_count": 22,
   "id": "b0c7f7e0-629e-4304-b874-27e84e0a3131",
   "metadata": {},
   "outputs": [],
   "source": [
    "#3 quiz 2\n",
    "aS = \"377643489\"\n",
    "\n"
   ]
  },
  {
   "cell_type": "code",
   "execution_count": 23,
   "id": "790bff10-b6e5-401d-8c96-b237246df702",
   "metadata": {},
   "outputs": [
    {
     "data": {
      "text/plain": [
       "array([[ 3, -2, -8],\n",
       "       [ 0, -5,  4],\n",
       "       [14, -8,  2]])"
      ]
     },
     "execution_count": 23,
     "metadata": {},
     "output_type": "execute_result"
    }
   ],
   "source": [
    "#4 \n",
    "a = np.array([0,2,0,3,0,2,0,1,2]).reshape(3, 3, order='F') \n",
    "b = np.array([0,3,4,3,2,0,4,1,0]).reshape(3, 3, order='F') \n",
    "a@b - b@a"
   ]
  },
  {
   "cell_type": "code",
   "execution_count": 24,
   "id": "c41b8e87-2ed1-4850-a7fc-3f50dc864df9",
   "metadata": {},
   "outputs": [
    {
     "data": {
      "text/plain": [
       "array([[41, 39, 18],\n",
       "       [15, 35, 20]])"
      ]
     },
     "execution_count": 24,
     "metadata": {},
     "output_type": "execute_result"
    }
   ],
   "source": [
    "# 5 \n",
    "a = np.array([2,5,5,0]).reshape(2, 2, order='F') \n",
    "b = np.array([3,7,7,5,4,2]).reshape(2, 3, order='F') \n",
    "a.T@b"
   ]
  },
  {
   "cell_type": "code",
   "execution_count": 25,
   "id": "47a91ee0-47ad-48bc-ac16-55aa21055785",
   "metadata": {},
   "outputs": [
    {
     "name": "stdout",
     "output_type": "stream",
     "text": [
      "c1 =\n",
      "  [[16 21 21]\n",
      " [19 19 19]\n",
      " [32 39 39]]\n",
      "c2 = \n",
      " [[28 36 24]\n",
      " [17 21 16]\n",
      " [30 39 25]]\n"
     ]
    }
   ],
   "source": [
    "#6 \n",
    "a = np.array([2,2,3,3,1,5,1,2,3]).reshape(3, 3, order='F') \n",
    "b = np.array([4,1,5,4,3,4,4,3,4]).reshape(3, 3, order='F')\n",
    "print(\"c1 =\\n \", a@b)\n",
    "print(\"c2 = \\n\", b@a)"
   ]
  },
  {
   "cell_type": "code",
   "execution_count": 26,
   "id": "9e711026-44a3-4281-aaf2-704d80a56da6",
   "metadata": {
    "tags": []
   },
   "outputs": [
    {
     "name": "stdout",
     "output_type": "stream",
     "text": [
      "c1 =\n",
      "  [[28 14 29]\n",
      " [25 14 28]\n",
      " [17 20 28]]\n",
      "c2 = \n",
      " [[33 22 22]\n",
      " [33 21 13]\n",
      " [22 14 16]]\n"
     ]
    },
    {
     "data": {
      "text/plain": [
       "array([[-5, -8,  7],\n",
       "       [-8, -7, 15],\n",
       "       [-5,  6, 12]])"
      ]
     },
     "execution_count": 26,
     "metadata": {},
     "output_type": "execute_result"
    }
   ],
   "source": [
    "# 7 \n",
    "a = np.array([3,4,2,1,1,3,3,1,1]).reshape(3, 3, order='F') \n",
    "b = np.array([5,1,4,2,5,1,5,5,3]).reshape(3, 3, order='F')\n",
    "print(\"c1 =\\n \", a@b)\n",
    "print(\"c2 = \\n\", b@a)\n",
    "a@b - b@a"
   ]
  },
  {
   "cell_type": "code",
   "execution_count": 27,
   "id": "ec7d6e3b-f17b-4dd2-a1fb-159bf3b69db1",
   "metadata": {},
   "outputs": [
    {
     "name": "stdout",
     "output_type": "stream",
     "text": [
      "AB =  68\n",
      "BA =  [[ 7 14 21 28]\n",
      " [ 8 16 24 32]\n",
      " [ 3  6  9 12]\n",
      " [ 9 18 27 36]]\n"
     ]
    }
   ],
   "source": [
    "#8 \n",
    "a = np.array([1,2,3,4])\n",
    "b = np.array([7,8,3,9])\n",
    "print(\"AB = \", a@b)\n",
    "print(\"BA = \", np.outer(b,a))"
   ]
  },
  {
   "cell_type": "code",
   "execution_count": null,
   "id": "b40321e9-9e4d-497f-990d-54af27a1e202",
   "metadata": {},
   "outputs": [],
   "source": []
  },
  {
   "cell_type": "code",
   "execution_count": 28,
   "id": "a696d8a5-c0f0-4c4b-900e-348e6c987d11",
   "metadata": {},
   "outputs": [
    {
     "data": {
      "text/plain": [
       "array([[42, 42, 56],\n",
       "       [42, 50, 60]])"
      ]
     },
     "execution_count": 28,
     "metadata": {},
     "output_type": "execute_result"
    }
   ],
   "source": [
    "# 9 ?\n",
    "a = np.array([7,0,7,3,4,5]).reshape(3,2, order='F') \n",
    "b = np.array([6,6,0,0,5,6,2,6,6]).reshape(3, 3, order='F')\n",
    "a.T@b"
   ]
  },
  {
   "cell_type": "code",
   "execution_count": 29,
   "id": "a9714abc-6cac-49d7-94df-de5cb4db307b",
   "metadata": {},
   "outputs": [
    {
     "name": "stdout",
     "output_type": "stream",
     "text": [
      "[[ 3 -6]\n",
      " [12 -9]]\n",
      "[[ 3 -6]\n",
      " [12 -9]]\n"
     ]
    }
   ],
   "source": [
    "a = np.array([-1,-2,1,1]).reshape(2,2, order='F') \n",
    "b = np.array([-9,-6,3,-3]).reshape(2,2, order='F')\n",
    "print(a@b)\n",
    "print(b@a)"
   ]
  },
  {
   "cell_type": "code",
   "execution_count": 30,
   "id": "d6abbdc7-5dec-4cbb-aa1b-7d4530a4eacf",
   "metadata": {},
   "outputs": [
    {
     "data": {
      "text/plain": [
       "array([ -8,   8, -16])"
      ]
     },
     "execution_count": 30,
     "metadata": {},
     "output_type": "execute_result"
    }
   ],
   "source": [
    "#11 \n",
    "a = np.array([1,3,-5,-3,3,-1,2,2,2]).reshape(3, 3, order='F') \n",
    "x = np.array([2,2,-2]).T\n",
    "a@x"
   ]
  },
  {
   "cell_type": "code",
   "execution_count": 31,
   "id": "2691a5c5-dc51-4d1c-8b46-f1fa8974d45d",
   "metadata": {},
   "outputs": [
    {
     "data": {
      "text/plain": [
       "array([-3,  5, -4])"
      ]
     },
     "execution_count": 31,
     "metadata": {},
     "output_type": "execute_result"
    }
   ],
   "source": [
    "#12\n",
    "a = np.array([4,3,5,-5,2,1,2,1,5]).reshape(3, 3, order='F') \n",
    "x = np.array([2,1,-3]).T\n",
    "a@x"
   ]
  },
  {
   "cell_type": "markdown",
   "id": "c92b078c-7d80-41b8-8e68-99cd48d4f39e",
   "metadata": {},
   "source": [
    "# 10.39\n"
   ]
  },
  {
   "cell_type": "code",
   "execution_count": 32,
   "id": "58c6f081-899f-4922-8ddd-996b4f50dc97",
   "metadata": {},
   "outputs": [],
   "source": [
    "def gram_schmidt(a):\n",
    "    q = []\n",
    "    for i in range(len(a)):\n",
    "    #orthogonalization\n",
    "        q_tilde = a[i]\n",
    "        for j in range(len(q)):\n",
    "            q_tilde = q_tilde - (q[j] @ a[i])*q[j]\n",
    "        #Test for dependennce\n",
    "        if np.sqrt(sum(q_tilde**2)) <= 1e-10:\n",
    "            print('Vectors are linearly dependent.')\n",
    "            print('GS algorithm terminates at iteration ', i+1)\n",
    "            return q\n",
    "            #Normalization\n",
    "        else:\n",
    "            q_tilde = q_tilde / np.sqrt(sum(q_tilde**2))\n",
    "            q.append(q_tilde)\n",
    "    print('Vectors are linearly independent.')\n",
    "    return q\n"
   ]
  },
  {
   "cell_type": "markdown",
   "id": "550544dc-d519-49ec-bd94-283958183b4b",
   "metadata": {},
   "source": [
    "### This is the QR factorization of A as it expresses martix A as the product of two matricies Q and R. "
   ]
  },
  {
   "cell_type": "code",
   "execution_count": 33,
   "id": "b034328a-b75b-4cd9-87b5-01333c3b5d36",
   "metadata": {},
   "outputs": [
    {
     "data": {
      "text/plain": [
       "array([[0.71170705, 0.91457585, 0.14817673],\n",
       "       [0.21234468, 0.39563129, 0.69424138],\n",
       "       [0.69614292, 0.23953124, 0.13596049]])"
      ]
     },
     "execution_count": 33,
     "metadata": {},
     "output_type": "execute_result"
    }
   ],
   "source": [
    "A= np.random.rand(3,3)\n",
    "A"
   ]
  },
  {
   "cell_type": "code",
   "execution_count": 34,
   "id": "f54f78b7-a6c2-4fad-9381-a25af070e81f",
   "metadata": {},
   "outputs": [
    {
     "name": "stdout",
     "output_type": "stream",
     "text": [
      "Vectors are linearly independent.\n"
     ]
    },
    {
     "data": {
      "text/plain": [
       "array([[ 0.69915382,  0.5727913 , -0.42789492],\n",
       "       [ 0.20859931,  0.40901994,  0.88836311],\n",
       "       [ 0.68386422, -0.71036105,  0.16648398]])"
      ]
     },
     "execution_count": 34,
     "metadata": {},
     "output_type": "execute_result"
    }
   ],
   "source": [
    "def QR_factorization(A):\n",
    "    #transpose A to use columns in gram schmidt\n",
    "    Q_transpose = np.array(gram_schmidt(A.T))\n",
    "    #create matrix R by multiplying Q by A\n",
    "    R = Q_transpose @ A\n",
    "    #transpose Q and return result\n",
    "    Q = Q_transpose.T\n",
    "    return Q, R\n",
    "\n",
    "Q, R = QR_factorization(A)\n",
    "Q"
   ]
  },
  {
   "cell_type": "code",
   "execution_count": 35,
   "id": "db62bf10-f3d5-400c-9952-df2712e28ccb",
   "metadata": {},
   "outputs": [
    {
     "data": {
      "text/plain": [
       "array([[-0.69915382, -0.5727913 , -0.42789492],\n",
       "       [-0.20859931, -0.40901994,  0.88836311],\n",
       "       [-0.68386422,  0.71036105,  0.16648398]])"
      ]
     },
     "execution_count": 35,
     "metadata": {},
     "output_type": "execute_result"
    }
   ],
   "source": [
    "Q, R = np.linalg.qr(A)\n",
    "Q"
   ]
  },
  {
   "cell_type": "markdown",
   "id": "eb81d8b8-2ec8-4942-867a-b2a3eae7788e",
   "metadata": {},
   "source": [
    "Show that $G = A^TA = (QR)^T(RQ) = R^TQ^TQR = R^T(Q^TQ) = R^TR$"
   ]
  },
  {
   "cell_type": "code",
   "execution_count": 36,
   "id": "e6fa0391-8984-4f78-9056-46b09a494f83",
   "metadata": {},
   "outputs": [
    {
     "data": {
      "text/plain": [
       "array([[1.03623216, 0.90166826, 0.34752482],\n",
       "       [0.90166826, 1.05034833, 0.44274926],\n",
       "       [0.34752482, 0.44274926, 0.52241269]])"
      ]
     },
     "execution_count": 36,
     "metadata": {},
     "output_type": "execute_result"
    }
   ],
   "source": [
    "G = A.T@A\n",
    "G"
   ]
  },
  {
   "cell_type": "code",
   "execution_count": 37,
   "id": "44b857ce-7576-4172-84d2-3293ca8fe8e5",
   "metadata": {},
   "outputs": [
    {
     "data": {
      "text/plain": [
       "array([[1.03623216, 0.90166826, 0.34752482],\n",
       "       [0.90166826, 1.05034833, 0.44274926],\n",
       "       [0.34752482, 0.44274926, 0.52241269]])"
      ]
     },
     "execution_count": 37,
     "metadata": {},
     "output_type": "execute_result"
    }
   ],
   "source": [
    "qrTrq = ( (Q@R).T) @ (Q@R) \n",
    "qrTrq"
   ]
  },
  {
   "cell_type": "code",
   "execution_count": 38,
   "id": "ffb8da21-b812-4c47-bc5b-c2bef528538f",
   "metadata": {},
   "outputs": [],
   "source": [
    "rTqTqr = R.T @ (Q.T@Q) @ R"
   ]
  },
  {
   "cell_type": "code",
   "execution_count": 39,
   "id": "4d3c5679-6519-42b8-bd9e-8036bc021b3d",
   "metadata": {},
   "outputs": [
    {
     "data": {
      "text/plain": [
       "array([[1.03623216, 0.90166826, 0.34752482],\n",
       "       [0.90166826, 1.05034833, 0.44274926],\n",
       "       [0.34752482, 0.44274926, 0.52241269]])"
      ]
     },
     "execution_count": 39,
     "metadata": {},
     "output_type": "execute_result"
    }
   ],
   "source": [
    "R.T@R"
   ]
  },
  {
   "cell_type": "code",
   "execution_count": 40,
   "id": "c47c8b40-b8a5-4dec-b099-09d35790348a",
   "metadata": {},
   "outputs": [
    {
     "name": "stdout",
     "output_type": "stream",
     "text": [
      "Are all the intermediates above equivalent :  True\n"
     ]
    }
   ],
   "source": [
    "print(\"Are all the intermediates above equivalent : \",G.all() == qrTrq.all() == rTqTqr.all() == (R.T@R).all())"
   ]
  },
  {
   "cell_type": "markdown",
   "id": "5bb3e7a6-8c4a-4fec-8436-857f1183cf59",
   "metadata": {},
   "source": [
    "I agree. I think I'm making a mistake here. This assumes you run the algorithm starting at column 1 and then d is a subset and therefore all the sub matrix results for A are also computed. \n",
    "\n",
    "\n",
    "\n",
    "\n",
    "However if you  compute the QR factorization of A and then a subset A, say starting at column 2, the two sets of linear equations are different and the results of the sub matrix  "
   ]
  },
  {
   "cell_type": "markdown",
   "id": "0a7923dd-b7d7-44a4-8d68-ca3d84d04268",
   "metadata": {},
   "source": [
    "# 10.40 \n",
    "\n",
    "The claim of this problem is that when you compute the QR factorization $A = QR$ you are also computing the QR factorization for all submatricies of A. Here A is a $n*k$ matrix which we run gram-schmidt on the columns of to obtain matricies Q and R. Now with this information the problem does make sense since we are using the gram-schmidt algorithm to compute $Q$ and $R$ given $A$. Since the columns of A are linerally independent (known as the gram-schmidt does not terminate) we can say any submatrix with column index less than k is also linerally independent. "
   ]
  },
  {
   "cell_type": "markdown",
   "id": "dc03428c-3f67-41fb-bc6c-26a53366b01e",
   "metadata": {},
   "source": [
    "__Notes__\n",
    "\n",
    "Where $i$ is an index between 1 and k. \n",
    "\n",
    "$A_i = A_{1:n,1:i}$\n",
    "\n",
    "$Q_i = Q_{1:n,1:i}$\n",
    "\n",
    "$R_i = R_{1:i,1:i}$"
   ]
  },
  {
   "cell_type": "code",
   "execution_count": 41,
   "id": "df3963ec-c547-4685-938b-cfc8c768eb8b",
   "metadata": {},
   "outputs": [
    {
     "name": "stdout",
     "output_type": "stream",
     "text": [
      "Matrix A: \n",
      " [[0.42144436 0.34395741 0.83734914 0.57031749 0.35982958]\n",
      " [0.99207483 0.58466526 0.08084211 0.94836541 0.9561474 ]\n",
      " [0.90321986 0.19715076 0.45104273 0.08770035 0.29472147]\n",
      " [0.93850787 0.92971231 0.48569581 0.65749173 0.16729522]\n",
      " [0.02549593 0.76973296 0.45155574 0.91638192 0.6238269 ]] \n",
      " \n",
      " shape of A:  (5, 5)\n"
     ]
    }
   ],
   "source": [
    "A= np.random.rand(5,5)\n",
    "print(\"Matrix A: \\n\", A,\"\\n \\n\",\"shape of A: \", A.shape)"
   ]
  },
  {
   "cell_type": "code",
   "execution_count": 42,
   "id": "0d1787e3-151d-401d-aaeb-6458e0d8519f",
   "metadata": {},
   "outputs": [
    {
     "name": "stdout",
     "output_type": "stream",
     "text": [
      "Matrix A: \n",
      " [[0.18528456 0.89669197 0.9175411  0.21803961 0.31923499]\n",
      " [0.29269177 0.5527958  0.78669106 0.284544   0.00714607]\n",
      " [0.18366434 0.55053761 0.93858668 0.093445   0.24038085]\n",
      " [0.86961895 0.99333042 0.58830807 0.57294491 0.91846692]\n",
      " [0.44341888 0.91210594 0.28469571 0.92946866 0.58445302]] \n",
      " \n",
      " shape of A:  (5, 5)\n",
      "Q : \n",
      " [[-0.17613517  0.77291835  0.03893169 -0.56018542 -0.23717134]\n",
      " [-0.27823859  0.13105756 -0.47190438  0.5105625  -0.64964559]\n",
      " [-0.17459496  0.33923733 -0.57036382  0.18553937  0.7033455 ]\n",
      " [-0.82667699 -0.42970432 -0.06940022 -0.35440362  0.03925604]\n",
      " [-0.42152277  0.2927343   0.66757719  0.51525862  0.15960714]]\n",
      "R : \n",
      " [[-1.05194527 -1.61350603 -1.15071804 -0.99932317 -1.10582184]\n",
      " [ 0.          0.79244697  0.96123148  0.26340893  0.10564553]\n",
      " [ 0.          0.         -0.72162976  0.40164301  0.19837724]\n",
      " [ 0.          0.          0.          0.3163356  -0.1549457 ]\n",
      " [ 0.          0.          0.          0.          0.21805323]]\n"
     ]
    }
   ],
   "source": [
    "A= np.random.rand(5,5)\n",
    "print(\"Matrix A: \\n\", A,\"\\n \\n\",\"shape of A: \", A.shape)\n",
    "#compute Q and R\n",
    "Q, R = np.linalg.qr(A)\n",
    "print(\"Q : \\n\", Q)\n",
    "print(\"R : \\n\", R)"
   ]
  },
  {
   "cell_type": "markdown",
   "id": "1b619409-1258-422c-afb0-ee786f2dfb29",
   "metadata": {},
   "source": [
    "Here we can take a sub set of the columns and run QR factorization on them and get the same result as when QR factorization  is run on the whole matrix A. This seems to only be true when you start with column 1 though."
   ]
  },
  {
   "cell_type": "code",
   "execution_count": 43,
   "id": "e6060b53-b585-42da-9530-c1b9d97bc361",
   "metadata": {},
   "outputs": [
    {
     "data": {
      "text/plain": [
       "array([[0.18528456, 0.89669197, 0.9175411 , 0.21803961],\n",
       "       [0.29269177, 0.5527958 , 0.78669106, 0.284544  ],\n",
       "       [0.18366434, 0.55053761, 0.93858668, 0.093445  ],\n",
       "       [0.86961895, 0.99333042, 0.58830807, 0.57294491],\n",
       "       [0.44341888, 0.91210594, 0.28469571, 0.92946866]])"
      ]
     },
     "execution_count": 43,
     "metadata": {},
     "output_type": "execute_result"
    }
   ],
   "source": [
    "#copute the submatrix of A using only columns and \n",
    "#for some reason starting at index other than 1 results in a different input. \n",
    "subA = A[:,0:len(A)-1]\n",
    "subA"
   ]
  },
  {
   "cell_type": "code",
   "execution_count": 44,
   "id": "3b10de7b-81ea-4a72-a0f7-aad8265bf877",
   "metadata": {},
   "outputs": [
    {
     "data": {
      "text/plain": [
       "array([[-0.17613517,  0.77291835,  0.03893169, -0.56018542],\n",
       "       [-0.27823859,  0.13105756, -0.47190438,  0.5105625 ],\n",
       "       [-0.17459496,  0.33923733, -0.57036382,  0.18553937],\n",
       "       [-0.82667699, -0.42970432, -0.06940022, -0.35440362],\n",
       "       [-0.42152277,  0.2927343 ,  0.66757719,  0.51525862]])"
      ]
     },
     "execution_count": 44,
     "metadata": {},
     "output_type": "execute_result"
    }
   ],
   "source": [
    "#compute Q and R\n",
    "Qsub, Rsub = np.linalg.qr(subA)\n",
    "Qsub"
   ]
  },
  {
   "cell_type": "code",
   "execution_count": 45,
   "id": "f97c62ff-7b3f-45db-9baf-60b2dcb544d2",
   "metadata": {},
   "outputs": [
    {
     "data": {
      "text/plain": [
       "array([[-1.05194527, -1.61350603, -1.15071804, -0.99932317],\n",
       "       [ 0.        ,  0.79244697,  0.96123148,  0.26340893],\n",
       "       [ 0.        ,  0.        , -0.72162976,  0.40164301],\n",
       "       [ 0.        ,  0.        ,  0.        ,  0.3163356 ]])"
      ]
     },
     "execution_count": 45,
     "metadata": {},
     "output_type": "execute_result"
    }
   ],
   "source": [
    "Rsub"
   ]
  },
  {
   "cell_type": "markdown",
   "id": "96631201-4a57-4225-a83b-450074203c3a",
   "metadata": {},
   "source": [
    "Now lets say you start at colunm 2 (assuming index starts at 1) and end at n, \n",
    "Notice this does not reproduce the same result as the example above as we did not start at column1. We would expect the output of the QR factorization here to be equivalent to the last 4 columns of Q and R, but the set of liner equations used here does not include a1. "
   ]
  },
  {
   "cell_type": "code",
   "execution_count": 46,
   "id": "264e4c39-e01c-434d-8c00-aff3dd277924",
   "metadata": {},
   "outputs": [
    {
     "data": {
      "text/plain": [
       "array([[0.89669197, 0.9175411 , 0.21803961, 0.31923499],\n",
       "       [0.5527958 , 0.78669106, 0.284544  , 0.00714607],\n",
       "       [0.55053761, 0.93858668, 0.093445  , 0.24038085],\n",
       "       [0.99333042, 0.58830807, 0.57294491, 0.91846692],\n",
       "       [0.91210594, 0.28469571, 0.92946866, 0.58445302]])"
      ]
     },
     "execution_count": 46,
     "metadata": {},
     "output_type": "execute_result"
    }
   ],
   "source": [
    "subA = A[:,1:6]\n",
    "subA"
   ]
  },
  {
   "cell_type": "code",
   "execution_count": 47,
   "id": "846902c4-69e3-4b0c-82e4-53650e95880d",
   "metadata": {},
   "outputs": [
    {
     "data": {
      "text/plain": [
       "array([[-0.49882668, -0.23735792,  0.57017133,  0.58376009],\n",
       "       [-0.30751842, -0.42110171, -0.51424871,  0.25262145],\n",
       "       [-0.30626219, -0.61219576, -0.18635811, -0.4792452 ],\n",
       "       [-0.55258632,  0.26924978,  0.34191189, -0.57473326],\n",
       "       [-0.50740142,  0.56484996, -0.50874338,  0.18818152]])"
      ]
     },
     "execution_count": 47,
     "metadata": {},
     "output_type": "execute_result"
    }
   ],
   "source": [
    "#compute Q and R\n",
    "Qsub, Rsub = np.linalg.qr(subA)\n",
    "Qsub"
   ]
  },
  {
   "cell_type": "markdown",
   "id": "c8d0756b-3c05-4874-92d2-cae0a9caacd1",
   "metadata": {},
   "source": [
    "# 10.43\n",
    "__Information needed:__ See pg. 182 of VMLS. \n",
    "\n",
    "Following from what is provided in problem 10.43. \n",
    "\n",
    "Lets assumse we are taking the inner product of the rows of $A$ and the columns of $B$. Then the complexity is ~ $2mnp$ flops. Most of the time we let A be of size $m*p$ and B be of size $p*n$. However here $A$ is the same size as $B$ so we know $m=p$ and $p=n$. This tells us all the terms are equivalent to $n$. Finally, since we know $m = p = n$ we have $2*n*n*n$ and by convention we can drop the constant to get the complexity of $n^3$. \n",
    "\n",
    "We are told it takes ~ 0.2 seconds to compute the product of two matricies each of size 1500*1500. This problem has a nice set to solve using a ratio. This is, we have 3 knowns related to one another and one unknown related to the other 3. \n",
    "\n",
    "let x1 = 0.2 sec, n1 = 1500 and x2 = t, n2 = 3000\n",
    "\n",
    "$\\frac{x1}{n1} = \\frac{x2}{n2}$\n",
    "\n",
    "Solve for the unkown $x_2$\n",
    "\n",
    "$x_2 = \\frac{x_1n_2}{n1} =  1.6$ seconds\n",
    "\n",
    "In practice this values will vary but is a good back of the envolpe approximation. "
   ]
  },
  {
   "cell_type": "code",
   "execution_count": 48,
   "id": "349f08f1-5996-43fd-8330-a82bec7aac33",
   "metadata": {},
   "outputs": [],
   "source": [
    "def convertQuizMatrix(String):\n",
    "    l = []\n",
    "    for i in String: \n",
    "        l.append(int(i))\n",
    "    return np.array(l)"
   ]
  },
  {
   "cell_type": "code",
   "execution_count": 49,
   "id": "8f96ed13-9625-4565-9576-117a80d545b6",
   "metadata": {},
   "outputs": [
    {
     "data": {
      "text/plain": [
       "array([[30, 25,  5],\n",
       "       [30, 20, 45],\n",
       "       [30, 35, 40]])"
      ]
     },
     "execution_count": 49,
     "metadata": {},
     "output_type": "execute_result"
    }
   ],
   "source": [
    "#3 Quiz 2\n",
    "s = \"377643489\"\n",
    "s1 = \"666547198\"\n",
    "A = convertQuizMatrix(s).reshape(3, 3, order='F') \n",
    "B = convertQuizMatrix(s1).reshape(3, 3, order='F') \n",
    "A+B\n",
    "5*B\n",
    "#A@B"
   ]
  },
  {
   "cell_type": "code",
   "execution_count": 50,
   "id": "7e55e06c-a19b-4fe9-ba0f-41ba053f5839",
   "metadata": {},
   "outputs": [
    {
     "data": {
      "text/plain": [
       "array([[-3, -1, -3],\n",
       "       [ 0,  9,  4],\n",
       "       [-5,  1, -6]])"
      ]
     },
     "execution_count": 50,
     "metadata": {},
     "output_type": "execute_result"
    }
   ],
   "source": [
    "#4 Quiz 2\n",
    "a = \"312031033\"\n",
    "b = \"221133114\"\n",
    "A = convertQuizMatrix(a).reshape(3, 3, order='F') \n",
    "B = convertQuizMatrix(b).reshape(3, 3, order='F') \n",
    "A@B-B@A"
   ]
  },
  {
   "cell_type": "code",
   "execution_count": 51,
   "id": "68941d88-1945-4a92-ab2a-1309fb58d371",
   "metadata": {},
   "outputs": [
    {
     "data": {
      "text/plain": [
       "array([[17, 42],\n",
       "       [22, 72],\n",
       "       [18, 69]])"
      ]
     },
     "execution_count": 51,
     "metadata": {},
     "output_type": "execute_result"
    }
   ],
   "source": [
    "#5 Quiz 2\n",
    "a = \"225456375\"\n",
    "b = \"103744\"\n",
    "A = convertQuizMatrix(a).reshape(3, 3, order='F') \n",
    "B = convertQuizMatrix(b).reshape(3, 2, order='F') \n",
    "A.T@B"
   ]
  },
  {
   "cell_type": "code",
   "execution_count": 52,
   "id": "ad19a11b-9181-4e0d-a350-2d4b56fb825a",
   "metadata": {},
   "outputs": [
    {
     "name": "stdout",
     "output_type": "stream",
     "text": [
      "c1 =  [[14 24 32]\n",
      " [21 32 32]\n",
      " [19 26 42]] \n",
      "\n",
      "c2 =  [[17 25 31]\n",
      " [10 32 26]\n",
      " [21 43 39]] \n",
      "\n"
     ]
    }
   ],
   "source": [
    "#6 Quiz attempt 2\n",
    "a = \"321525154\"\n",
    "b = \"213514154\"\n",
    "A = convertQuizMatrix(a).reshape(3, 3, order='F') \n",
    "B = convertQuizMatrix(b).reshape(3, 3, order='F') \n",
    "print(\"c1 = \", A@B,\"\\n\")\n",
    "print(\"c2 = \", B@A,\"\\n\")"
   ]
  },
  {
   "cell_type": "code",
   "execution_count": 53,
   "id": "cc628854-d33b-4346-8a09-e3e3ff19eedf",
   "metadata": {},
   "outputs": [
    {
     "name": "stdout",
     "output_type": "stream",
     "text": [
      "AB =  [[14 21 19]\n",
      " [13 30 29]\n",
      " [21 28 25]] \n",
      "\n",
      "BA =  [[14 22 16]\n",
      " [21 32 22]\n",
      " [19 32 23]] \n",
      "\n",
      "AB-BA =  [[ 0 -1  3]\n",
      " [-8 -2  7]\n",
      " [ 2 -4  2]] \n",
      "\n"
     ]
    }
   ],
   "source": [
    "#7 Quiz attempt \n",
    "a = \"122242213\"\n",
    "b = \"215354353\"\n",
    "A = convertQuizMatrix(a).reshape(3, 3, order='F') \n",
    "B = convertQuizMatrix(b).reshape(3, 3, order='F') \n",
    "print(\"AB = \", A@B,\"\\n\")\n",
    "print(\"BA = \", B@A,\"\\n\")\n",
    "print(\"AB-BA = \", A@B-B@A,\"\\n\")"
   ]
  },
  {
   "cell_type": "code",
   "execution_count": 65,
   "id": "3b5868b9-f5ee-4ebd-b16d-2a54fc28bc94",
   "metadata": {},
   "outputs": [
    {
     "name": "stdout",
     "output_type": "stream",
     "text": [
      "AB =  [[36]]\n",
      "BA = \n",
      " [[ 1  2  3  4]\n",
      " [ 6 12 18 24]\n",
      " [ 5 10 15 20]\n",
      " [ 2  4  6  8]]\n"
     ]
    }
   ],
   "source": [
    "#8 Quiz attempt \n",
    "a = \"1234\"\n",
    "b = \"1652\"\n",
    "A = convertQuizMatrix(a).reshape(1, 4, order='F') \n",
    "B = convertQuizMatrix(b).reshape(4, 1, order='F') \n",
    "print(\"AB = \", A@B)\n",
    "print(\"BA = \\n\", np.outer(B,A))"
   ]
  },
  {
   "cell_type": "code",
   "execution_count": 66,
   "id": "6f9d72d2-22e5-4337-8d94-965f6c9f7b1d",
   "metadata": {},
   "outputs": [
    {
     "name": "stdout",
     "output_type": "stream",
     "text": [
      "A^TB = \n",
      " [[ 35  20]\n",
      " [113  89]\n",
      " [ 57  54]]\n"
     ]
    }
   ],
   "source": [
    "#9 Quiz attempt \n",
    "a = \"005737630\"\n",
    "b = \"757744\"\n",
    "A = convertQuizMatrix(a).reshape(3, 3, order='F') \n",
    "B = convertQuizMatrix(b).reshape(3, 2, order='F') \n",
    "print(\"A^TB = \\n\", A.T@B)"
   ]
  },
  {
   "cell_type": "code",
   "execution_count": 97,
   "id": "9d95ac31-e680-43b1-84af-60dcf170add5",
   "metadata": {},
   "outputs": [
    {
     "data": {
      "text/plain": [
       "array([[-21,  18],\n",
       "       [ 18, -39]])"
      ]
     },
     "execution_count": 97,
     "metadata": {},
     "output_type": "execute_result"
    }
   ],
   "source": [
    "#10 Quiz attempt \n",
    "\n",
    "A = np.array([-3,1,1,-4]).reshape(2, 2, order='F') \n",
    "B = np.array([6,-3,-3,9]).reshape(2, 2, order='F') \n",
    "\n",
    "A@B "
   ]
  },
  {
   "cell_type": "markdown",
   "id": "baa65d5c-50d0-4bd8-8df0-6a20a73ffc52",
   "metadata": {},
   "source": [
    "For #10 on Quiz 10 use the following equation to compute k. This is use these to find values which allow for AB to commute to BA\n",
    "\n",
    "\n",
    "$A  = \\begin{bmatrix} a & b\\\\ c & d \\end{bmatrix}$\n",
    "\n",
    "$B = \\begin{bmatrix} x & y\\\\ \\frac{cy}{b} & x + \\frac{(d-a)y}{b} \\end{bmatrix}$"
   ]
  },
  {
   "cell_type": "code",
   "execution_count": 98,
   "id": "903af9ee-9e5c-4ba7-bb93-1a1ae0c5be35",
   "metadata": {},
   "outputs": [
    {
     "data": {
      "text/plain": [
       "array([[-3,  1],\n",
       "       [ 1, -4]])"
      ]
     },
     "execution_count": 98,
     "metadata": {},
     "output_type": "execute_result"
    }
   ],
   "source": [
    "A"
   ]
  },
  {
   "cell_type": "code",
   "execution_count": 99,
   "id": "2beeb859-433b-49a8-b51f-d40b94564b4e",
   "metadata": {},
   "outputs": [
    {
     "data": {
      "text/plain": [
       "array([[ 6, -3],\n",
       "       [-3,  9]])"
      ]
     },
     "execution_count": 99,
     "metadata": {},
     "output_type": "execute_result"
    }
   ],
   "source": [
    "B"
   ]
  },
  {
   "cell_type": "code",
   "execution_count": 100,
   "id": "bb42a991-9954-4d08-af7a-130a638289fa",
   "metadata": {},
   "outputs": [
    {
     "data": {
      "text/plain": [
       "array([[-21,  18],\n",
       "       [ 18, -39]])"
      ]
     },
     "execution_count": 100,
     "metadata": {},
     "output_type": "execute_result"
    }
   ],
   "source": [
    "B@A"
   ]
  },
  {
   "cell_type": "code",
   "execution_count": 60,
   "id": "24e5533c-3500-407c-9e42-6f70dae60b4e",
   "metadata": {},
   "outputs": [
    {
     "name": "stdout",
     "output_type": "stream",
     "text": [
      "A[0,:] =  [-3  1] \n",
      "\n",
      "B[:,0] =  [ 6 -3] \n",
      "\n",
      "A[0,:]@B[:,0] =  -21 \n",
      "\n"
     ]
    }
   ],
   "source": [
    "print(\"A[0,:] = \", A[0,:],\"\\n\")\n",
    "print(\"B[:,0] = \", B[:,0],\"\\n\")\n",
    "print(\"A[0,:]@B[:,0] = \", A[0,:]@B[:,0],\"\\n\")"
   ]
  },
  {
   "cell_type": "code",
   "execution_count": 61,
   "id": "12218f77-6a9e-49bb-86c2-58b8f431cd2c",
   "metadata": {},
   "outputs": [
    {
     "name": "stdout",
     "output_type": "stream",
     "text": [
      "A[0,:] =  [1 1] \n",
      "\n",
      "B[:,0] =  [-3  9] \n",
      "\n",
      "A[0,:]@B[:,0] =  3 \n",
      "\n"
     ]
    }
   ],
   "source": [
    "print(\"A[0,:] = \", A[1,:],\"\\n\")\n",
    "print(\"B[:,0] = \", B[:,1],\"\\n\")\n",
    "print(\"A[0,:]@B[:,0] = \", A[1,:]@B[:,0],\"\\n\")"
   ]
  },
  {
   "cell_type": "code",
   "execution_count": 76,
   "id": "1d3d6874-aa09-4ac3-973d-6e9973e6c7a6",
   "metadata": {},
   "outputs": [
    {
     "data": {
      "text/plain": [
       "array([ -9,  -5, -28])"
      ]
     },
     "execution_count": 76,
     "metadata": {},
     "output_type": "execute_result"
    }
   ],
   "source": [
    "#11\n",
    "A = np.array([[2,-2,3],[2,3,5],[-4,-4,4]])\n",
    "x  = np.array([2,2,-3])\n",
    "A@x"
   ]
  },
  {
   "cell_type": "code",
   "execution_count": 78,
   "id": "0521808f-c812-420a-a4a7-81de12e85109",
   "metadata": {},
   "outputs": [
    {
     "data": {
      "text/plain": [
       "array([-12,   6,   3])"
      ]
     },
     "execution_count": 78,
     "metadata": {},
     "output_type": "execute_result"
    }
   ],
   "source": [
    "#12\n",
    "A = np.array([[1,-3,2],[1,5,4],[5,1,5]])\n",
    "x  = np.array([3,3,-3])\n",
    "A@x"
   ]
  },
  {
   "cell_type": "code",
   "execution_count": null,
   "id": "83cab3d8-3884-410c-8fc6-8fe83c2c9514",
   "metadata": {},
   "outputs": [],
   "source": []
  }
 ],
 "metadata": {
  "kernelspec": {
   "display_name": "Python 3",
   "language": "python",
   "name": "python3"
  },
  "language_info": {
   "codemirror_mode": {
    "name": "ipython",
    "version": 3
   },
   "file_extension": ".py",
   "mimetype": "text/x-python",
   "name": "python",
   "nbconvert_exporter": "python",
   "pygments_lexer": "ipython3",
   "version": "3.8.8"
  }
 },
 "nbformat": 4,
 "nbformat_minor": 5
}

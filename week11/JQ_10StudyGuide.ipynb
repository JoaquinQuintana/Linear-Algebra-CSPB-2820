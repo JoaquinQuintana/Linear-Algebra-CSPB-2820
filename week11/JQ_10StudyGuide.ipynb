{
 "cells": [
  {
   "cell_type": "markdown",
   "id": "0524548d-e924-41e1-8cf1-931c1a2a2b02",
   "metadata": {},
   "source": [
    "__Name:__ Joaquin Quintana"
   ]
  },
  {
   "cell_type": "code",
   "execution_count": 1,
   "id": "aefef246-464e-4e20-ba62-3e06c02a5741",
   "metadata": {},
   "outputs": [],
   "source": [
    "import numpy as np"
   ]
  },
  {
   "cell_type": "markdown",
   "id": "e518ea13-7a5f-465a-9405-7a6186c69c1d",
   "metadata": {},
   "source": [
    "1. \n",
    "\n",
    "* __The 4 properties of matrix multiplication.__\n",
    "\n",
    "* __The inner product and matrix-vector products__ pg.179\n",
    "\n",
    "* __Inner product representation__ \n",
    "\n",
    "* __A block matrix multiplication__\n",
    "\n",
    "* __A column interpretation of matrix-matrix product__\n",
    "\n",
    "* __Multiple sets of linear equations (skip row interpretation if you wish)__\n",
    "\n",
    "* __Gram Matrix__\n",
    "\n",
    "* __Outer Product representation__"
   ]
  },
  {
   "cell_type": "markdown",
   "id": "3b9acda0-4e1c-4b09-88ef-d255e7177533",
   "metadata": {},
   "source": [
    "## The 4 properties of matrix multiplication.\n",
    "\n",
    "1. Associativity: $(AB)C = A(BC)$\n",
    "\n",
    "2. Associativity with scalar multiplication: $\\alpha(AB)= (\\alpha A)B$\n",
    "\n",
    "3. Distributivity with addition: $A(B+C) = (AB) + (AC) and A+B(C) = (AC) + (BC)$\n",
    "\n",
    "4. Transpose of product: $(AB)^T = B^TA^T$\n",
    "\n",
    "The four code blocks below demonstrates each of these properties"
   ]
  },
  {
   "cell_type": "code",
   "execution_count": 2,
   "id": "3a71ff3c-aae1-4537-8eb3-8a7d7d602e47",
   "metadata": {},
   "outputs": [
    {
     "name": "stdout",
     "output_type": "stream",
     "text": [
      "(AB)C = \n",
      " [[1.06968138 0.78943946 0.93637945]\n",
      " [1.6376566  1.29639002 1.57167332]\n",
      " [1.44686589 1.13288483 1.34080172]] \n",
      "\n",
      "A(BC) = \n",
      " [[1.06968138 0.78943946 0.93637945]\n",
      " [1.6376566  1.29639002 1.57167332]\n",
      " [1.44686589 1.13288483 1.34080172]] \n",
      "\n",
      "(AB)C == A(BC)\n",
      " [[ True  True  True]\n",
      " [ True  True  True]\n",
      " [ True  True  True]]\n"
     ]
    }
   ],
   "source": [
    "#Associativity:  (𝐴𝐵)𝐶=𝐴(𝐵𝐶)\n",
    "A = np.random.rand(3,3)\n",
    "B = np.random.rand(3,3)\n",
    "C = np.random.rand(3,3)\n",
    "print(\"(AB)C = \\n\", (A@B)@C,\"\\n\")\n",
    "print(\"A(BC) = \\n\", A@(B@C),\"\\n\")\n",
    "#There seems to be some rounding error here so I simply dropped some trailing digits to show they are close. \n",
    "print(\"(AB)C == A(BC)\\n\", np.round( (A@B)@C,5) == np.round( A@(B@C),5) )"
   ]
  },
  {
   "cell_type": "code",
   "execution_count": 3,
   "id": "5b80725b-cbfb-4214-ac73-4f32b3d41c6a",
   "metadata": {},
   "outputs": [
    {
     "name": "stdout",
     "output_type": "stream",
     "text": [
      "𝛼(𝐴𝐵) = \n",
      " [[0.23851754 0.13721401 0.12313238]\n",
      " [0.51358982 0.32869094 0.26206031]\n",
      " [0.28627294 0.14272212 0.13456416]]\n",
      "\n",
      "(𝛼𝐴)𝐵 = \n",
      " [[0.23851754 0.13721401 0.12313238]\n",
      " [0.51358982 0.32869094 0.26206031]\n",
      " [0.28627294 0.14272212 0.13456416]]\n",
      "\n",
      " Are 𝛼(𝐴𝐵)=(𝛼𝐴)𝐵: \n",
      " [[ True  True  True]\n",
      " [ True  True  True]\n",
      " [ True  True  True]]\n"
     ]
    }
   ],
   "source": [
    "# Associativity with scalar multiplication:  𝛼(𝐴𝐵)=(𝛼𝐴)𝐵\n",
    "#let alpha be some random scalar \n",
    "alpha = np.random.rand(1,1)\n",
    "#A and B are matricies\n",
    "A = np.random.rand(3,3)\n",
    "B = np.random.rand(3,3)\n",
    "\n",
    "print(\"𝛼(𝐴𝐵) = \\n\", alpha*(A@B))\n",
    "print(\"\\n(𝛼𝐴)𝐵 = \\n\", (alpha*A)@B)\n",
    "print(\"\\n Are 𝛼(𝐴𝐵)=(𝛼𝐴)𝐵: \\n\", np.round( alpha*(A@B),5) == np.round( (alpha*A)@B ,5) )"
   ]
  },
  {
   "cell_type": "code",
   "execution_count": 4,
   "id": "37da4640-cc87-44ed-bde5-141871ecf720",
   "metadata": {},
   "outputs": [
    {
     "name": "stdout",
     "output_type": "stream",
     "text": [
      "𝐴(𝐵+𝐶) = \n",
      " [[0.79787029 1.25036695 0.84969945]\n",
      " [0.87630883 1.12653972 1.32046106]\n",
      " [0.79705492 1.34518813 1.17361269]]\n",
      "\n",
      "(𝐴𝐵)+(𝐴𝐶) = \n",
      " [[0.79787029 1.25036695 0.84969945]\n",
      " [0.87630883 1.12653972 1.32046106]\n",
      " [0.79705492 1.34518813 1.17361269]]\n",
      "\n",
      "(Is 𝐴(𝐵+𝐶)=(𝐴𝐵)+(𝐴𝐶) equivalent: \n",
      " [[ True  True  True]\n",
      " [ True  True  True]\n",
      " [ True  True  True]]\n",
      "\n",
      " 𝐴+𝐵(𝐶) = \n",
      " [[0.9064003  1.63499558 0.70608175]\n",
      " [0.94907602 2.09435563 0.96681752]\n",
      " [1.63936637 2.49680369 1.05113032]]\n",
      "\n",
      " (𝐴𝐶)+(𝐵𝐶) = \n",
      " [[0.9064003  1.63499558 0.70608175]\n",
      " [0.94907602 2.09435563 0.96681752]\n",
      " [1.63936637 2.49680369 1.05113032]]\n",
      "\n",
      " Is 𝐴+𝐵(𝐶)=(𝐴𝐶)+(𝐵𝐶)  equivalent: \n",
      " [[ True  True  True]\n",
      " [ True  True  True]\n",
      " [ True  True  True]]\n"
     ]
    }
   ],
   "source": [
    "#Distributivity with addition:  𝐴(𝐵+𝐶)=(𝐴𝐵)+(𝐴𝐶)𝑎𝑛𝑑 𝐴+𝐵(𝐶)=(𝐴𝐶)+(𝐵𝐶)\n",
    "A = np.random.rand(3,3)\n",
    "B = np.random.rand(3,3)\n",
    "C = np.random.rand(3,3)\n",
    "print(\"𝐴(𝐵+𝐶) = \\n\", A@(B+C))\n",
    "print(\"\\n(𝐴𝐵)+(𝐴𝐶) = \\n\", (A@B)+(A@C))\n",
    "print(\"\\n(Is 𝐴(𝐵+𝐶)=(𝐴𝐵)+(𝐴𝐶) equivalent: \\n\", np.round (A@(B+C) ,5) == np.round ( (A@B)+(A@C),5) )\n",
    "\n",
    "print(\"\\n 𝐴+𝐵(𝐶) = \\n\", (A+B)@C )\n",
    "print(\"\\n (𝐴𝐶)+(𝐵𝐶) = \\n\", (A@C)+(B@C) )\n",
    "print(\"\\n Is 𝐴+𝐵(𝐶)=(𝐴𝐶)+(𝐵𝐶)  equivalent: \\n\", np.round((A+B)@C,5) == np.round((A@C)+(B@C),5))"
   ]
  },
  {
   "cell_type": "code",
   "execution_count": 5,
   "id": "b80536c8-734f-4bf9-909f-eaa1e5c49765",
   "metadata": {},
   "outputs": [
    {
     "name": "stdout",
     "output_type": "stream",
     "text": [
      "(AB)^T = \n",
      " [[0.15136657 0.51947227 0.2874851 ]\n",
      " [0.43506092 0.31494006 0.44530844]\n",
      " [0.53397323 0.94471086 0.7883784 ]]\n",
      "\n",
      " B^T A^T = \n",
      " [[0.15136657 0.51947227 0.2874851 ]\n",
      " [0.43506092 0.31494006 0.44530844]\n",
      " [0.53397323 0.94471086 0.7883784 ]]\n"
     ]
    }
   ],
   "source": [
    "#Transpose of product:  (𝐴𝐵)^𝑇=𝐵^𝑇 𝐴^𝑇\n",
    "#using the same matricies from above \n",
    "#compute the transpose of AB\n",
    "print(\"(AB)^T = \\n\", (A@B).T)\n",
    "print(\"\\n B^T A^T = \\n\", B.T@A.T)"
   ]
  },
  {
   "cell_type": "markdown",
   "id": "c980d80f-ac8e-4247-b555-235246d8fccf",
   "metadata": {},
   "source": [
    "# inner product and matrix-vector products\n",
    "\n",
    "Let $y$ be an $m$-vector, $x$ be an $n$-vector and $A$ an $m*n$ matrix. We will show that $y^T(Ax) = (y^TA)x = (A^Ty)^Tx$. In python..."
   ]
  },
  {
   "cell_type": "code",
   "execution_count": 8,
   "id": "4d4d2153-e081-4970-98ba-54a9dc260d96",
   "metadata": {},
   "outputs": [],
   "source": [
    "#creat A\n",
    "A = np.random.rand(6,3)\n",
    "m,n = A.shape\n",
    "#create y \n",
    "y = np.random.rand(m)\n",
    "#create x\n",
    "x = np.random.rand(n)"
   ]
  },
  {
   "cell_type": "markdown",
   "id": "6284f6f3-e3e8-4300-975d-63f9d2e8db34",
   "metadata": {},
   "source": [
    "compute $y^T(Ax)$"
   ]
  },
  {
   "cell_type": "code",
   "execution_count": 9,
   "id": "b7c0e11a-948b-4c71-8dcc-621e29e6724f",
   "metadata": {},
   "outputs": [
    {
     "data": {
      "text/plain": [
       "2.908483497699705"
      ]
     },
     "execution_count": 9,
     "metadata": {},
     "output_type": "execute_result"
    }
   ],
   "source": [
    "y.T@(A@x)"
   ]
  },
  {
   "cell_type": "markdown",
   "id": "19242876-7234-4a86-bf53-b283939f3f7e",
   "metadata": {},
   "source": [
    "compute $(y^TA)x$"
   ]
  },
  {
   "cell_type": "code",
   "execution_count": 10,
   "id": "b6904649-9a6d-42f8-adbe-7bc8c9f2a99e",
   "metadata": {},
   "outputs": [
    {
     "data": {
      "text/plain": [
       "2.9084834976997045"
      ]
     },
     "execution_count": 10,
     "metadata": {},
     "output_type": "execute_result"
    }
   ],
   "source": [
    "(y.T@A)@x"
   ]
  },
  {
   "cell_type": "markdown",
   "id": "0fcf4141-931e-457d-aebc-eb25ad9f776a",
   "metadata": {},
   "source": [
    "compute $(A^Ty)^Tx$"
   ]
  },
  {
   "cell_type": "code",
   "execution_count": 11,
   "id": "e8d43fd0-0dc0-4c21-b184-6e6ac716168a",
   "metadata": {},
   "outputs": [
    {
     "data": {
      "text/plain": [
       "2.9084834976997045"
      ]
     },
     "execution_count": 11,
     "metadata": {},
     "output_type": "execute_result"
    }
   ],
   "source": [
    "(A.T@y).T@x"
   ]
  },
  {
   "cell_type": "markdown",
   "id": "c0902815-6c49-4498-8c49-89c6a4afca02",
   "metadata": {},
   "source": [
    "Show the equivalence between these outputs. This, $y^T(Ax) == (y^TA)x == (A^Ty)^Tx$"
   ]
  },
  {
   "cell_type": "code",
   "execution_count": 12,
   "id": "41af882e-a3bd-4606-8817-17079082efa7",
   "metadata": {},
   "outputs": [
    {
     "data": {
      "text/plain": [
       "True"
      ]
     },
     "execution_count": 12,
     "metadata": {},
     "output_type": "execute_result"
    }
   ],
   "source": [
    "np.round(y.T@(A@x),5) == np.round((y.T@A)@x,5) == np.round((A.T@y).T@x,5)"
   ]
  },
  {
   "cell_type": "markdown",
   "id": "6ed1d4c3-2bf9-418e-8912-268ad7fb9ed0",
   "metadata": {},
   "source": [
    "# Block Matrix\n",
    "\n",
    "Here let A and B block matricies of size $4*4$. Each block matrix is compose of four matricies of the same size denoted with lowercase letter. Following from formula 10.1 we can let C = AB to get. \n",
    "\n",
    "$C = AB =  \\begin{bmatrix} a & b\\\\ c & d \\end{bmatrix} \\begin{bmatrix} e & f\\\\ g & h \\end{bmatrix} = \\begin{bmatrix} ae + bg & af + bh \\\\ ce +dg & cf +dh \\end{bmatrix} $"
   ]
  },
  {
   "cell_type": "code",
   "execution_count": 13,
   "id": "06bbd3b7-6f59-4450-ae7f-962e9242fc7b",
   "metadata": {},
   "outputs": [],
   "source": [
    "#create sub matricies pg.180\n",
    "a = np.random.rand(2,2)\n",
    "b = np.random.rand(2,2)\n",
    "c = np.random.rand(2,2)\n",
    "d = np.random.rand(2,2)\n",
    "e = np.random.rand(2,2)\n",
    "f = np.random.rand(2,2)\n",
    "g = np.random.rand(2,2)\n",
    "h = np.random.rand(2,2)\n",
    "#create block matricies A and B\n",
    "A= np.block([[a,b],[c,d]])\n",
    "B= np.block([[e,f],[g,h]])"
   ]
  },
  {
   "cell_type": "markdown",
   "id": "b5054517-e5a9-4e20-b394-ce3c9f34928e",
   "metadata": {},
   "source": [
    "__Show C is equivalent to A@B__: (note if checking equivalence some rounding error will exist between the two results)."
   ]
  },
  {
   "cell_type": "code",
   "execution_count": 14,
   "id": "3750a84c-3957-46fa-acee-7cd75670e8b5",
   "metadata": {},
   "outputs": [
    {
     "data": {
      "text/plain": [
       "array([[0.97404665, 0.93076371, 1.18026678, 1.64005916],\n",
       "       [0.69031591, 0.68402325, 0.83329102, 1.12355135],\n",
       "       [0.15418921, 0.11313369, 0.28278045, 0.34891251],\n",
       "       [0.37400751, 0.43837581, 0.58286326, 0.6600701 ]])"
      ]
     },
     "execution_count": 14,
     "metadata": {},
     "output_type": "execute_result"
    }
   ],
   "source": [
    "A@B"
   ]
  },
  {
   "cell_type": "code",
   "execution_count": 15,
   "id": "b3240284-a890-47a6-a550-284f1da29905",
   "metadata": {},
   "outputs": [
    {
     "data": {
      "text/plain": [
       "array([[0.97404665, 0.93076371, 1.18026678, 1.64005916],\n",
       "       [0.69031591, 0.68402325, 0.83329102, 1.12355135],\n",
       "       [0.15418921, 0.11313369, 0.28278045, 0.34891251],\n",
       "       [0.37400751, 0.43837581, 0.58286326, 0.6600701 ]])"
      ]
     },
     "execution_count": 15,
     "metadata": {},
     "output_type": "execute_result"
    }
   ],
   "source": [
    "C = np.block([[a@e + b@g, a@f + b@h],[c@e + d@g, c@f + d@h]])\n",
    "C"
   ]
  },
  {
   "cell_type": "markdown",
   "id": "271c1892-0dda-41ab-b02f-9b6cc9bb38c9",
   "metadata": {},
   "source": [
    "# Another block matrix multiplication"
   ]
  },
  {
   "cell_type": "code",
   "execution_count": 16,
   "id": "7a5e6a2e-ec7e-4d45-8ed7-ba7ea4cc23b7",
   "metadata": {},
   "outputs": [
    {
     "name": "stdout",
     "output_type": "stream",
     "text": [
      "BlockA shape:  (4, 6)\n"
     ]
    }
   ],
   "source": [
    "A = np.ones((2, 3), int)\n",
    "B = 9 * A\n",
    "BlockA = np.block([[A, B],[B,A]]) \n",
    "print(\"BlockA shape: \",BlockA.shape)"
   ]
  },
  {
   "cell_type": "code",
   "execution_count": 17,
   "id": "8f403c94-b67d-40c1-bfc3-43e0ba7eedf9",
   "metadata": {},
   "outputs": [
    {
     "name": "stdout",
     "output_type": "stream",
     "text": [
      "BlockB shape:  (6, 4)\n"
     ]
    }
   ],
   "source": [
    "D = np.ones((3, 2), int)\n",
    "Dstack = np.vstack([D,D])\n",
    "BlockB = np.block([[D,-2*B.T],[D*5,B.T]])\n",
    "print(\"BlockB shape: \",BlockB.shape)"
   ]
  },
  {
   "cell_type": "code",
   "execution_count": 18,
   "id": "9d53257d-8499-43af-b520-dfb2e9de69ae",
   "metadata": {},
   "outputs": [
    {
     "data": {
      "text/plain": [
       "array([[ 138,  138,  189,  189],\n",
       "       [ 138,  138,  189,  189],\n",
       "       [  42,   42, -459, -459],\n",
       "       [  42,   42, -459, -459]])"
      ]
     },
     "execution_count": 18,
     "metadata": {},
     "output_type": "execute_result"
    }
   ],
   "source": [
    "C = BlockA@BlockB\n",
    "C"
   ]
  },
  {
   "cell_type": "markdown",
   "id": "de3b00a0-0156-4ebc-9606-b207761f21cd",
   "metadata": {},
   "source": [
    "# Column interpretation matrix matrix product pg 190\n",
    "A has size n*p and B p*n\n",
    "\n",
    "$AB = A[b_1,b_2,...,b_n] = [Ab_1,Ab_2,...,Ab_n]$\n",
    "\n",
    "In python ..."
   ]
  },
  {
   "cell_type": "code",
   "execution_count": 20,
   "id": "3b7a1639-f49e-4e93-9bb8-b586b01d62a6",
   "metadata": {},
   "outputs": [
    {
     "data": {
      "text/plain": [
       "array([[ 3.5, -4.5],\n",
       "       [-1. ,  1. ]])"
      ]
     },
     "execution_count": 20,
     "metadata": {},
     "output_type": "execute_result"
    }
   ],
   "source": [
    "#make some arrays\n",
    "A = np.array([[-1.5,3,2],[1,-1,0]])\n",
    "B = np.array([[-1,-1],[0,-2],[1,0]])\n",
    "#pg. 181 Inner product representation \n",
    "AB1=A@B[:,0]\n",
    "AB2=A@B[:,1]\n",
    "#place it all back together \n",
    "np.vstack((AB1,AB2)).T"
   ]
  },
  {
   "cell_type": "markdown",
   "id": "19b54653-90f6-4961-a96a-9b881415b0a0",
   "metadata": {},
   "source": [
    "## Multiple sets of linear equations \n",
    "\n",
    "Let $A$ be a matrix which holds the coefficients for a set of $k$ linear equation with size $m,n$. The k linear equations here must, by the nature of the problem, all have the same $m*n$ coefficent matrix $A$. The linear equation for this is $AX = B$ aka a linear equation with matrix right-hand side. Here $X$ and $B$ are $n*k$ matricies. This equation expanded out is $Ax_i = b_i$ where $i=1,...,k$. An attempt in python with no real meaning but for practice. "
   ]
  },
  {
   "cell_type": "code",
   "execution_count": 19,
   "id": "30975cad-f2b9-4ccc-8760-5aa0b3b3498e",
   "metadata": {},
   "outputs": [
    {
     "name": "stdout",
     "output_type": "stream",
     "text": [
      "the shape of B: n,k =  (5, 3) \n",
      " the shape of X: n,k =  (5, 3) \n",
      "B = \n",
      " [[1.12466909 1.4500883  0.81870623]\n",
      " [1.3538051  1.29675522 0.94656111]\n",
      " [1.01124565 1.15532481 0.58316572]\n",
      " [1.11966085 0.98524019 0.88635921]\n",
      " [0.90829493 1.75110538 0.93341083]]\n"
     ]
    }
   ],
   "source": [
    "#create A and let the size be m*n\n",
    "A = np.random.rand(5,5)\n",
    "m,n = A.shape\n",
    "k=3\n",
    "\n",
    "#create X which is a set of variables X = [x_i,...,x_k] each with n rows. \n",
    "X = np.random.rand(n,k)#10 linear eq\n",
    "#compute B\n",
    "B = [A@X[:,i] for i in range(k)]\n",
    "#place it all back together \n",
    "B = np.vstack((B)).T\n",
    "#check the shape for B and X are the same \n",
    "print(\"the shape of B: n,k = \", B.shape,\"\\n\",\"the shape of X: n,k = \", X.shape, \"\\nB = \\n\", B)"
   ]
  },
  {
   "cell_type": "markdown",
   "id": "80a337b1-003c-437e-a6d3-72b93ba07158",
   "metadata": {},
   "source": [
    "## The inner product representation"
   ]
  },
  {
   "cell_type": "code",
   "execution_count": 34,
   "id": "62d8abe7-dace-42a2-9182-b10cbc0057b5",
   "metadata": {},
   "outputs": [
    {
     "data": {
      "text/plain": [
       "array([[ 3.5, -4.5],\n",
       "       [-1. ,  1. ]])"
      ]
     },
     "execution_count": 34,
     "metadata": {},
     "output_type": "execute_result"
    }
   ],
   "source": [
    "#pg.177\n",
    "A = np.array([[-1.5,3,2],[1,-1,0]])\n",
    "B = np.array([[-1,-1],[0,-2],[1,0]])\n",
    "#pg. 191 Inner product representation. matrix multiplication A row wise and columns B\n",
    "AB1=A[0,:]@B[:,0]\n",
    "AB2=A[0,:]@B[:,1]\n",
    "AB3 = A[1,:]@B[:,0]\n",
    "AB4 = A[1,:]@B[:,1]\n",
    "\n",
    "#place it all back together \n",
    "np.array([[AB1,AB2],[AB3,AB4]])"
   ]
  },
  {
   "cell_type": "markdown",
   "id": "bb38dfc0-39ac-4f43-b439-bdf08b30cdac",
   "metadata": {},
   "source": [
    "# Gram Matrix\n",
    "\n",
    "The gram matrix is created by taking the inner product of the matrix transposed and the same matrix untransposed. This is, $G = A^TA$ transpose ^T. Here is an example in python."
   ]
  },
  {
   "cell_type": "code",
   "execution_count": 21,
   "id": "22c730a9-4e8b-468e-8353-7c851d18d419",
   "metadata": {},
   "outputs": [
    {
     "data": {
      "text/plain": [
       "array([[ 3.25, -5.5 , -3.  ],\n",
       "       [-5.5 , 10.  ,  6.  ],\n",
       "       [-3.  ,  6.  ,  4.  ]])"
      ]
     },
     "execution_count": 21,
     "metadata": {},
     "output_type": "execute_result"
    }
   ],
   "source": [
    "#imples the matrix is transposed first\n",
    "G = A.T@A\n",
    "G"
   ]
  },
  {
   "cell_type": "markdown",
   "id": "f4e0a3da-f02e-433d-b517-47b54b96ac04",
   "metadata": {},
   "source": [
    "# Outer Product representation \n",
    "Let A be of size $m*p$ and lets express this matrix in terms of it columns which is, $A = [a_1,...,a_p]$. Now let B be a matrix of size $p*n$ and express this matrix B as the rows transposed which is, $B = \\begin{bmatrix} b^T_1 \\\\.\\\\.\\\\.\\\\ b^T_p\\end{bmatrix}$. In python this looks like..."
   ]
  },
  {
   "cell_type": "code",
   "execution_count": 22,
   "id": "6275676d-ab32-4d8c-8079-518884e0a1eb",
   "metadata": {},
   "outputs": [
    {
     "data": {
      "text/plain": [
       "array([[ 3.5, -4.5],\n",
       "       [-1. ,  1. ]])"
      ]
     },
     "execution_count": 22,
     "metadata": {},
     "output_type": "execute_result"
    }
   ],
   "source": [
    "A = np.array([[-1.5,3,2],[1,-1,0]])\n",
    "B = np.array([[-1,-1],[0,-2],[1,0]])\n",
    "\n",
    "#This is correctly computing the Outer product representation. \n",
    "#make some arrays\n",
    "m,p = A.shape\n",
    "out = []\n",
    "for i in range(p):\n",
    "    #take the outer product of the columns of a and the rows of b. Make sure b_i has the correct shape here. \n",
    "    out.append(np.outer(A[:,i],B[i,:].reshape(2,1)))\n",
    "          \n",
    "sum(out)"
   ]
  },
  {
   "cell_type": "markdown",
   "id": "f767c583-397e-4d0e-a9d4-da1c57cbc3e9",
   "metadata": {},
   "source": [
    "# 10.39\n"
   ]
  },
  {
   "cell_type": "markdown",
   "id": "548197ac-250e-4c9e-a432-6d818a863266",
   "metadata": {},
   "source": [
    "In this problem we see that the gram matrix for A is the same as the gram matrix for R. This lets us know the angle for the columns of R are equal to the angle of the columns of A. Another way of looking at this is from the point of view of the gram-schmidt algorithm. Since gram-schmidt is run on the columns of A and we create R from the result of this output we would expect the relationship between the two matricies to exist as gram-schmidt returns a orthonormalized set of vectors.  \n",
    "\n",
    "Below I Show that $G = A^TA = (QR)^T(RQ) = R^TQ^TQR = R^T(Q^TQ) = R^TR$ using python."
   ]
  },
  {
   "cell_type": "code",
   "execution_count": 23,
   "id": "f54bdf3f-c709-4f91-8224-fcada3b5f913",
   "metadata": {
    "tags": []
   },
   "outputs": [],
   "source": [
    "import numpy as np \n",
    "\n",
    "def gram_schmidt(a):\n",
    "    q = []\n",
    "    for i in range(len(a)):\n",
    "    #orthogonalization\n",
    "        q_tilde = a[i]\n",
    "        for j in range(len(q)):\n",
    "            q_tilde = q_tilde - (q[j] @ a[i])*q[j]\n",
    "        #Test for dependennce\n",
    "        if np.sqrt(sum(q_tilde**2)) <= 1e-10:\n",
    "            print('Vectors are linearly dependent.')\n",
    "            print('GS algorithm terminates at iteration ', i+1)\n",
    "            return q\n",
    "            #Normalization\n",
    "        else:\n",
    "            q_tilde = q_tilde / np.sqrt(sum(q_tilde**2))\n",
    "            q.append(q_tilde)\n",
    "    print('Vectors are linearly independent.')\n",
    "    return q\n"
   ]
  },
  {
   "cell_type": "markdown",
   "id": "b22bf048-3001-4632-a83e-ce8a96d62f0e",
   "metadata": {},
   "source": [
    "### This is the QR factorization of A as it expresses martix A as the product of two matricies Q and R. "
   ]
  },
  {
   "cell_type": "code",
   "execution_count": 24,
   "id": "1629d5ff-01d1-459d-9deb-1653c2c33ece",
   "metadata": {},
   "outputs": [],
   "source": [
    "A= np.random.rand(3,3)"
   ]
  },
  {
   "cell_type": "code",
   "execution_count": 25,
   "id": "a998f5d3-1c59-471f-aef7-9632f4107cd2",
   "metadata": {},
   "outputs": [
    {
     "name": "stdout",
     "output_type": "stream",
     "text": [
      "Vectors are linearly independent.\n"
     ]
    },
    {
     "data": {
      "text/plain": [
       "(array([[ 0.95167929, -0.21639852, -0.21789494],\n",
       "        [ 0.23661592,  0.06442246,  0.96946514],\n",
       "        [ 0.19575349,  0.97417731, -0.11251286]]),\n",
       " array([[ 5.57309046e-01,  1.11469757e+00,  1.12056523e+00],\n",
       "        [ 2.40940253e-16,  7.39802466e-01,  4.61961492e-01],\n",
       "        [-4.02054479e-16, -3.69729525e-15,  1.05980119e-01]]))"
      ]
     },
     "execution_count": 25,
     "metadata": {},
     "output_type": "execute_result"
    }
   ],
   "source": [
    "def QR_factorization(A):\n",
    "    #transpose A to use columns in gram schmidt\n",
    "    Q_transpose = np.array(gram_schmidt(A.T))\n",
    "    #create matrix R by multiplying Q by A\n",
    "    R = Q_transpose @ A\n",
    "    #transpose Q and return result\n",
    "    Q = Q_transpose.T\n",
    "    return Q, R\n",
    "\n",
    "Q, R = QR_factorization(A)\n",
    "Q,R"
   ]
  },
  {
   "cell_type": "code",
   "execution_count": 26,
   "id": "00e3ef90-c166-4d8a-9c44-fa9eb15826a8",
   "metadata": {},
   "outputs": [
    {
     "data": {
      "text/plain": [
       "(array([[-0.95167929,  0.21639852,  0.21789494],\n",
       "        [-0.23661592, -0.06442246, -0.96946514],\n",
       "        [-0.19575349, -0.97417731,  0.11251286]]),\n",
       " array([[-0.55730905, -1.11469757, -1.12056523],\n",
       "        [ 0.        , -0.73980247, -0.46196149],\n",
       "        [ 0.        ,  0.        , -0.10598012]]))"
      ]
     },
     "execution_count": 26,
     "metadata": {},
     "output_type": "execute_result"
    }
   ],
   "source": [
    "#compute Q and R factorization using numpy\n",
    "Q, R = np.linalg.qr(A)\n",
    "Q,R"
   ]
  },
  {
   "cell_type": "markdown",
   "id": "1a714967-d689-4ba1-b070-a49dfa25cfe6",
   "metadata": {},
   "source": [
    "Show that $G = A^TA = (QR)^T(RQ) = R^TQ^TQR = R^T(Q^TQ) = R^TR$"
   ]
  },
  {
   "cell_type": "code",
   "execution_count": 27,
   "id": "5eb0ff88-7779-4993-806b-12e0093e1f59",
   "metadata": {},
   "outputs": [
    {
     "data": {
      "text/plain": [
       "array([[0.31059337, 0.62123104, 0.62450114],\n",
       "       [0.62123104, 1.78985837, 1.59085159],\n",
       "       [0.62450114, 1.59085159, 1.48030663]])"
      ]
     },
     "execution_count": 27,
     "metadata": {},
     "output_type": "execute_result"
    }
   ],
   "source": [
    "G = A.T@A\n",
    "G"
   ]
  },
  {
   "cell_type": "code",
   "execution_count": 28,
   "id": "f8aaeded-aad2-4b0f-b0ec-734c27b5db0d",
   "metadata": {},
   "outputs": [
    {
     "data": {
      "text/plain": [
       "array([[0.31059337, 0.62123104, 0.62450114],\n",
       "       [0.62123104, 1.78985837, 1.59085159],\n",
       "       [0.62450114, 1.59085159, 1.48030663]])"
      ]
     },
     "execution_count": 28,
     "metadata": {},
     "output_type": "execute_result"
    }
   ],
   "source": [
    "qrTrq = ( (Q@R).T) @ (Q@R) \n",
    "qrTrq"
   ]
  },
  {
   "cell_type": "code",
   "execution_count": 29,
   "id": "18878868-ac34-4b4e-ad63-18ac50a11bd0",
   "metadata": {},
   "outputs": [
    {
     "data": {
      "text/plain": [
       "array([[0.31059337, 0.62123104, 0.62450114],\n",
       "       [0.62123104, 1.78985837, 1.59085159],\n",
       "       [0.62450114, 1.59085159, 1.48030663]])"
      ]
     },
     "execution_count": 29,
     "metadata": {},
     "output_type": "execute_result"
    }
   ],
   "source": [
    "rTqTqr = R.T @ (Q.T@Q) @ R\n",
    "rTqTqr"
   ]
  },
  {
   "cell_type": "code",
   "execution_count": 30,
   "id": "b5754458-cc84-40e7-ba82-1ef48a6cd199",
   "metadata": {},
   "outputs": [
    {
     "data": {
      "text/plain": [
       "array([[0.31059337, 0.62123104, 0.62450114],\n",
       "       [0.62123104, 1.78985837, 1.59085159],\n",
       "       [0.62450114, 1.59085159, 1.48030663]])"
      ]
     },
     "execution_count": 30,
     "metadata": {},
     "output_type": "execute_result"
    }
   ],
   "source": [
    "R.T@R"
   ]
  },
  {
   "cell_type": "code",
   "execution_count": 31,
   "id": "48d2d43a-4746-4d83-83fd-338dc0729f25",
   "metadata": {},
   "outputs": [
    {
     "name": "stdout",
     "output_type": "stream",
     "text": [
      "Are all the intermediates above equivalent :  True\n"
     ]
    }
   ],
   "source": [
    "print(\"Are all the intermediates above equivalent : \",G.all() == qrTrq.all() == rTqTqr.all() == (R.T@R).all())"
   ]
  },
  {
   "cell_type": "markdown",
   "id": "07fd7542-8f50-495a-a3be-ec591a36805e",
   "metadata": {},
   "source": [
    "# 10.40 \n",
    "\n",
    "The claim of this problem is that when you compute the QR factorization $A = QR$ you are also computing the QR factorization for all submatricies of the first $i$ colums of $A$. Here $A$ is a $n*k$ matrix which we run gram-schmidt on the columns of to obtain matricies $Q$ and $R$ (See solution 10.39 for an expanded form of the QR Factorization function not using numpy but the gram-schmidt algorithm). Now with this information the problem does make sense since we are using the gram-schmidt algorithm to compute $Q$ and $R$ given $A$. Since the columns of A are linerally independent (known to be true if gram-schmidt does not terminate) we can say any submatrix with column index less than k is also linerally independent. Here is an example in python. "
   ]
  },
  {
   "cell_type": "markdown",
   "id": "8dcccb65-5863-4269-ad26-3626e296b24d",
   "metadata": {},
   "source": [
    "__Notes__\n",
    "\n",
    "* $i$ is an index between 1 and $k$. \n",
    "\n",
    "$A_i = A_{1:n,1:i}$\n",
    "\n",
    "$Q_i = Q_{1:n,1:i}$\n",
    "\n",
    "$R_i = R_{1:i,1:i}$"
   ]
  },
  {
   "cell_type": "code",
   "execution_count": 32,
   "id": "8a291745-56a6-4890-9d4d-9195a741ebb4",
   "metadata": {},
   "outputs": [
    {
     "name": "stdout",
     "output_type": "stream",
     "text": [
      "Matrix A: \n",
      " [[0.80311433 0.20958377 0.29296335 0.52555851 0.91898825]\n",
      " [0.33269765 0.99795833 0.33594934 0.56854303 0.90011599]\n",
      " [0.04822564 0.76421613 0.6599783  0.8270693  0.56290286]\n",
      " [0.15189166 0.77512675 0.10497224 0.27809627 0.8734102 ]\n",
      " [0.21128936 0.66607539 0.95667397 0.15360871 0.66646009]] \n",
      " \n",
      " shape of A:  (5, 5) \n",
      "\n",
      "Q : \n",
      " [[-0.88381401  0.4092056  -0.02986647  0.17352348 -0.14290262]\n",
      " [-0.36612826 -0.4912035   0.37114883 -0.07088541  0.69418516]\n",
      " [-0.05307152 -0.52048159 -0.30987867  0.7793914  -0.15101847]\n",
      " [-0.16715425 -0.45595544  0.46986744 -0.26252507 -0.6888173 ]\n",
      " [-0.23252044 -0.33537062 -0.73794061 -0.53711683 -0.02024745]]\n",
      "R : \n",
      " [[-0.90869155 -0.87561381 -0.65694452 -0.79875161 -1.47260653]\n",
      " [ 0.         -1.37900357 -0.75734681 -0.67299854 -0.98081283]\n",
      " [ 0.          0.         -0.74522131 -0.04365935  0.05077752]\n",
      " [ 0.          0.          0.          0.53999297 -0.0528764 ]\n",
      " [ 0.          0.          0.          0.         -0.20660157]]\n"
     ]
    }
   ],
   "source": [
    "A= np.random.rand(5,5)\n",
    "print(\"Matrix A: \\n\", A,\"\\n \\n\",\"shape of A: \", A.shape,\"\\n\")\n",
    "\n",
    "#compute Q and R for matrix A\n",
    "Q, R = np.linalg.qr(A)\n",
    "print(\"Q : \\n\", Q)\n",
    "print(\"R : \\n\", R)"
   ]
  },
  {
   "cell_type": "markdown",
   "id": "2cd137a8-ff0c-4a69-9783-bac4e02f1768",
   "metadata": {},
   "source": [
    "Now lets look at all the sub matricies which start at the first column and remove the last column of the submatrix until we have run QR factorization on all sub matricies of the first i columns of A. This is, show that $A_i = Q_iR_i$ is the QR factorization of $A_i$ for each $i$"
   ]
  },
  {
   "cell_type": "code",
   "execution_count": 33,
   "id": "23a410a8-c1be-40ff-8916-30fed48b7888",
   "metadata": {},
   "outputs": [
    {
     "name": "stdout",
     "output_type": "stream",
     "text": [
      "A5 = \n",
      " [[0.80311433 0.20958377 0.29296335 0.52555851]\n",
      " [0.33269765 0.99795833 0.33594934 0.56854303]\n",
      " [0.04822564 0.76421613 0.6599783  0.8270693 ]\n",
      " [0.15189166 0.77512675 0.10497224 0.27809627]\n",
      " [0.21128936 0.66607539 0.95667397 0.15360871]]\n",
      "Q5 = \n",
      " [[-0.88381401  0.4092056  -0.02986647  0.17352348]\n",
      " [-0.36612826 -0.4912035   0.37114883 -0.07088541]\n",
      " [-0.05307152 -0.52048159 -0.30987867  0.7793914 ]\n",
      " [-0.16715425 -0.45595544  0.46986744 -0.26252507]\n",
      " [-0.23252044 -0.33537062 -0.73794061 -0.53711683]] \n",
      " R5 = \n",
      " [[-0.90869155 -0.87561381 -0.65694452 -0.79875161]\n",
      " [ 0.         -1.37900357 -0.75734681 -0.67299854]\n",
      " [ 0.          0.         -0.74522131 -0.04365935]\n",
      " [ 0.          0.          0.          0.53999297]]\n",
      "A4 = \n",
      " [[0.80311433 0.20958377 0.29296335]\n",
      " [0.33269765 0.99795833 0.33594934]\n",
      " [0.04822564 0.76421613 0.6599783 ]\n",
      " [0.15189166 0.77512675 0.10497224]\n",
      " [0.21128936 0.66607539 0.95667397]]\n",
      "Q4 = \n",
      " [[-0.88381401  0.4092056  -0.02986647]\n",
      " [-0.36612826 -0.4912035   0.37114883]\n",
      " [-0.05307152 -0.52048159 -0.30987867]\n",
      " [-0.16715425 -0.45595544  0.46986744]\n",
      " [-0.23252044 -0.33537062 -0.73794061]] \n",
      " R4 = \n",
      " [[-0.90869155 -0.87561381 -0.65694452]\n",
      " [ 0.         -1.37900357 -0.75734681]\n",
      " [ 0.          0.         -0.74522131]]\n",
      "A3 = \n",
      " [[0.80311433 0.20958377]\n",
      " [0.33269765 0.99795833]\n",
      " [0.04822564 0.76421613]\n",
      " [0.15189166 0.77512675]\n",
      " [0.21128936 0.66607539]]\n",
      "Q3 = \n",
      " [[-0.88381401  0.4092056 ]\n",
      " [-0.36612826 -0.4912035 ]\n",
      " [-0.05307152 -0.52048159]\n",
      " [-0.16715425 -0.45595544]\n",
      " [-0.23252044 -0.33537062]] \n",
      " R3 = \n",
      " [[-0.90869155 -0.87561381]\n",
      " [ 0.         -1.37900357]]\n",
      "A2 = \n",
      " [[0.80311433]\n",
      " [0.33269765]\n",
      " [0.04822564]\n",
      " [0.15189166]\n",
      " [0.21128936]]\n",
      "Q2 = \n",
      " [[-0.88381401]\n",
      " [-0.36612826]\n",
      " [-0.05307152]\n",
      " [-0.16715425]\n",
      " [-0.23252044]] \n",
      " R2 = \n",
      " [[-0.90869155]]\n"
     ]
    }
   ],
   "source": [
    "for i in range(len(A)-1):\n",
    "    print (\"A%s = \\n\" %(5-i),A[:,0:len(A)-1-i])\n",
    "    #compute the submatricies to show they are equivalent to those computed wh\n",
    "    Qsub, Rsub = np.linalg.qr(A[:,0:len(A)-1-i])\n",
    "    print(\"Q%s = \\n\"%(5-i),Qsub,\"\\n\",\"R%s = \\n\" %(5-i), Rsub)"
   ]
  },
  {
   "cell_type": "markdown",
   "id": "bdb38549-d964-4186-9bd0-eb222a9a0b29",
   "metadata": {},
   "source": [
    "# 10.43\n",
    "__Information needed:__ See pg. 182 of VMLS. \n",
    "\n",
    "Following from what is provided in problem 10.43. \n",
    "\n",
    "Lets assumse we are taking the inner product of the rows of $A$ and the columns of $B$. Then the complexity is ~ $2mnp$ flops. Most of the time we let $A$ be of size $m*p$ and $B$ be of size $p*n$. However here $A$ is the same size as $B$ so we know $m=p$ and $p=n$. This tells us all the terms are equivalent to $n$. Finally, since we know $m = p = n$ we have $2*n*n*n$ and by convention we can drop the constant to get the complexity of $n^3$ flops. \n",
    "\n",
    "Next, we are told it takes ~ 0.2 seconds to compute the product of two matricies each of size 1500*1500. This problem has a nice set up to solve with a ratio. This is, we have 3 knowns related to one another and one unknown related to the other 3. \n",
    "\n",
    "let $x1 = 0.2$ sec, $n1_{flops} = (1500)^3$ and $x2 = t$, $n2_{flops} = 3000^3$\n",
    "\n",
    "$\\frac{x1}{n1_{flops}} = \\frac{x2}{n2_{flops}}$\n",
    "\n",
    "Solve for the unkown $x_2$\n",
    "\n",
    "$x_2 = \\frac{x_1n2_{flops}}{n1_{flops}} =  1.6$ seconds\n",
    "\n",
    "In practice this values will vary but it is a good back of the envelope approximation. "
   ]
  },
  {
   "cell_type": "code",
   "execution_count": null,
   "id": "b3568f79-1133-4c03-b8b7-d4bfc1242857",
   "metadata": {},
   "outputs": [],
   "source": []
  }
 ],
 "metadata": {
  "kernelspec": {
   "display_name": "Python 3",
   "language": "python",
   "name": "python3"
  },
  "language_info": {
   "codemirror_mode": {
    "name": "ipython",
    "version": 3
   },
   "file_extension": ".py",
   "mimetype": "text/x-python",
   "name": "python",
   "nbconvert_exporter": "python",
   "pygments_lexer": "ipython3",
   "version": "3.8.8"
  }
 },
 "nbformat": 4,
 "nbformat_minor": 5
}

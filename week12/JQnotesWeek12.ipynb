{
 "cells": [
  {
   "cell_type": "code",
   "execution_count": 1,
   "id": "0f6d6650-5b11-4a98-af5c-8adbcc285ee3",
   "metadata": {},
   "outputs": [],
   "source": [
    "import numpy as np"
   ]
  },
  {
   "cell_type": "markdown",
   "id": "c8a8e07b-ab80-4273-917a-aa0a3a9b80b7",
   "metadata": {},
   "source": [
    "#quiz 11"
   ]
  },
  {
   "cell_type": "code",
   "execution_count": 3,
   "id": "3e4637db-9e9d-4617-8d20-22a3ad9349c4",
   "metadata": {},
   "outputs": [],
   "source": [
    "def gram_schmidt(a):\n",
    "    q = []\n",
    "    for i in range(len(a)):\n",
    "    #orthogonalization\n",
    "        q_tilde = a[i]\n",
    "        for j in range(len(q)):\n",
    "            q_tilde = q_tilde - (q[j] @ a[i])*q[j]\n",
    "        #Test for dependennce\n",
    "        if np.sqrt(sum(q_tilde**2)) <= 1e-10:\n",
    "            print('Vectors are linearly dependent.')\n",
    "            print('GS algorithm terminates at iteration ', i+1)\n",
    "            return q\n",
    "            #Normalization\n",
    "        else:\n",
    "            q_tilde = q_tilde / np.sqrt(sum(q_tilde**2))\n",
    "            q.append(q_tilde)\n",
    "    print('Vectors are linearly independent.')\n",
    "    return q"
   ]
  },
  {
   "cell_type": "code",
   "execution_count": 6,
   "id": "95b3df02-0fe8-46f4-84cc-f0f5c627a6f2",
   "metadata": {},
   "outputs": [
    {
     "data": {
      "text/plain": [
       "array([[1., 0.],\n",
       "       [0., 1.]])"
      ]
     },
     "execution_count": 6,
     "metadata": {},
     "output_type": "execute_result"
    }
   ],
   "source": [
    "#3?\n",
    "a = np.array([[1,2],[0,-2]])\n",
    "b = np.array([[1,1],[0,-1/2]])\n",
    "a@b\n",
    "b@a"
   ]
  },
  {
   "cell_type": "code",
   "execution_count": 9,
   "id": "c584db84-54b6-4793-a2c8-b1d32747c806",
   "metadata": {},
   "outputs": [
    {
     "data": {
      "text/plain": [
       "array([[-1,  4],\n",
       "       [ 1, -1]])"
      ]
     },
     "execution_count": 9,
     "metadata": {},
     "output_type": "execute_result"
    }
   ],
   "source": [
    "#4 \n",
    "A = np.array([[-1,4],[1,-1]])\n",
    "A\n"
   ]
  },
  {
   "cell_type": "code",
   "execution_count": 12,
   "id": "2e18628d-84c0-41fb-aba9-b5d4e28488f5",
   "metadata": {},
   "outputs": [
    {
     "data": {
      "text/plain": [
       "array([[ 2.5, -3. ],\n",
       "       [ 1. , -1. ]])"
      ]
     },
     "execution_count": 12,
     "metadata": {},
     "output_type": "execute_result"
    }
   ],
   "source": [
    "#3\n",
    "A = np.array([[-2,6],[-2,5]])\n",
    "A\n",
    "inv = np.linalg.inv(A)\n",
    "\n",
    "inv"
   ]
  },
  {
   "cell_type": "code",
   "execution_count": 13,
   "id": "13ef3bea-3b3a-4b92-b251-79662dd917f3",
   "metadata": {},
   "outputs": [],
   "source": [
    "def back_subst(R,b_tilde):\n",
    "    n = R.shape[0]\n",
    "    x = np.zeros(n)\n",
    "    for i in reversed(range(n)):\n",
    "        x[i] = b_tilde[i]\n",
    "        for j in range(i+1,n):\n",
    "            x[i] = x[i] - R[i,j]*x[j]\n",
    "        x[i] = x[i]/R[i,i]\n",
    "    return x\n",
    "\n",
    "def back_solve(R,b):\n",
    "    n,n = R.shape\n",
    "    #solving linear equations using QR factorization\n",
    "    #compute QR factorization of A matix with size n*n\n",
    "    Q, R = np.linalg.qr(A)\n",
    "    #compute QTb\n",
    "    QTransposeb = Q.T@b\n",
    "    #back substitution \n",
    "    x = back_subst(R, QTransposeb)\n",
    "    return x"
   ]
  },
  {
   "cell_type": "code",
   "execution_count": 63,
   "id": "588c6f94-9d12-436d-8c58-ba0214ca5781",
   "metadata": {},
   "outputs": [],
   "source": [
    "a = np.array([[3,2],[4,6]])\n",
    "# = np.array([4,6])\n",
    "b = np.array([2,4])"
   ]
  },
  {
   "cell_type": "code",
   "execution_count": 64,
   "id": "2427db26-720c-4254-9378-4c987ffd7f6e",
   "metadata": {},
   "outputs": [
    {
     "data": {
      "text/plain": [
       "array([0.4, 0.4])"
      ]
     },
     "execution_count": 64,
     "metadata": {},
     "output_type": "execute_result"
    }
   ],
   "source": [
    "x = np.linalg.solve(a, b)\n",
    "x"
   ]
  },
  {
   "cell_type": "code",
   "execution_count": 38,
   "id": "d611ef94-c10e-44b4-b8df-49c53b8043fc",
   "metadata": {},
   "outputs": [
    {
     "data": {
      "text/plain": [
       "2.0"
      ]
     },
     "execution_count": 38,
     "metadata": {},
     "output_type": "execute_result"
    }
   ],
   "source": [
    "x=4/10\n",
    "y = 6/15\n",
    "3*x+2*y"
   ]
  },
  {
   "cell_type": "code",
   "execution_count": 39,
   "id": "8e65d246-4b49-4eba-b369-2255c65807cd",
   "metadata": {},
   "outputs": [
    {
     "data": {
      "text/plain": [
       "4.0"
      ]
     },
     "execution_count": 39,
     "metadata": {},
     "output_type": "execute_result"
    }
   ],
   "source": [
    "4*x+6*y"
   ]
  },
  {
   "cell_type": "code",
   "execution_count": 72,
   "id": "71783be1-b400-4ae1-82f6-48cc53a0108e",
   "metadata": {},
   "outputs": [
    {
     "data": {
      "text/plain": [
       "array([[0.33333333, 1.33333333],\n",
       "       [0.33333333, 0.33333333]])"
      ]
     },
     "execution_count": 72,
     "metadata": {},
     "output_type": "execute_result"
    }
   ],
   "source": [
    "A = np.array([[-1,4],[1,-1]])\n",
    "I = np.identity(2)\n",
    "np.linalg.inv(A)"
   ]
  },
  {
   "cell_type": "code",
   "execution_count": 40,
   "id": "9dc42346-eda4-4731-a619-e11cacef2624",
   "metadata": {},
   "outputs": [
    {
     "data": {
      "text/plain": [
       "array([-0.4,  0.8])"
      ]
     },
     "execution_count": 40,
     "metadata": {},
     "output_type": "execute_result"
    }
   ],
   "source": [
    "#ax=b a coefficents\n",
    "#b output\n",
    "x = np.linalg.solve(a, b)\n",
    "x"
   ]
  },
  {
   "cell_type": "code",
   "execution_count": 54,
   "id": "e9407c59-3d07-4ffa-93c5-d48b1792dac0",
   "metadata": {},
   "outputs": [],
   "source": [
    "a = np.array([[2,3,1],[1,4,1],[1,3,1]])\n",
    "# = np.array([4,6])\n",
    "b = np.array([-6,-12,-9])"
   ]
  },
  {
   "cell_type": "code",
   "execution_count": 55,
   "id": "50e4e7d1-007c-441b-9b72-76bc80908e1f",
   "metadata": {},
   "outputs": [
    {
     "data": {
      "text/plain": [
       "array([ 3., -3., -3.])"
      ]
     },
     "execution_count": 55,
     "metadata": {},
     "output_type": "execute_result"
    }
   ],
   "source": [
    "#b output\n",
    "x = np.linalg.solve(a, b)\n",
    "x"
   ]
  },
  {
   "cell_type": "code",
   "execution_count": 56,
   "id": "e9e8d76f-d749-4640-953d-b42e0552cfcf",
   "metadata": {},
   "outputs": [
    {
     "data": {
      "text/plain": [
       "array([ 3., -3., -3.])"
      ]
     },
     "execution_count": 56,
     "metadata": {},
     "output_type": "execute_result"
    }
   ],
   "source": [
    "X = np.linalg.inv(a).dot(b)\n",
    "X"
   ]
  },
  {
   "cell_type": "code",
   "execution_count": 57,
   "id": "b6dd0e44-5050-42a0-b87b-0939e162c50e",
   "metadata": {},
   "outputs": [
    {
     "data": {
      "text/plain": [
       "-6.000000000000002"
      ]
     },
     "execution_count": 57,
     "metadata": {},
     "output_type": "execute_result"
    }
   ],
   "source": [
    "2*X[0]+3*X[1]+X[2]"
   ]
  },
  {
   "cell_type": "code",
   "execution_count": 58,
   "id": "8686a104-812f-4c6f-a658-96b3a533c023",
   "metadata": {},
   "outputs": [
    {
     "data": {
      "text/plain": [
       "-12.000000000000004"
      ]
     },
     "execution_count": 58,
     "metadata": {},
     "output_type": "execute_result"
    }
   ],
   "source": [
    "X[0]+4*X[1]+X[2]"
   ]
  },
  {
   "cell_type": "code",
   "execution_count": 59,
   "id": "9ca8cd96-7ed4-481f-8a86-48b256ea6d84",
   "metadata": {},
   "outputs": [
    {
     "data": {
      "text/plain": [
       "-9.000000000000004"
      ]
     },
     "execution_count": 59,
     "metadata": {},
     "output_type": "execute_result"
    }
   ],
   "source": [
    "X[0]+3*X[1]+X[2]"
   ]
  },
  {
   "cell_type": "code",
   "execution_count": 73,
   "id": "3a670c74-be6f-4efb-8281-631ac4c9766a",
   "metadata": {},
   "outputs": [
    {
     "data": {
      "text/plain": [
       "array([[-4,  2],\n",
       "       [ 5,  2]])"
      ]
     },
     "execution_count": 73,
     "metadata": {},
     "output_type": "execute_result"
    }
   ],
   "source": [
    "A = np.array([[-4,2],[5,2]])\n",
    "A"
   ]
  },
  {
   "cell_type": "code",
   "execution_count": 75,
   "id": "585c7284-26db-4797-85ed-fe0be4feaf15",
   "metadata": {},
   "outputs": [
    {
     "data": {
      "text/plain": [
       "array([[ 0.22222222, -0.11111111],\n",
       "       [-0.27777778, -0.11111111]])"
      ]
     },
     "execution_count": 75,
     "metadata": {},
     "output_type": "execute_result"
    }
   ],
   "source": [
    "(-1/18)*A"
   ]
  },
  {
   "cell_type": "code",
   "execution_count": 82,
   "id": "e2a962f1-5ba7-425e-8d8b-4bb116ebd59f",
   "metadata": {},
   "outputs": [
    {
     "data": {
      "text/plain": [
       "0.2222222222222222"
      ]
     },
     "execution_count": 82,
     "metadata": {},
     "output_type": "execute_result"
    }
   ],
   "source": [
    "4/18"
   ]
  },
  {
   "cell_type": "code",
   "execution_count": 83,
   "id": "f49c2de5-7543-4764-932e-21bc41fb4746",
   "metadata": {},
   "outputs": [
    {
     "data": {
      "text/plain": [
       "array([[-3, -3],\n",
       "       [ 4, -2]])"
      ]
     },
     "execution_count": 83,
     "metadata": {},
     "output_type": "execute_result"
    }
   ],
   "source": [
    "A = np.array([[-3,-3],[4,-2]])\n",
    "A"
   ]
  },
  {
   "cell_type": "code",
   "execution_count": 84,
   "id": "92b0e1bd-8f89-4834-9074-c36f7f6b9599",
   "metadata": {},
   "outputs": [
    {
     "data": {
      "text/plain": [
       "array([[-0.11111111,  0.16666667],\n",
       "       [-0.22222222, -0.16666667]])"
      ]
     },
     "execution_count": 84,
     "metadata": {},
     "output_type": "execute_result"
    }
   ],
   "source": [
    "np.linalg.inv(A)"
   ]
  },
  {
   "cell_type": "code",
   "execution_count": 87,
   "id": "686c65af-199e-45df-8172-af11d63ca6b5",
   "metadata": {},
   "outputs": [
    {
     "data": {
      "text/plain": [
       "array([[1., 0.],\n",
       "       [0., 1.]])"
      ]
     },
     "execution_count": 87,
     "metadata": {},
     "output_type": "execute_result"
    }
   ],
   "source": [
    "A = np.array([[1,2],[0,-2]])\n",
    "B = np.array([[1,1],[0,-1/2]])\n",
    "A@B"
   ]
  },
  {
   "cell_type": "code",
   "execution_count": 88,
   "id": "60da6d9b-7ce6-4262-8d39-492713be8d7e",
   "metadata": {},
   "outputs": [],
   "source": [
    "a = np.array([[4,2],[5,3]])\n",
    "# = np.array([4,6])\n",
    "b = np.array([5,4])"
   ]
  },
  {
   "cell_type": "code",
   "execution_count": 91,
   "id": "786d053b-97f3-4853-aa6a-01bd0a14886d",
   "metadata": {},
   "outputs": [],
   "source": [
    "x = np.linalg.solve(a,b)"
   ]
  },
  {
   "cell_type": "code",
   "execution_count": 93,
   "id": "bbac68cd-5cf5-4f81-afb9-2e9138f764da",
   "metadata": {},
   "outputs": [
    {
     "data": {
      "text/plain": [
       "4.999999999999998"
      ]
     },
     "execution_count": 93,
     "metadata": {},
     "output_type": "execute_result"
    }
   ],
   "source": [
    "4*x[0]+2*x[1]"
   ]
  },
  {
   "cell_type": "code",
   "execution_count": 94,
   "id": "034c3aa0-9615-4d92-b485-a308f95e8e78",
   "metadata": {},
   "outputs": [
    {
     "data": {
      "text/plain": [
       "array([ 3.5, -4.5])"
      ]
     },
     "execution_count": 94,
     "metadata": {},
     "output_type": "execute_result"
    }
   ],
   "source": [
    "x"
   ]
  },
  {
   "cell_type": "code",
   "execution_count": 95,
   "id": "976c1fc0-c960-4fcb-86bd-687ea9e0e272",
   "metadata": {},
   "outputs": [
    {
     "data": {
      "text/plain": [
       "3.9999999999999982"
      ]
     },
     "execution_count": 95,
     "metadata": {},
     "output_type": "execute_result"
    }
   ],
   "source": [
    "5*x[0]+3*x[1]"
   ]
  },
  {
   "cell_type": "code",
   "execution_count": 96,
   "id": "eee75fa2-c639-4431-a990-cde178e76368",
   "metadata": {},
   "outputs": [],
   "source": [
    "a = np.array([[4,2,1],[2,5,2],[1,2,1]])\n",
    "# = np.array([4,6])\n",
    "b = np.array([-15,-13,-6])"
   ]
  },
  {
   "cell_type": "code",
   "execution_count": 97,
   "id": "37e75b57-7c4f-422b-a930-b496f2f1a785",
   "metadata": {},
   "outputs": [],
   "source": [
    "x = np.linalg.solve(a,b)"
   ]
  },
  {
   "cell_type": "code",
   "execution_count": 98,
   "id": "c296a570-98c1-4953-9900-7a017901f192",
   "metadata": {},
   "outputs": [
    {
     "data": {
      "text/plain": [
       "-15.0"
      ]
     },
     "execution_count": 98,
     "metadata": {},
     "output_type": "execute_result"
    }
   ],
   "source": [
    "4*x[0]+2*x[1]+x[2]"
   ]
  },
  {
   "cell_type": "code",
   "execution_count": 99,
   "id": "31827d6c-a78e-452b-94ba-62d1aca3c8c9",
   "metadata": {},
   "outputs": [
    {
     "data": {
      "text/plain": [
       "-13.0"
      ]
     },
     "execution_count": 99,
     "metadata": {},
     "output_type": "execute_result"
    }
   ],
   "source": [
    "2*x[0]+5*x[1]+2*x[2]"
   ]
  },
  {
   "cell_type": "code",
   "execution_count": 100,
   "id": "b8da63bf-7efe-4f6f-82f1-58239528ac99",
   "metadata": {},
   "outputs": [
    {
     "data": {
      "text/plain": [
       "-6.0"
      ]
     },
     "execution_count": 100,
     "metadata": {},
     "output_type": "execute_result"
    }
   ],
   "source": [
    "x[0]+2*x[1]+x[2]"
   ]
  },
  {
   "cell_type": "code",
   "execution_count": 101,
   "id": "01875ba9-9ac2-42ed-bace-d9923a550a9e",
   "metadata": {},
   "outputs": [
    {
     "data": {
      "text/plain": [
       "array([-3., -1., -1.])"
      ]
     },
     "execution_count": 101,
     "metadata": {},
     "output_type": "execute_result"
    }
   ],
   "source": [
    "x"
   ]
  },
  {
   "cell_type": "code",
   "execution_count": 7,
   "id": "f6890f1e-db3a-43e7-84c0-14ba36fe539d",
   "metadata": {},
   "outputs": [
    {
     "data": {
      "text/plain": [
       "array([1., 0.])"
      ]
     },
     "execution_count": 7,
     "metadata": {},
     "output_type": "execute_result"
    }
   ],
   "source": [
    "I = np.identity(2)\n",
    "I[0]"
   ]
  },
  {
   "cell_type": "code",
   "execution_count": 9,
   "id": "0c7929f9-851d-40c1-a461-20c0ee61641c",
   "metadata": {},
   "outputs": [
    {
     "name": "stdout",
     "output_type": "stream",
     "text": [
      "Vectors are linearly independent.\n"
     ]
    },
    {
     "data": {
      "text/plain": [
       "[array([1., 0.]), array([0., 1.])]"
      ]
     },
     "execution_count": 9,
     "metadata": {},
     "output_type": "execute_result"
    }
   ],
   "source": [
    "gram_schmidt(I)"
   ]
  },
  {
   "cell_type": "code",
   "execution_count": 10,
   "id": "960e7909-69e3-42e5-85fb-587e344177a5",
   "metadata": {},
   "outputs": [],
   "source": [
    "# \n",
    "# Discrete Fourier transform (Python)\n",
    "# by Project Nayuki, 2017. Public domain.\n",
    "# https://www.nayuki.io/page/how-to-implement-the-discrete-fourier-transform\n",
    "# \n",
    "\n",
    "\n",
    "# \n",
    "# Computes the discrete Fourier transform (DFT) of the given complex vector.\n",
    "# 'input' is a sequence of numbers (integer, float, or complex).\n",
    "# Returns a list of complex numbers as output, having the same length.\n",
    "# \n",
    "import cmath\n",
    "def compute_dft_complex(input):\n",
    "    n = len(input)\n",
    "    output = []\n",
    "    for k in range(n):  # For each output element\n",
    "        s = complex(0)\n",
    "        for t in range(n):  # For each input element\n",
    "            angle = 2j * cmath.pi * t * k / n\n",
    "            s += input[t] * cmath.exp(-angle)\n",
    "        output.append(s)\n",
    "    return output\n",
    "    \n",
    "\n",
    "# \n",
    "# (Alternate implementation using only real numbers.)\n",
    "# Computes the discrete Fourier transform (DFT) of the given complex vector.\n",
    "# 'inreal' and 'inimag' are each a sequence of n floating-point numbers.\n",
    "# Returns a tuple of two lists of floats - outreal and outimag, each of length n.\n",
    "# \n",
    "import math\n",
    "def compute_dft_real_pair(inreal, inimag):\n",
    "    assert len(inreal) == len(inimag)\n",
    "    n = len(inreal)\n",
    "    outreal = []\n",
    "    outimag = []\n",
    "    for k in range(n):  # For each output element\n",
    "        sumreal = 0.0\n",
    "        sumimag = 0.0\n",
    "        for t in range(n):  # For each input element\n",
    "            angle = 2 * math.pi * t * k / n\n",
    "            sumreal +=  inreal[t] * math.cos(angle) + inimag[t] * math.sin(angle)\n",
    "            sumimag += -inreal[t] * math.sin(angle) + inimag[t] * math.cos(angle)\n",
    "        outreal.append(sumreal)\n",
    "        outimag.append(sumimag)\n",
    "    return (outreal, outimag)"
   ]
  },
  {
   "cell_type": "code",
   "execution_count": null,
   "id": "439b7d1c-3886-45ab-b78a-005e07bfd724",
   "metadata": {},
   "outputs": [],
   "source": []
  }
 ],
 "metadata": {
  "kernelspec": {
   "display_name": "Python 3",
   "language": "python",
   "name": "python3"
  },
  "language_info": {
   "codemirror_mode": {
    "name": "ipython",
    "version": 3
   },
   "file_extension": ".py",
   "mimetype": "text/x-python",
   "name": "python",
   "nbconvert_exporter": "python",
   "pygments_lexer": "ipython3",
   "version": "3.8.8"
  }
 },
 "nbformat": 4,
 "nbformat_minor": 5
}

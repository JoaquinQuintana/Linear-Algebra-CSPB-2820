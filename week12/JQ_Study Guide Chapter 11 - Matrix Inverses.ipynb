{
 "cells": [
  {
   "cell_type": "markdown",
   "id": "4c8f4067-e08e-49ea-951f-6b34d810c91b",
   "metadata": {},
   "source": [
    "VMLS - Study Guide Chapter 11 - Matrix Inverses\n",
    "__Name:__ Joaquin Quintana\n",
    "* Submit your work in Gradescope as a PDF.\n",
    "* Identify the question number as you submit.\n",
    "* One section per page (if a page or less)\n",
    "* Do not start a new question in the middle of a page.\n",
    "* Remember to add interpretation, an example, your attempt vs. given solution or other\n",
    "evidence of your engagement with the material for full credit.\n"
   ]
  },
  {
   "cell_type": "code",
   "execution_count": 1,
   "id": "460b871c-df80-437e-baac-3f4f7746eaa6",
   "metadata": {},
   "outputs": [],
   "source": [
    "import numpy as np\n",
    "import itertools\n",
    "from IPython.display import Latex"
   ]
  },
  {
   "cell_type": "markdown",
   "id": "e25d5652-2e35-4dc9-995e-081a65227d2f",
   "metadata": {},
   "source": [
    "Name: Joaquin Quintana"
   ]
  },
  {
   "cell_type": "markdown",
   "id": "c51cdec3-12dc-4842-bad3-096e76c62a9b",
   "metadata": {},
   "source": [
    "display(Latex(r\"\\newpage\"))"
   ]
  },
  {
   "cell_type": "markdown",
   "id": "f3fa0186-2425-4d9d-91f0-5ba82a638e1b",
   "metadata": {},
   "source": [
    "## Triangular matrix. "
   ]
  },
  {
   "cell_type": "code",
   "execution_count": 2,
   "id": "266a59bc-bd08-4225-baf7-185b2c0a7426",
   "metadata": {},
   "outputs": [],
   "source": [
    "def gram_schmidt(a):\n",
    "    q = []\n",
    "    for i in range(len(a)):\n",
    "    #orthogonalization\n",
    "        q_tilde = a[i]\n",
    "        for j in range(len(q)):\n",
    "            q_tilde = q_tilde - (q[j] @ a[i])*q[j]\n",
    "        #Test for dependennce\n",
    "        if np.sqrt(sum(q_tilde**2)) <= 1e-10:\n",
    "            print('Vectors are linearly dependent.')\n",
    "            print('GS algorithm terminates at iteration ', i+1)\n",
    "            return q\n",
    "            #Normalization\n",
    "        else:\n",
    "            q_tilde = q_tilde / np.sqrt(sum(q_tilde**2))\n",
    "            q.append(q_tilde)\n",
    "    print('Vectors are linearly independent.')\n",
    "    return q"
   ]
  },
  {
   "cell_type": "code",
   "execution_count": 3,
   "id": "cf519e90-dd6e-4983-aa6a-e9c9efa53711",
   "metadata": {},
   "outputs": [],
   "source": [
    "def back_subst(R,b_tilde):\n",
    "    n = R.shape[0]\n",
    "    x = np.zeros(n)\n",
    "    for i in reversed(range(n)):\n",
    "        x[i] = b_tilde[i]\n",
    "        for j in range(i+1,n):\n",
    "            x[i] = x[i] - R[i,j]*x[j]\n",
    "        x[i] = x[i]/R[i,i]\n",
    "    return x\n",
    "\n",
    "def back_solve(R,b):\n",
    "    n,n = R.shape\n",
    "    #solving linear equations using QR factorization\n",
    "    #compute QR factorization of A matix with size n*n\n",
    "    Q, R = np.linalg.qr(A)\n",
    "    #compute QTb\n",
    "    QTransposeb = Q.T@b\n",
    "    #back substitution \n",
    "    x = back_subst(R, QTransposeb)\n",
    "    return x"
   ]
  },
  {
   "cell_type": "code",
   "execution_count": 4,
   "id": "d45f079c-a8d1-4809-a33e-450d090f1fa2",
   "metadata": {},
   "outputs": [
    {
     "data": {
      "text/plain": [
       "1.594436429147036e-16"
      ]
     },
     "execution_count": 4,
     "metadata": {},
     "output_type": "execute_result"
    }
   ],
   "source": [
    "R = np.triu(np.random.random((4,4))) #zero anything not in upper triangle\n",
    "b = np.random.random(4)\n",
    "x = back_subst(R,b)\n",
    "np.linalg.norm(R @ x - b)"
   ]
  },
  {
   "cell_type": "code",
   "execution_count": 5,
   "id": "831e5dfe-e50c-4161-976c-c31d97cead81",
   "metadata": {},
   "outputs": [],
   "source": [
    "def back_solve(R,b):\n",
    "    n,n = R.shape\n",
    "    #solving linear equations using QR factorization\n",
    "    #compute QR factorization of A matix with size n*n\n",
    "    Q, R = np.linalg.qr(R)\n",
    "    #compute QTb\n",
    "    QTransposeb = Q.T@b\n",
    "    #back substitution \n",
    "    x = back_subst(R, QTransposeb)\n",
    "    return x"
   ]
  },
  {
   "cell_type": "code",
   "execution_count": 6,
   "id": "c0a3d339-6f9b-445f-a343-58f259475d62",
   "metadata": {},
   "outputs": [
    {
     "data": {
      "text/plain": [
       "array([-0.79638381,  0.23691744,  0.52370483])"
      ]
     },
     "execution_count": 6,
     "metadata": {},
     "output_type": "execute_result"
    }
   ],
   "source": [
    "#solving linear equations using QR factorization\n",
    "A= np.random.rand(3,3)\n",
    "n = A.shape\n",
    "b = np.random.rand(n[1])\n",
    "#compute QR factorization of A matix with size n*n\n",
    "Q, R = np.linalg.qr(A)\n",
    "#compute QTb\n",
    "QTransposeb = Q.T@b\n",
    "#back substitution \n",
    "x = back_subst(R, QTransposeb)\n",
    "x"
   ]
  },
  {
   "cell_type": "code",
   "execution_count": 7,
   "id": "d690c662-85a0-4cbc-9531-8fe13f3a782c",
   "metadata": {},
   "outputs": [],
   "source": [
    "def gram_schmidt(a):\n",
    "    q = []\n",
    "    for i in range(len(a)):\n",
    "    #orthogonalization\n",
    "        q_tilde = a[i]\n",
    "        for j in range(len(q)):\n",
    "            q_tilde = q_tilde - (q[j] @ a[i])*q[j]\n",
    "        #Test for dependennce\n",
    "        if np.sqrt(sum(q_tilde**2)) <= 1e-10:\n",
    "            print('Vectors are linearly dependent.')\n",
    "            print('GS algorithm terminates at iteration ', i+1)\n",
    "            return q\n",
    "            #Normalization\n",
    "        else:\n",
    "            q_tilde = q_tilde / np.sqrt(sum(q_tilde**2))\n",
    "            q.append(q_tilde)\n",
    "    print('Vectors are linearly independent.')\n",
    "    return q\n"
   ]
  },
  {
   "cell_type": "markdown",
   "id": "c48a1bf4-cb02-4342-a2a6-7c9b489e5ed1",
   "metadata": {},
   "source": [
    "Here lets create a lower trinagle matrix with non-zero diagnoal. "
   ]
  },
  {
   "cell_type": "code",
   "execution_count": 8,
   "id": "ce240e40-f463-4193-8fcc-3d16109bb983",
   "metadata": {},
   "outputs": [
    {
     "name": "stdout",
     "output_type": "stream",
     "text": [
      "Lower Triagular :\n",
      " [[1 0 0]\n",
      " [4 5 0]\n",
      " [7 8 9]] \n",
      " \n",
      " Transpose of Lower Triagular :\n",
      " [[1 4 7]\n",
      " [0 5 8]\n",
      " [0 0 9]]\n"
     ]
    }
   ],
   "source": [
    "#create a lower trinagle matrix with non-zero diagnoal \n",
    "lT = np.tril([[1,2,3],[4,5,6],[7,8,9]], 0)\n",
    "print(\"Lower Triagular :\\n\",lT,\"\\n \\n\",\"Transpose of Lower Triagular :\\n\",lT.T)"
   ]
  },
  {
   "cell_type": "markdown",
   "id": "ef22a7f3-530a-4c4b-ace4-f1bea317ed24",
   "metadata": {},
   "source": [
    "Now show columns are linerally independent not by proof but by running gram schmidt on the columns. "
   ]
  },
  {
   "cell_type": "code",
   "execution_count": 9,
   "id": "1c6d8c07-8e21-49e3-9da1-2978c8949dd8",
   "metadata": {},
   "outputs": [
    {
     "name": "stdout",
     "output_type": "stream",
     "text": [
      "Vectors are linearly independent.\n"
     ]
    },
    {
     "data": {
      "text/plain": [
       "[array([0.12309149, 0.49236596, 0.86164044]),\n",
       " array([-0.94499299,  0.32328708, -0.04973647]),\n",
       " array([-0.30304576, -0.80812204,  0.50507627])]"
      ]
     },
     "execution_count": 9,
     "metadata": {},
     "output_type": "execute_result"
    }
   ],
   "source": [
    "R = lT.T\n",
    "gram_schmidt(R)"
   ]
  },
  {
   "cell_type": "markdown",
   "id": "98ebf2d0-b6c1-4269-9460-258c21385cfe",
   "metadata": {},
   "source": [
    "Now the problem claims if a matrix $R$ is upper triangular with nonzero diagonal then $L = R^T$ is lower triangular with the same diagnoal (shown above) the following formula can be used to find the inverse of the transpose $(L^T)^{-1}  = (L^{-1})^T$."
   ]
  },
  {
   "cell_type": "code",
   "execution_count": 10,
   "id": "edc99963-96ed-406d-89d6-38d6f6fd90c7",
   "metadata": {},
   "outputs": [
    {
     "data": {
      "text/plain": [
       "array([[1., 0., 0.],\n",
       "       [0., 1., 0.],\n",
       "       [0., 0., 1.]])"
      ]
     },
     "execution_count": 10,
     "metadata": {},
     "output_type": "execute_result"
    }
   ],
   "source": [
    "L = R.T\n",
    "#compute the inverse of L transposed\n",
    "R_inverse = np.linalg.inv(L.T)\n",
    "#matrix multiplication of R and it's inverse should result in I. Some rounding error so drop small elements. \n",
    "I = R@R_inverse\n",
    "I[I < 0.00001] = 0\n",
    "I"
   ]
  },
  {
   "cell_type": "markdown",
   "id": "4d2343e8-5767-4338-b972-60c0641c7e26",
   "metadata": {},
   "source": [
    "Next for the proof I'll replicate it via python. Here we want to show the columns of matrix $L$ of size $n*n$ are linerally independent, this is, $Lx = 0$.   \n",
    "\n",
    "First let us show all items in the lower triangluar corner and along the non zero diagonal are $L_{i,j} \\neq 0.$ "
   ]
  },
  {
   "cell_type": "code",
   "execution_count": 11,
   "id": "6cc28e2e-2db0-4b9c-bd05-995782e9890f",
   "metadata": {},
   "outputs": [
    {
     "name": "stdout",
     "output_type": "stream",
     "text": [
      "Print True if the value in the array is zero else false: \n",
      "\n",
      " [[1 0 0]\n",
      " [4 5 0]\n",
      " [7 8 9]] \n",
      "\n",
      " [[False  True  True]\n",
      " [False False  True]\n",
      " [False False False]]\n"
     ]
    }
   ],
   "source": [
    "print(\"Print True if the value in the array is zero else false: \\n\\n\",L, \"\\n\\n\",L == 0)"
   ]
  },
  {
   "cell_type": "markdown",
   "id": "958c0876-3e2f-4cf0-ae60-633f33c8ee81",
   "metadata": {},
   "source": [
    "Now this implies that the only way $Lx = 0$ is if all the entries of $x$ are zero. For example, in the next cell we run the computation 100000 times with a different x each time. The result is appended as a list and the accumulated list is converted to an array. Finally the result is checked to see if any of the results are zero vectors, which they should not be."
   ]
  },
  {
   "cell_type": "code",
   "execution_count": 12,
   "id": "cbb763fa-b68f-4da0-9086-6b2371464f1c",
   "metadata": {},
   "outputs": [
    {
     "data": {
      "text/plain": [
       "False"
      ]
     },
     "execution_count": 12,
     "metadata": {},
     "output_type": "execute_result"
    }
   ],
   "source": [
    "r = []\n",
    "n,n = L.shape\n",
    "zero = np.zeros(n)\n",
    "for i in range(100000):\n",
    "    x = np.random.rand(n)\n",
    "    r.append(L@x == zero) #this should never return true\n",
    "result = np.array(r)\n",
    "result.any()#are any of the results true"
   ]
  },
  {
   "cell_type": "code",
   "execution_count": 13,
   "id": "b211b5b3-20a7-43dc-ae5c-0eb842bd34b3",
   "metadata": {},
   "outputs": [
    {
     "data": {
      "text/plain": [
       "True"
      ]
     },
     "execution_count": 13,
     "metadata": {},
     "output_type": "execute_result"
    }
   ],
   "source": [
    "r = []\n",
    "n,n = L.shape\n",
    "zero = np.zeros(n)\n",
    "for i in range(100000):\n",
    "    x = np.random.rand(n)\n",
    "    r.append(L@zero == zero) #\n",
    "result = np.array(r)\n",
    "result.any()#are any of the results true"
   ]
  },
  {
   "cell_type": "markdown",
   "id": "3e8fbc95-6e18-4ac5-8575-3068f0ce5920",
   "metadata": {},
   "source": [
    "# 11.2 Left and Right Inverse\n",
    "Left inverse: $XA = I$\n",
    "\n",
    "Right inverse: $AX = I$\n",
    "\n",
    "Here I will let $x$ be a nonzero $n$-vector with size greater than 1.\n",
    "\n",
    "__a)__ Is there a left inverse for $x$\n",
    "\n",
    "Yes - for any index i with $a_i \\neq 0$, the row $n$-vector $x = (\\frac{1}{a_i})e^T_i$ satisfies $xa = 1$. $a$ is of size $n*1$ or is a tall matrix with one column. Here is an example showing this for all $i$ for $i = 1,...,n$. \n",
    "\n",
    "pg.199"
   ]
  },
  {
   "cell_type": "code",
   "execution_count": 14,
   "id": "2ac52bd6-8dcc-4bc4-84dc-261fa469315c",
   "metadata": {},
   "outputs": [
    {
     "name": "stdout",
     "output_type": "stream",
     "text": [
      "[1.]\n",
      "[1.]\n",
      "[1.]\n",
      "[1.]\n",
      "[1.]\n",
      "[1.]\n",
      "[1.]\n",
      "[1.]\n",
      "[1.]\n",
      "[1.]\n",
      "[1.]\n",
      "[1.]\n",
      "[1.]\n",
      "[1.]\n",
      "[1.]\n",
      "[1.]\n",
      "[1.]\n",
      "[1.]\n",
      "[1.]\n",
      "[1.]\n"
     ]
    }
   ],
   "source": [
    "a = np.random.randint(1,20,size = (20,1)) #set range between 1 and n as we want to show the above holds for all i.\n",
    "n = a.shape\n",
    "x_i = []\n",
    "for i in range(n[0]):\n",
    "    e_i = np.zeros(n)\n",
    "    #i = 3\n",
    "    e_i[i] = 1 #change single value to one to create our unit vector e_i\n",
    "    #compute x using any i in array which does not eqaul 0. This is the inverse of a\n",
    "    x_i = (1/a[i])*e_i.T \n",
    "\n",
    "    #show the xa = 1 for all i\n",
    "    l = (x_i@a)\n",
    "    #\n",
    "    cleanupArray = list(itertools.chain(*l))\n",
    "    print(np.array(cleanupArray))"
   ]
  },
  {
   "cell_type": "markdown",
   "id": "f74cb3d8-90bd-4026-88a7-54b53301fd8f",
   "metadata": {},
   "source": [
    "### b\n",
    "We are looking for a matrix $A$ which satifies the following matrix function \n",
    "\n",
    "__Right inverse:__ $AX = I$\n",
    "\n",
    "From pg 201 of VMLS we know only square and wide matricies can be right-invertable. Since our matrix is tall we know there is no right inverse. "
   ]
  },
  {
   "cell_type": "markdown",
   "id": "4c2ca515-0496-439a-a307-932a5b04ab04",
   "metadata": {},
   "source": [
    "# 11.3"
   ]
  },
  {
   "cell_type": "markdown",
   "id": "9da508f1-c1ed-4e9b-83bc-bf959616e6c4",
   "metadata": {},
   "source": [
    "Show that any random nonzero matrix $A$ is insufficent to conclude $X=Y$. Both sides of the equality $AX=AY$ are right inverses and we would expect the result of $AX = AY = I$"
   ]
  },
  {
   "cell_type": "code",
   "execution_count": 15,
   "id": "019eff9e-c22d-457a-9620-72fc1ab6674e",
   "metadata": {},
   "outputs": [
    {
     "name": "stdout",
     "output_type": "stream",
     "text": [
      "X = \n",
      " [0 1 0 1 0 1 0 1 0 1] \n",
      "\n",
      "Y = \n",
      " [0 0 0 0 0 0 0 0 0 0] \n",
      "\n",
      "Does X == Y : \n",
      " False \n",
      "\n",
      "AX = \n",
      " 0 \n",
      "\n",
      " AY = \n",
      " 0 \n",
      "\n",
      " A@X == A@Y :\n",
      " True\n"
     ]
    }
   ],
   "source": [
    "#a\n",
    "A = np.array([1,0,1,0,1,0,1,0,1,0]) \n",
    "X = np.array([0,1,0,1,0,1,0,1,0,1]) \n",
    "Y  = np.array([0,0,0,0,0,0,0,0,0,0])\n",
    "A@X==A@Y# we get the same result but X !=Y\n",
    "#eval AX and eval AY show this random matrix A does not work here.  \n",
    "print(\"X = \\n\",X,\"\\n\\nY = \\n\",Y,\"\\n\\nDoes X == Y : \\n\",all(X==Y),\"\\n\\nAX = \\n\",A@X,\"\\n\\n\",\"AY = \\n\",A@Y,\"\\n\\n\",\"A@X == A@Y :\\n\",A@X == A@Y)"
   ]
  },
  {
   "cell_type": "markdown",
   "id": "18c21e5d-ce5c-40a7-8564-1c4a86e0afe5",
   "metadata": {},
   "source": [
    "### b"
   ]
  },
  {
   "cell_type": "code",
   "execution_count": 16,
   "id": "00b19419-f68c-4a13-8dc8-7d3252ef9e04",
   "metadata": {},
   "outputs": [],
   "source": [
    "#b \n",
    "A = np.random.randint(1,20,size = (2,2)) \n",
    "X = np.random.randint(1,20,size = (2,2)) \n",
    "Y = X #let Y == X\n",
    "#find the inverse of A and call it B\n",
    "B = np.linalg.inv(A)"
   ]
  },
  {
   "cell_type": "markdown",
   "id": "b711ca68-270d-4152-b731-687da506b8a1",
   "metadata": {},
   "source": [
    "Let's multiply both side of the the funtion $AX = AY$ by B. The gives $B(AX) = B(AY)$ and by reassociation we get $BA(X) = BA(Y)$. Now lets show that $BA=I$.  "
   ]
  },
  {
   "cell_type": "code",
   "execution_count": 17,
   "id": "80b95d0c-ce6d-4965-9e26-47971a904c8b",
   "metadata": {},
   "outputs": [
    {
     "name": "stdout",
     "output_type": "stream",
     "text": [
      "BA = \n",
      " [[1. 0.]\n",
      " [0. 1.]]\n"
     ]
    }
   ],
   "source": [
    "BA = B@A\n",
    "BA[BA < 0.00001] = 0\n",
    "print(\"BA = \\n\", BA)"
   ]
  },
  {
   "cell_type": "markdown",
   "id": "d7ac1db4-19a6-40e7-9b1c-010bf264f47c",
   "metadata": {},
   "source": [
    "From this we can conclude that $X==Y$ and here is an example to show this is true. "
   ]
  },
  {
   "cell_type": "code",
   "execution_count": 18,
   "id": "ac9fae91-a3de-4505-b33b-fc5c6da0f4e0",
   "metadata": {},
   "outputs": [
    {
     "data": {
      "text/plain": [
       "array([[ True,  True],\n",
       "       [ True,  True]])"
      ]
     },
     "execution_count": 18,
     "metadata": {},
     "output_type": "execute_result"
    }
   ],
   "source": [
    "(BA@X == BA@Y) == (A@X == A@Y)"
   ]
  },
  {
   "cell_type": "markdown",
   "id": "550c0d32-eb14-4556-8d93-6b99f03813a7",
   "metadata": {},
   "source": [
    "### C\n",
    "\n",
    "Here a is not invertable as more than one of the columns is zero. Therefore the columns are linearlly dependent, but we can show that there are matricies $X$ and $Y$ with $X \\neq Y$ and $AX = AY$"
   ]
  },
  {
   "cell_type": "code",
   "execution_count": 19,
   "id": "176eb388-1846-4eac-9ff9-eee16d0ef858",
   "metadata": {},
   "outputs": [
    {
     "data": {
      "text/plain": [
       "array([[ True,  True,  True],\n",
       "       [ True,  True,  True],\n",
       "       [ True,  True,  True]])"
      ]
     },
     "execution_count": 19,
     "metadata": {},
     "output_type": "execute_result"
    }
   ],
   "source": [
    "#c credit to Trent Resh and Cooper Ide for posting hints for parts C on piazza \n",
    "a  = np.array([[1,0,0],[1,0,0],[1,0,0]])\n",
    "#x and y share the same first row, but differ in all other inputs\n",
    "x = np.array([[2,2,2],[5,4,2],[3,2,1]])\n",
    "y = np.array([[2,2,2],[4,5,6],[4,5,6]])\n",
    "a@x==a@y"
   ]
  },
  {
   "cell_type": "markdown",
   "id": "65db5ef2-fab2-4216-9477-b1bdb24f8751",
   "metadata": {},
   "source": [
    "# 11.4"
   ]
  },
  {
   "cell_type": "markdown",
   "id": "cc7f961f-a584-48f3-baa3-453d70969624",
   "metadata": {},
   "source": [
    "Lets create a n*n matrix and run gram-schmidt on it to get a set of orthonormalized vectors. Then we can use this for the problem. "
   ]
  },
  {
   "cell_type": "code",
   "execution_count": 20,
   "id": "b2ad7823-0a82-4963-91cf-f5ba45109ef0",
   "metadata": {},
   "outputs": [
    {
     "name": "stdout",
     "output_type": "stream",
     "text": [
      "Vectors are linearly independent.\n"
     ]
    }
   ],
   "source": [
    "A = np.random.randint(1,20,size = (10,10))\n",
    "Q = gram_schmidt(A)\n",
    "q = np.array(Q)"
   ]
  },
  {
   "cell_type": "markdown",
   "id": "0d045483-81e0-4389-86f9-1cb958760472",
   "metadata": {},
   "source": [
    "Since $U$ is sqaure we can show that $U^TU = I$ and at the same time show the inverse of $U$ is simply $U^T$"
   ]
  },
  {
   "cell_type": "code",
   "execution_count": 21,
   "id": "431d6625-9d04-4da8-8a3f-67468528fdb5",
   "metadata": {},
   "outputs": [
    {
     "data": {
      "text/plain": [
       "array([[1., 0., 0., 0., 0., 0., 0., 0., 0., 0.],\n",
       "       [0., 1., 0., 0., 0., 0., 0., 0., 0., 0.],\n",
       "       [0., 0., 1., 0., 0., 0., 0., 0., 0., 0.],\n",
       "       [0., 0., 0., 1., 0., 0., 0., 0., 0., 0.],\n",
       "       [0., 0., 0., 0., 1., 0., 0., 0., 0., 0.],\n",
       "       [0., 0., 0., 0., 0., 1., 0., 0., 0., 0.],\n",
       "       [0., 0., 0., 0., 0., 0., 1., 0., 0., 0.],\n",
       "       [0., 0., 0., 0., 0., 0., 0., 1., 0., 0.],\n",
       "       [0., 0., 0., 0., 0., 0., 0., 0., 1., 0.],\n",
       "       [0., 0., 0., 0., 0., 0., 0., 0., 0., 1.]])"
      ]
     },
     "execution_count": 21,
     "metadata": {},
     "output_type": "execute_result"
    }
   ],
   "source": [
    "qTq = q.T@q\n",
    "qTq[qTq < 0.00001] = 0\n",
    "qTq"
   ]
  },
  {
   "cell_type": "markdown",
   "id": "f4315e92-bb6c-41a1-975d-7a0eb919e4b0",
   "metadata": {},
   "source": [
    "We see that $q^Tq = I$ and therefore can conclude that $q^T$ is the inverse of $q$. We can also show that $qq^T = I$"
   ]
  },
  {
   "cell_type": "code",
   "execution_count": 22,
   "id": "ac342a43-b245-4789-a80f-b8ea104b5076",
   "metadata": {},
   "outputs": [
    {
     "data": {
      "text/plain": [
       "array([[1., 0., 0., 0., 0., 0., 0., 0., 0., 0.],\n",
       "       [0., 1., 0., 0., 0., 0., 0., 0., 0., 0.],\n",
       "       [0., 0., 1., 0., 0., 0., 0., 0., 0., 0.],\n",
       "       [0., 0., 0., 1., 0., 0., 0., 0., 0., 0.],\n",
       "       [0., 0., 0., 0., 1., 0., 0., 0., 0., 0.],\n",
       "       [0., 0., 0., 0., 0., 1., 0., 0., 0., 0.],\n",
       "       [0., 0., 0., 0., 0., 0., 1., 0., 0., 0.],\n",
       "       [0., 0., 0., 0., 0., 0., 0., 1., 0., 0.],\n",
       "       [0., 0., 0., 0., 0., 0., 0., 0., 1., 0.],\n",
       "       [0., 0., 0., 0., 0., 0., 0., 0., 0., 1.]])"
      ]
     },
     "execution_count": 22,
     "metadata": {},
     "output_type": "execute_result"
    }
   ],
   "source": [
    "qqT = q@q.T\n",
    "qqT[qqT < 0.00001] = 0\n",
    "qqT"
   ]
  },
  {
   "cell_type": "markdown",
   "id": "f632dcd3-af51-4330-b74c-f50ed335a1d7",
   "metadata": {},
   "source": [
    "Finally since the transpose of $q$ is the inverse of $q$ we can conclude the matrix $q^T$ is orthogonal. "
   ]
  },
  {
   "cell_type": "markdown",
   "id": "ed48a9ed-c656-4a8f-b5b7-bbcc75f9d676",
   "metadata": {},
   "source": [
    "# 11.15"
   ]
  },
  {
   "cell_type": "markdown",
   "id": "6b4dfa37-312b-44a0-a2bb-4774b2b9bdfd",
   "metadata": {},
   "source": [
    "Starting with things that do not work. In the next cell make $d_1 = 0$."
   ]
  },
  {
   "cell_type": "code",
   "execution_count": 23,
   "id": "8b8096cd-49fa-4f9e-914e-727fdda02718",
   "metadata": {},
   "outputs": [
    {
     "data": {
      "text/plain": [
       "array([[0.89137207, 0.37033185, 0.16621556, 0.42551929, 0.69613119],\n",
       "       [0.73791689, 0.        , 0.        , 0.        , 0.        ],\n",
       "       [0.        , 0.        , 0.        , 0.        , 0.        ],\n",
       "       [0.        , 0.        , 0.24561207, 0.        , 0.        ],\n",
       "       [0.        , 0.        , 0.        , 0.31926024, 0.        ]])"
      ]
     },
     "execution_count": 23,
     "metadata": {},
     "output_type": "execute_result"
    }
   ],
   "source": [
    "b = np.random.rand(5) #b_i greater than eqaul to zero\n",
    "n = b.shape\n",
    "d = np.random.rand(n[0]-1)\n",
    "oneMinusd = 1-d\n",
    "##\n",
    "# set one element to 1\n",
    "#let d_k = 1 for some k which means 1-d_k = 1-1 = 0. Simply make one of\n",
    "oneMinusd[1] = 1 \n",
    "\n",
    "#create rows 1 to n \n",
    "z = np.zeros((n[0]-1,n[0]))\n",
    "for i in range(n[0]-1):\n",
    "    #print(i,i)\n",
    "    z[i,i] = 1-oneMinusd[i]\n",
    "    \n",
    "#create Population dynamics matrix shown in problem \n",
    "A = np.vstack((b,z))\n",
    "A"
   ]
  },
  {
   "cell_type": "markdown",
   "id": "64717c93-ad21-4b65-8988-f20ac5adda15",
   "metadata": {},
   "source": [
    "Since $d_1 = 0$ the $(k+1)th$ row of $A$ is zero, which in this case is row 2, so the rows are linerally dependent and $A$ is not invertable. \n",
    "\n",
    "We can show this using gram schmidt. "
   ]
  },
  {
   "cell_type": "code",
   "execution_count": 24,
   "id": "ad9dbeca-7131-40a1-ba4c-5bb158ba9709",
   "metadata": {},
   "outputs": [
    {
     "name": "stdout",
     "output_type": "stream",
     "text": [
      "Vectors are linearly dependent.\n",
      "GS algorithm terminates at iteration  3\n"
     ]
    },
    {
     "data": {
      "text/plain": [
       "[array([0.69925349, 0.29051375, 0.1303909 , 0.33380657, 0.54609313]),\n",
       " array([ 0.7148738 , -0.28416589, -0.1275418 , -0.32651274, -0.53416075])]"
      ]
     },
     "execution_count": 24,
     "metadata": {},
     "output_type": "execute_result"
    }
   ],
   "source": [
    "gram_schmidt(A)"
   ]
  },
  {
   "cell_type": "markdown",
   "id": "fe1438df-05b5-4ff7-8689-fb5bc63a73c4",
   "metadata": {},
   "source": [
    "Now let $b_n = 0$ and again show that the columns are linerally dependent do to the last column being all zeros. "
   ]
  },
  {
   "cell_type": "code",
   "execution_count": 25,
   "id": "2786946a-c6cc-4a98-84c4-bec02ab66126",
   "metadata": {},
   "outputs": [
    {
     "name": "stdout",
     "output_type": "stream",
     "text": [
      "A : \n",
      " [[0.61781597 0.91887567 0.36161998 0.83210086 0.        ]\n",
      " [0.72174245 0.         0.         0.         0.        ]\n",
      " [0.         0.77467359 0.         0.         0.        ]\n",
      " [0.         0.         0.48168227 0.         0.        ]\n",
      " [0.         0.         0.         0.93350766 0.        ]]\n"
     ]
    }
   ],
   "source": [
    "b = np.random.rand(5) #b_i greater than eqaul to zero\n",
    "n = b.shape\n",
    "d = np.random.rand(n[0]-1)\n",
    "oneMinusd = 1-d\n",
    "\n",
    "#create rows 1 to n \n",
    "z = np.zeros((n[0]-1,n[0]))\n",
    "for i in range(n[0]-1):\n",
    "    #print(i,i)\n",
    "    z[i,i] = 1-oneMinusd[i]\n",
    "    \n",
    "#create Population dynamics matrix shown in problem \n",
    "A = np.vstack((b,z))\n",
    "#\n",
    "A[0,4] = 0\n",
    "print(\"A : \\n\", A)"
   ]
  },
  {
   "cell_type": "code",
   "execution_count": 26,
   "id": "d943f6b9-7aad-4f72-9812-9793fcc9588f",
   "metadata": {},
   "outputs": [
    {
     "name": "stdout",
     "output_type": "stream",
     "text": [
      "Vectors are linearly dependent.\n",
      "GS algorithm terminates at iteration  5\n"
     ]
    },
    {
     "data": {
      "text/plain": [
       "[array([0.65029343, 0.75968313, 0.        , 0.        , 0.        ]),\n",
       " array([ 0.50854249, -0.4353155 ,  0.7428896 ,  0.        ,  0.        ]),\n",
       " array([ 0.22016781, -0.188465  , -0.26115108,  0.92076446,  0.        ]),\n",
       " array([ 0.21840428, -0.18695541, -0.25905928, -0.16396566,  0.90738679])]"
      ]
     },
     "execution_count": 26,
     "metadata": {},
     "output_type": "execute_result"
    }
   ],
   "source": [
    "gram_schmidt(A.T)"
   ]
  },
  {
   "cell_type": "markdown",
   "id": "3e705205-531e-43be-8d8f-ad835fc39e31",
   "metadata": {},
   "source": [
    "### What will work\n",
    "\n",
    "If $d<1$ for $i = 1, ..., n$ and $b_n > 0$ we can show that $Ax = 0$ implies $x = 0$. For example lets start with showing such a matrix $A$ has linerally independent columns and rows. "
   ]
  },
  {
   "cell_type": "code",
   "execution_count": 27,
   "id": "38de4f04-2e64-4366-b4f7-15a77a4a96b6",
   "metadata": {},
   "outputs": [
    {
     "name": "stdout",
     "output_type": "stream",
     "text": [
      "Vectors are linearly independent.\n",
      "Vectors are linearly independent.\n"
     ]
    },
    {
     "data": {
      "text/plain": [
       "[array([0.89905414, 0.43783747, 0.        , 0.        , 0.        ]),\n",
       " array([ 0.43600505, -0.89529145,  0.09139378,  0.        ,  0.        ]),\n",
       " array([ 0.0020127 , -0.00413288, -0.05008744,  0.99873426,  0.        ]),\n",
       " array([ 3.01802438e-04, -6.19720218e-04, -7.51055046e-03, -3.79833683e-04,\n",
       "         9.99971486e-01]),\n",
       " array([ 0.03996383, -0.08206161, -0.99452603, -0.05029651, -0.00755167])]"
      ]
     },
     "execution_count": 27,
     "metadata": {},
     "output_type": "execute_result"
    }
   ],
   "source": [
    "b = np.random.rand(5) #b_i greater than eqaul to zero\n",
    "n = b.shape\n",
    "d = np.random.rand(n[0]-1)\n",
    "oneMinusd = 1-d\n",
    "\n",
    "#create rows 1 to n \n",
    "z = np.zeros((n[0]-1,n[0]))\n",
    "for i in range(n[0]-1):\n",
    "    #print(i,i)\n",
    "    z[i,i] = 1-oneMinusd[i]\n",
    "    \n",
    "#create Population dynamics matrix shown in problem \n",
    "A = np.vstack((b,z))\n",
    "gram_schmidt(A)\n",
    "gram_schmidt(A.T)"
   ]
  },
  {
   "cell_type": "markdown",
   "id": "2baaccb3-943a-4c28-ab5f-26c905afd768",
   "metadata": {},
   "source": [
    "Now we know A is square with linearlly independent columns and rows so it is invertable. We know that $Ax = 0$ and the row wise inner product of A and the $n$-vecotor x can only eqaul zero if all $x_i$ for $i = 1, ...,n $ equals zero. For example, in the first cell we run the computation 1000 times with a different x each time. The result is appended as a list and the accumulated list is converted to an array. Finally the result is checked to see if any of the results are zero vectors, which they should not be."
   ]
  },
  {
   "cell_type": "code",
   "execution_count": 28,
   "id": "02867e9d-f21d-4a92-9cfc-d67e707ed7c4",
   "metadata": {},
   "outputs": [
    {
     "data": {
      "text/plain": [
       "False"
      ]
     },
     "execution_count": 28,
     "metadata": {},
     "output_type": "execute_result"
    }
   ],
   "source": [
    "r = []\n",
    "for i in range(1000):\n",
    "    x = np.random.rand(n[0])\n",
    "    zero = np.zeros(n[0])\n",
    "    r.append(A@x == zero) #this should never return true\n",
    "result = np.array(r)\n",
    "result.any()#are any of the results true"
   ]
  },
  {
   "cell_type": "markdown",
   "id": "eb2fca8c-120b-448e-805d-1cdc86713dd5",
   "metadata": {},
   "source": [
    "This next cell show that $Ax = 0$ if x if all $x_i = 0$."
   ]
  },
  {
   "cell_type": "code",
   "execution_count": 29,
   "id": "34c3dc1f-5f0c-4072-8fe9-ddbe2a533af0",
   "metadata": {},
   "outputs": [
    {
     "data": {
      "text/plain": [
       "True"
      ]
     },
     "execution_count": 29,
     "metadata": {},
     "output_type": "execute_result"
    }
   ],
   "source": [
    "#show that it does return a zero vector when x is all zeros\n",
    "r = []\n",
    "for i in range(1000):\n",
    "    #x = np.random.rand(n[0])\n",
    "    zero = np.zeros(n[0])\n",
    "    r.append(A@zero == zero) #\n",
    "result = np.array(r)\n",
    "result.all()#are all of the results true"
   ]
  },
  {
   "cell_type": "markdown",
   "id": "2c4487a7-b460-449b-8df8-6164bef7c5b5",
   "metadata": {},
   "source": [
    "# 11.16\n",
    "\n",
    "Let's start by creating a running sum matrix of size $n*n$, call it $S$ and an n-vector x. "
   ]
  },
  {
   "cell_type": "code",
   "execution_count": 30,
   "id": "58027385-ce4f-4537-a58b-59a3572b7e94",
   "metadata": {},
   "outputs": [
    {
     "data": {
      "text/plain": [
       "array([[1., 0., 0., 0., 0., 0., 0., 0., 0., 0.],\n",
       "       [1., 1., 0., 0., 0., 0., 0., 0., 0., 0.],\n",
       "       [1., 1., 1., 0., 0., 0., 0., 0., 0., 0.],\n",
       "       [1., 1., 1., 1., 0., 0., 0., 0., 0., 0.],\n",
       "       [1., 1., 1., 1., 1., 0., 0., 0., 0., 0.],\n",
       "       [1., 1., 1., 1., 1., 1., 0., 0., 0., 0.],\n",
       "       [1., 1., 1., 1., 1., 1., 1., 0., 0., 0.],\n",
       "       [1., 1., 1., 1., 1., 1., 1., 1., 0., 0.],\n",
       "       [1., 1., 1., 1., 1., 1., 1., 1., 1., 0.],\n",
       "       [1., 1., 1., 1., 1., 1., 1., 1., 1., 1.]])"
      ]
     },
     "execution_count": 30,
     "metadata": {},
     "output_type": "execute_result"
    }
   ],
   "source": [
    "#create running sum matrix \n",
    "n = 10\n",
    "S = np.tril(np.ones((n,n)))\n",
    "S"
   ]
  },
  {
   "cell_type": "code",
   "execution_count": 31,
   "id": "bd13cc58-69f0-417c-a34c-c65900b79e78",
   "metadata": {},
   "outputs": [
    {
     "data": {
      "text/plain": [
       "array([2.96553141, 5.00616719, 9.58259091, 5.81349045, 4.11707133,\n",
       "       5.02902361, 4.27436201, 0.79226821, 1.19982661, 7.67760946])"
      ]
     },
     "execution_count": 31,
     "metadata": {},
     "output_type": "execute_result"
    }
   ],
   "source": [
    "x = 10*np.random.rand(n)\n",
    "x"
   ]
  },
  {
   "cell_type": "markdown",
   "id": "aa9773d2-7cad-4412-ab1e-b4b81121927c",
   "metadata": {},
   "source": [
    "The running sum matrix can be used to compute the $i$th entry of an $n$-vector. This is, $Sx$ can be used to compute the sum of the first $i$ entries of $x$. \n",
    "\n",
    "$Sx = \\begin{bmatrix} x_1 \\\\ x_1+x_2 \\\\ x_1+x_2+x_3 \\\\...\\\\ x_1+...+x_n \\end{bmatrix}$\n",
    "\n",
    "Here is a simple example of computing the running sum of vector $x$ in python. "
   ]
  },
  {
   "cell_type": "code",
   "execution_count": 32,
   "id": "6470b0c9-be88-4027-8ff7-79e6c4a44c07",
   "metadata": {},
   "outputs": [
    {
     "data": {
      "text/plain": [
       "array([ 2.96553141,  7.9716986 , 17.55428952, 23.36777996, 27.4848513 ,\n",
       "       32.51387491, 36.78823692, 37.58050513, 38.78033174, 46.4579412 ])"
      ]
     },
     "execution_count": 32,
     "metadata": {},
     "output_type": "execute_result"
    }
   ],
   "source": [
    "S@x"
   ]
  },
  {
   "cell_type": "markdown",
   "id": "31b18797-1a93-4499-bf8c-15d6bd7314ea",
   "metadata": {},
   "source": [
    "Now lets compute the inverse of such a running matrix and look at it. "
   ]
  },
  {
   "cell_type": "code",
   "execution_count": 33,
   "id": "76fee606-ab93-4d7d-b4ac-bcf29d9c2dda",
   "metadata": {},
   "outputs": [
    {
     "data": {
      "text/plain": [
       "array([[ 1.,  0.,  0.,  0.,  0.,  0.,  0.,  0.,  0.,  0.],\n",
       "       [-1.,  1.,  0.,  0.,  0.,  0.,  0.,  0.,  0.,  0.],\n",
       "       [ 0., -1.,  1.,  0.,  0.,  0.,  0.,  0.,  0.,  0.],\n",
       "       [ 0.,  0., -1.,  1.,  0.,  0.,  0.,  0.,  0.,  0.],\n",
       "       [ 0.,  0.,  0., -1.,  1.,  0.,  0.,  0.,  0.,  0.],\n",
       "       [ 0.,  0.,  0.,  0., -1.,  1.,  0.,  0.,  0.,  0.],\n",
       "       [ 0.,  0.,  0.,  0.,  0., -1.,  1.,  0.,  0.,  0.],\n",
       "       [ 0.,  0.,  0.,  0.,  0.,  0., -1.,  1.,  0.,  0.],\n",
       "       [ 0.,  0.,  0.,  0.,  0.,  0.,  0., -1.,  1.,  0.],\n",
       "       [ 0.,  0.,  0.,  0.,  0.,  0.,  0.,  0., -1.,  1.]])"
      ]
     },
     "execution_count": 33,
     "metadata": {},
     "output_type": "execute_result"
    }
   ],
   "source": [
    "#compute the left inverse\n",
    "inv = np.linalg.inv(S)\n",
    "inv"
   ]
  },
  {
   "cell_type": "markdown",
   "id": "34c5c990-7027-4a62-b189-3c41fd4e0dc0",
   "metadata": {},
   "source": [
    "Show that this is indeed the left inverse of such a running matrix. We can do this by showing $S^{-1}S = I$"
   ]
  },
  {
   "cell_type": "code",
   "execution_count": 34,
   "id": "be7a4c7e-ba46-44a8-b62e-01d2255acd2a",
   "metadata": {},
   "outputs": [
    {
     "data": {
      "text/plain": [
       "array([[1., 0., 0., 0., 0., 0., 0., 0., 0., 0.],\n",
       "       [0., 1., 0., 0., 0., 0., 0., 0., 0., 0.],\n",
       "       [0., 0., 1., 0., 0., 0., 0., 0., 0., 0.],\n",
       "       [0., 0., 0., 1., 0., 0., 0., 0., 0., 0.],\n",
       "       [0., 0., 0., 0., 1., 0., 0., 0., 0., 0.],\n",
       "       [0., 0., 0., 0., 0., 1., 0., 0., 0., 0.],\n",
       "       [0., 0., 0., 0., 0., 0., 1., 0., 0., 0.],\n",
       "       [0., 0., 0., 0., 0., 0., 0., 1., 0., 0.],\n",
       "       [0., 0., 0., 0., 0., 0., 0., 0., 1., 0.],\n",
       "       [0., 0., 0., 0., 0., 0., 0., 0., 0., 1.]])"
      ]
     },
     "execution_count": 34,
     "metadata": {},
     "output_type": "execute_result"
    }
   ],
   "source": [
    "inv@S"
   ]
  },
  {
   "cell_type": "markdown",
   "id": "ab064092-312e-41f7-bc5f-298637b2ce57",
   "metadata": {},
   "source": [
    "Show that the muliplication of the inverse of $x$ and $x$ returns the difference matrix of $x$."
   ]
  },
  {
   "cell_type": "code",
   "execution_count": 35,
   "id": "dca43595-27d0-4d0a-bfe6-2a526e5b9933",
   "metadata": {},
   "outputs": [
    {
     "data": {
      "text/plain": [
       "array([ 2.96553141,  2.04063578,  4.57642372, -3.76910046, -1.69641911,\n",
       "        0.91195228, -0.75466161, -3.48209379,  0.4075584 ,  6.47778284])"
      ]
     },
     "execution_count": 35,
     "metadata": {},
     "output_type": "execute_result"
    }
   ],
   "source": [
    "inv@x"
   ]
  },
  {
   "cell_type": "markdown",
   "id": "a49d4f43-babb-44a6-9a11-c3dda93c4c3f",
   "metadata": {},
   "source": [
    "Compute differnce matrix of x using numpy. Note numpy only returns results where the differnce is computed and does not include the first element as it is $x_1$ and computes no differnce. When using the matrix multiplication the first element is retuned in the result. "
   ]
  },
  {
   "cell_type": "code",
   "execution_count": 36,
   "id": "44eda5b8-e2ba-4c8f-b5fd-04ce4bed5738",
   "metadata": {},
   "outputs": [
    {
     "data": {
      "text/plain": [
       "array([ 2.04063578,  4.57642372, -3.76910046, -1.69641911,  0.91195228,\n",
       "       -0.75466161, -3.48209379,  0.4075584 ,  6.47778284])"
      ]
     },
     "execution_count": 36,
     "metadata": {},
     "output_type": "execute_result"
    }
   ],
   "source": [
    "np.diff(x)"
   ]
  },
  {
   "cell_type": "markdown",
   "id": "b3ee40d6-00a5-4ab6-b4f8-a7f77d67c91f",
   "metadata": {},
   "source": [
    "Here the running sum returns the sum of the first i entries. So the inverse being a matrix like the difference matrix makes sence as it is esentaially the reverse process of the running sum matrix computation. "
   ]
  }
 ],
 "metadata": {
  "kernelspec": {
   "display_name": "Python 3",
   "language": "python",
   "name": "python3"
  },
  "language_info": {
   "codemirror_mode": {
    "name": "ipython",
    "version": 3
   },
   "file_extension": ".py",
   "mimetype": "text/x-python",
   "name": "python",
   "nbconvert_exporter": "python",
   "pygments_lexer": "ipython3",
   "version": "3.8.8"
  }
 },
 "nbformat": 4,
 "nbformat_minor": 5
}
